{
 "cells": [
  {
   "cell_type": "markdown",
   "metadata": {
    "lc_cell_meme": {
     "current": "f60d962a-7d8a-11eb-aa43-02420a01004f-1-e5e0",
     "history": [
      {
       "current": "f60d962a-7d8a-11eb-aa43-02420a01004f-1-e5e0",
       "next": "f60d981e-7d8a-11eb-aa43-02420a01004f",
       "previous": null
      }
     ],
     "next": "f60d981e-7d8a-11eb-aa43-02420a01004f-1-33e1",
     "previous": null
    }
   },
   "source": [
    "# ユーザーをグループに追加します\n",
    "\n",
    "ユーザーをグループに追加します。JupyterHub上にユーザーが作成済みである必要があります。\n",
    "\n",
    "所属グループに応じたリソース制限設定に使用します。"
   ]
  },
  {
   "cell_type": "markdown",
   "metadata": {
    "lc_cell_meme": {
     "current": "f60d981e-7d8a-11eb-aa43-02420a01004f-1-33e1",
     "history": [
      {
       "current": "f60d981e-7d8a-11eb-aa43-02420a01004f-1-33e1",
       "next": "f60d999a-7d8a-11eb-aa43-02420a01004f",
       "previous": "f60d962a-7d8a-11eb-aa43-02420a01004f"
      }
     ],
     "next": "f60d999a-7d8a-11eb-aa43-02420a01004f-1-0379",
     "previous": "f60d962a-7d8a-11eb-aa43-02420a01004f-1-e5e0"
    }
   },
   "source": [
    "# グループの定義"
   ]
  },
  {
   "cell_type": "markdown",
   "metadata": {
    "lc_cell_meme": {
     "current": "f60d999a-7d8a-11eb-aa43-02420a01004f-1-0379",
     "history": [
      {
       "current": "f60d999a-7d8a-11eb-aa43-02420a01004f-1-0379",
       "next": "f60d9b20-7d8a-11eb-aa43-02420a01004f",
       "previous": "f60d981e-7d8a-11eb-aa43-02420a01004f"
      }
     ],
     "next": "f60d9b20-7d8a-11eb-aa43-02420a01004f-1-6321",
     "previous": "f60d981e-7d8a-11eb-aa43-02420a01004f-1-33e1"
    }
   },
   "source": [
    "グループ名"
   ]
  },
  {
   "cell_type": "code",
   "execution_count": null,
   "metadata": {
    "lc_cell_meme": {
     "current": "f60d9b20-7d8a-11eb-aa43-02420a01004f-1-6321",
     "history": [
      {
       "current": "f60d9b20-7d8a-11eb-aa43-02420a01004f-1-6321",
       "next": "f60d9c7e-7d8a-11eb-aa43-02420a01004f",
       "previous": "f60d999a-7d8a-11eb-aa43-02420a01004f"
      }
     ],
     "next": "f60d9c7e-7d8a-11eb-aa43-02420a01004f-1-03ad",
     "previous": "f60d999a-7d8a-11eb-aa43-02420a01004f-1-0379"
    }
   },
   "outputs": [],
   "source": [
    "group_name = 'group1'\n",
    "group_name"
   ]
  },
  {
   "cell_type": "markdown",
   "metadata": {
    "lc_cell_meme": {
     "current": "f60d9c7e-7d8a-11eb-aa43-02420a01004f-1-03ad",
     "history": [
      {
       "current": "f60d9c7e-7d8a-11eb-aa43-02420a01004f-1-03ad",
       "next": "f60d9dd2-7d8a-11eb-aa43-02420a01004f",
       "previous": "f60d9b20-7d8a-11eb-aa43-02420a01004f"
      }
     ],
     "next": "f60d9dd2-7d8a-11eb-aa43-02420a01004f-1-8e9a",
     "previous": "f60d9b20-7d8a-11eb-aa43-02420a01004f-1-6321"
    }
   },
   "source": [
    "このグループに所属させるユーザーのメールアドレス"
   ]
  },
  {
   "cell_type": "code",
   "execution_count": null,
   "metadata": {
    "lc_cell_meme": {
     "current": "f60d9dd2-7d8a-11eb-aa43-02420a01004f-1-8e9a",
     "history": [
      {
       "current": "f60d9dd2-7d8a-11eb-aa43-02420a01004f-1-8e9a",
       "next": "f60d9f26-7d8a-11eb-aa43-02420a01004f",
       "previous": "f60d9c7e-7d8a-11eb-aa43-02420a01004f"
      }
     ],
     "next": "f60d9f26-7d8a-11eb-aa43-02420a01004f-1-8bce",
     "previous": "f60d9c7e-7d8a-11eb-aa43-02420a01004f-1-03ad"
    }
   },
   "outputs": [],
   "source": [
    "user_email_list = '''\n",
    "student-a01@example.com\n",
    "student-a02@example.com\n",
    "student-a03@example.com\n",
    "'''"
   ]
  },
  {
   "cell_type": "code",
   "execution_count": null,
   "metadata": {
    "lc_cell_meme": {
     "current": "f60d9f26-7d8a-11eb-aa43-02420a01004f-1-8bce",
     "history": [
      {
       "current": "f60d9f26-7d8a-11eb-aa43-02420a01004f-1-8bce",
       "next": "f60da08e-7d8a-11eb-aa43-02420a01004f",
       "previous": "f60d9dd2-7d8a-11eb-aa43-02420a01004f"
      }
     ],
     "next": "f60da08e-7d8a-11eb-aa43-02420a01004f-1-14b8",
     "previous": "f60d9dd2-7d8a-11eb-aa43-02420a01004f-1-8e9a"
    }
   },
   "outputs": [],
   "source": [
    "import re\n",
    "user_emails = user_email_list.splitlines()\n",
    "user_emails = [x.strip() for x in user_emails \n",
    "               if re.sub(r'#.*$', '', x).strip()]\n",
    "user_emails"
   ]
  },
  {
   "cell_type": "code",
   "execution_count": null,
   "metadata": {
    "lc_cell_meme": {
     "current": "f60da08e-7d8a-11eb-aa43-02420a01004f-1-14b8",
     "history": [
      {
       "current": "f60da08e-7d8a-11eb-aa43-02420a01004f-1-14b8",
       "next": "f60da304-7d8a-11eb-aa43-02420a01004f",
       "previous": "f60d9f26-7d8a-11eb-aa43-02420a01004f"
      }
     ],
     "next": "f60da304-7d8a-11eb-aa43-02420a01004f-1-15d3",
     "previous": "f60d9f26-7d8a-11eb-aa43-02420a01004f-1-8bce"
    }
   },
   "outputs": [],
   "source": [
    "import hashlib\n",
    "\n",
    "def get_username_from_mail_address(mail_address):\n",
    "    # Convert to lower and remove characters except for alphabets and digits\n",
    "    wk = mail_address.split('@')\n",
    "    local_part = wk[0].lower()\n",
    "    result = re.sub(r'[^a-zA-Z0-9]', '', local_part)\n",
    "    # Add top 6bytes of hash string\n",
    "    md5 = hashlib.md5()\n",
    "    md5.update(mail_address.encode('us-ascii'))\n",
    "    h = md5.hexdigest()[0:6]\n",
    "    result += 'x'\n",
    "    result += h;\n",
    "    return result;\n",
    "\n",
    "user_names = [get_username_from_mail_address(x) for x in user_emails]\n",
    "user_names"
   ]
  },
  {
   "cell_type": "markdown",
   "metadata": {
    "lc_cell_meme": {
     "current": "f60da304-7d8a-11eb-aa43-02420a01004f-1-15d3",
     "history": [
      {
       "current": "f60da304-7d8a-11eb-aa43-02420a01004f-1-15d3",
       "next": "f60da48a-7d8a-11eb-aa43-02420a01004f",
       "previous": "f60da08e-7d8a-11eb-aa43-02420a01004f"
      }
     ],
     "next": "feba8ca8-d0a0-11ee-a40c-02420a640143-4-b18e-b902-b7fc-4c94",
     "previous": "f60da08e-7d8a-11eb-aa43-02420a01004f-1-14b8"
    }
   },
   "source": [
    "# グループの設定"
   ]
  },
  {
   "cell_type": "markdown",
   "metadata": {
    "lc_cell_meme": {
     "current": "feba8ca8-d0a0-11ee-a40c-02420a640143-4-b18e-b902-b7fc-4c94",
     "history": [
      {
       "current": "feba8ca8-d0a0-11ee-a40c-02420a640143-2-b18e-b902",
       "next": "feba9248-d0a0-11ee-a40c-02420a640143",
       "previous": "952ac744-4bfd-11e9-845a-02420a0001bc-1-4ad7"
      },
      {
       "current": "feba8ca8-d0a0-11ee-a40c-02420a640143-4-b18e-b902-b7fc-4c94",
       "next": "feba9248-d0a0-11ee-a40c-02420a640143-2-36f9-b12d",
       "previous": "952ac744-4bfd-11e9-845a-02420a0001bc-1-65df"
      }
     ],
     "next": "feba9248-d0a0-11ee-a40c-02420a640143-4-36f9-b12d-d36c-9a8a",
     "previous": "f60da304-7d8a-11eb-aa43-02420a01004f-1-15d3"
    }
   },
   "source": [
    "[API Tokens](/hub/token)のページで、tokenを作成して以下に入力してください。"
   ]
  },
  {
   "cell_type": "code",
   "execution_count": null,
   "metadata": {
    "lc_cell_meme": {
     "current": "feba9248-d0a0-11ee-a40c-02420a640143-4-36f9-b12d-d36c-9a8a",
     "history": [
      {
       "current": "feba9248-d0a0-11ee-a40c-02420a640143-2-36f9-b12d",
       "next": "952ac794-4bfd-11e9-845a-02420a0001bc-1-21a4",
       "previous": "feba8ca8-d0a0-11ee-a40c-02420a640143"
      },
      {
       "current": "feba9248-d0a0-11ee-a40c-02420a640143-4-36f9-b12d-d36c-9a8a",
       "next": "952ac794-4bfd-11e9-845a-02420a0001bc-1-2b6f",
       "previous": "feba8ca8-d0a0-11ee-a40c-02420a640143-2-b18e-b902"
      }
     ],
     "next": "f60da48a-7d8a-11eb-aa43-02420a01004f-1-5b4c",
     "previous": "feba8ca8-d0a0-11ee-a40c-02420a640143-4-b18e-b902-b7fc-4c94"
    }
   },
   "outputs": [],
   "source": [
    "import getpass\n",
    "apitoken = getpass.getpass('JupyterHub API token')"
   ]
  },
  {
   "cell_type": "code",
   "execution_count": null,
   "metadata": {
    "lc_cell_meme": {
     "current": "f60da48a-7d8a-11eb-aa43-02420a01004f-1-5b4c",
     "history": [
      {
       "current": "f60da48a-7d8a-11eb-aa43-02420a01004f-1-5b4c",
       "next": "f60da5de-7d8a-11eb-aa43-02420a01004f",
       "previous": "f60da304-7d8a-11eb-aa43-02420a01004f"
      }
     ],
     "next": "f60da5de-7d8a-11eb-aa43-02420a01004f-1-b5b9",
     "previous": "feba9248-d0a0-11ee-a40c-02420a640143-4-36f9-b12d-d36c-9a8a"
    }
   },
   "outputs": [],
   "source": [
    "import os\n",
    "api_url = os.environ['JUPYTERHUB_API_URL']"
   ]
  },
  {
   "cell_type": "markdown",
   "metadata": {
    "lc_cell_meme": {
     "current": "f60da5de-7d8a-11eb-aa43-02420a01004f-1-b5b9",
     "history": [
      {
       "current": "f60da5de-7d8a-11eb-aa43-02420a01004f-1-b5b9",
       "next": "f60da732-7d8a-11eb-aa43-02420a01004f",
       "previous": "f60da48a-7d8a-11eb-aa43-02420a01004f"
      }
     ],
     "next": "f60da732-7d8a-11eb-aa43-02420a01004f-1-2c82",
     "previous": "f60da48a-7d8a-11eb-aa43-02420a01004f-1-5b4c"
    }
   },
   "source": [
    "グループの作成（必要な場合）"
   ]
  },
  {
   "cell_type": "code",
   "execution_count": null,
   "metadata": {
    "lc_cell_meme": {
     "current": "f60da732-7d8a-11eb-aa43-02420a01004f-1-2c82",
     "history": [
      {
       "current": "f60da732-7d8a-11eb-aa43-02420a01004f-1-2c82",
       "next": "f60da87c-7d8a-11eb-aa43-02420a01004f",
       "previous": "f60da5de-7d8a-11eb-aa43-02420a01004f"
      }
     ],
     "next": "f60da87c-7d8a-11eb-aa43-02420a01004f-1-055c",
     "previous": "f60da5de-7d8a-11eb-aa43-02420a01004f-1-b5b9"
    }
   },
   "outputs": [],
   "source": [
    "headers = {\n",
    "    'Authorization': 'token %s' % apitoken,\n",
    "}"
   ]
  },
  {
   "cell_type": "code",
   "execution_count": null,
   "metadata": {
    "lc_cell_meme": {
     "current": "f60da87c-7d8a-11eb-aa43-02420a01004f-1-055c",
     "history": [
      {
       "current": "f60da87c-7d8a-11eb-aa43-02420a01004f-1-055c",
       "next": "f60daa02-7d8a-11eb-aa43-02420a01004f",
       "previous": "f60da732-7d8a-11eb-aa43-02420a01004f"
      }
     ],
     "next": "f60daa02-7d8a-11eb-aa43-02420a01004f-1-f8f8",
     "previous": "f60da732-7d8a-11eb-aa43-02420a01004f-1-2c82"
    }
   },
   "outputs": [],
   "source": [
    "import requests\n",
    "import json\n",
    "\n",
    "r = requests.get(api_url + '/groups/{}'.format(group_name),\n",
    "                 headers=headers)\n",
    "if r.status_code == 404:\n",
    "    r = requests.post(api_url + '/groups/{}'.format(group_name),\n",
    "                      headers=headers)\n",
    "    group = json.loads(r.text)\n",
    "else:\n",
    "    group = json.loads(r.text)\n",
    "\n",
    "group"
   ]
  },
  {
   "cell_type": "code",
   "execution_count": null,
   "metadata": {
    "lc_cell_meme": {
     "current": "f60daa02-7d8a-11eb-aa43-02420a01004f-1-f8f8",
     "history": [
      {
       "current": "f60daa02-7d8a-11eb-aa43-02420a01004f-1-f8f8",
       "next": "f60dab60-7d8a-11eb-aa43-02420a01004f",
       "previous": "f60da87c-7d8a-11eb-aa43-02420a01004f"
      }
     ],
     "next": "f60dab60-7d8a-11eb-aa43-02420a01004f-1-e4ae",
     "previous": "f60da87c-7d8a-11eb-aa43-02420a01004f-1-055c"
    }
   },
   "outputs": [],
   "source": [
    "import json\n",
    "\n",
    "r = requests.get(api_url + '/groups/{}'.format(group_name),\n",
    "                 headers=headers)\n",
    "group = json.loads(r.text)\n",
    "current_users = group['users']\n",
    "\n",
    "user2mail = dict(zip(user_names, user_emails))\n",
    "\n",
    "new_users =  set(user_names) - set(current_users)\n",
    "\n",
    "if new_users:\n",
    "    print(\"Add the following users to group '{}'\".format(group_name))\n",
    "    for username in new_users:\n",
    "        print('{}({})'.format(user2mail[username], username))\n",
    "    h = headers.copy()\n",
    "    h['Content-Type'] : 'application/json'\n",
    "    r = requests.post(api_url + '/groups/{}/users'.format(group_name),\n",
    "                      data = json.dumps({\n",
    "                          \"users\" : list(new_users)\n",
    "                      }),\n",
    "                      headers=h)\n",
    "    assert r.status_code == 200\n",
    "member_users = set(user_names) - set(new_users)\n",
    "if member_users:\n",
    "    print(\"The fowllowing users are already member of group '{}'\".format(group_name))\n",
    "    for username in member_users:\n",
    "        print('{}({})'.format(user2mail[username], username))\n"
   ]
  },
  {
   "cell_type": "markdown",
   "metadata": {
    "lc_cell_meme": {
     "current": "f60dab60-7d8a-11eb-aa43-02420a01004f-1-e4ae",
     "history": [
      {
       "current": "f60dab60-7d8a-11eb-aa43-02420a01004f-1-e4ae",
       "next": "f60dacd2-7d8a-11eb-aa43-02420a01004f",
       "previous": "f60daa02-7d8a-11eb-aa43-02420a01004f"
      }
     ],
     "next": "f60dacd2-7d8a-11eb-aa43-02420a01004f-1-d169",
     "previous": "f60daa02-7d8a-11eb-aa43-02420a01004f-1-f8f8"
    }
   },
   "source": [
    "確認"
   ]
  },
  {
   "cell_type": "code",
   "execution_count": null,
   "metadata": {
    "lc_cell_meme": {
     "current": "f60dacd2-7d8a-11eb-aa43-02420a01004f-1-d169",
     "history": [
      {
       "current": "f60dacd2-7d8a-11eb-aa43-02420a01004f-1-d169",
       "next": null,
       "previous": "f60dab60-7d8a-11eb-aa43-02420a01004f"
      }
     ],
     "next": null,
     "previous": "f60dab60-7d8a-11eb-aa43-02420a01004f-1-e4ae"
    }
   },
   "outputs": [],
   "source": [
    "r = requests.get(api_url + '/groups/{}'.format(group_name),\n",
    "                  headers=headers)\n",
    "group = json.loads(r.text)\n",
    "group"
   ]
  }
 ],
 "metadata": {
  "kernelspec": {
   "display_name": "Python 3",
   "language": "python",
   "name": "python3"
  },
  "language_info": {
   "file_extension": ".py",
   "mimetype": "text/x-python",
   "name": "python",
   "nbconvert_exporter": "python",
   "pygments_lexer": "ipython3",
   "version": "3.10.11"
  },
  "lc_notebook_meme": {
   "current": "f60d9116-7d8a-11eb-aa43-02420a01004f",
   "history": [],
   "root_cells": [
    "f60d962a-7d8a-11eb-aa43-02420a01004f",
    "f60d981e-7d8a-11eb-aa43-02420a01004f",
    "f60d999a-7d8a-11eb-aa43-02420a01004f",
    "f60d9b20-7d8a-11eb-aa43-02420a01004f",
    "f60d9c7e-7d8a-11eb-aa43-02420a01004f",
    "f60d9dd2-7d8a-11eb-aa43-02420a01004f",
    "f60d9f26-7d8a-11eb-aa43-02420a01004f",
    "f60da08e-7d8a-11eb-aa43-02420a01004f",
    "f60da304-7d8a-11eb-aa43-02420a01004f",
    "f60da48a-7d8a-11eb-aa43-02420a01004f",
    "f60da5de-7d8a-11eb-aa43-02420a01004f",
    "f60da732-7d8a-11eb-aa43-02420a01004f",
    "f60da87c-7d8a-11eb-aa43-02420a01004f",
    "f60daa02-7d8a-11eb-aa43-02420a01004f",
    "f60dab60-7d8a-11eb-aa43-02420a01004f",
    "f60dacd2-7d8a-11eb-aa43-02420a01004f"
   ]
  },
  "toc": {
   "base_numbering": 1,
   "nav_menu": {},
   "number_sections": true,
   "sideBar": true,
   "skip_h1_title": false,
   "title_cell": "Table of Contents",
   "title_sidebar": "Contents",
   "toc_cell": false,
   "toc_position": {},
   "toc_section_display": true,
   "toc_window_display": true
  }
 },
 "nbformat": 4,
 "nbformat_minor": 4
}
