{
 "cells": [
  {
   "cell_type": "markdown",
   "metadata": {
    "lc_cell_meme": {
     "current": "9471002a-4bfd-11e9-8c4f-02420a0001bc-2-0520-8bac",
     "history": [
      {
       "current": "9471002a-4bfd-11e9-8c4f-02420a0001bc-1-0520",
       "next": "947100c0-4bfd-11e9-8c4f-02420a0001bc",
       "previous": null
      },
      {
       "current": "9471002a-4bfd-11e9-8c4f-02420a0001bc-2-0520-8bac",
       "next": "947100c0-4bfd-11e9-8c4f-02420a0001bc-1-e8f5",
       "previous": null
      }
     ],
     "next": "947100c0-4bfd-11e9-8c4f-02420a0001bc-2-e8f5-29a8",
     "previous": null
    }
   },
   "source": [
    "# 受講者の演習環境をバックアップします\n",
    "---"
   ]
  },
  {
   "cell_type": "markdown",
   "metadata": {
    "lc_cell_meme": {
     "current": "947100c0-4bfd-11e9-8c4f-02420a0001bc-2-e8f5-29a8",
     "history": [
      {
       "current": "947100c0-4bfd-11e9-8c4f-02420a0001bc-1-e8f5",
       "next": "94710124-4bfd-11e9-8c4f-02420a0001bc",
       "previous": "9471002a-4bfd-11e9-8c4f-02420a0001bc"
      },
      {
       "current": "947100c0-4bfd-11e9-8c4f-02420a0001bc-2-e8f5-29a8",
       "next": "94710124-4bfd-11e9-8c4f-02420a0001bc-1-753a",
       "previous": "9471002a-4bfd-11e9-8c4f-02420a0001bc-1-0520"
      }
     ],
     "next": "94710124-4bfd-11e9-8c4f-02420a0001bc-2-753a-ebb5",
     "previous": "9471002a-4bfd-11e9-8c4f-02420a0001bc-2-0520-8bac"
    }
   },
   "source": [
    "受講者の演習環境をバックアップしたい場合に使用します。バックアップするファイル/フォルダを指定してバックアップします。"
   ]
  },
  {
   "cell_type": "markdown",
   "metadata": {
    "lc_cell_meme": {
     "current": "94710124-4bfd-11e9-8c4f-02420a0001bc-2-753a-ebb5",
     "history": [
      {
       "current": "94710124-4bfd-11e9-8c4f-02420a0001bc-1-753a",
       "next": "94710188-4bfd-11e9-8c4f-02420a0001bc",
       "previous": "947100c0-4bfd-11e9-8c4f-02420a0001bc"
      },
      {
       "current": "94710124-4bfd-11e9-8c4f-02420a0001bc-2-753a-ebb5",
       "next": "94710188-4bfd-11e9-8c4f-02420a0001bc-1-d35e",
       "previous": "947100c0-4bfd-11e9-8c4f-02420a0001bc-1-e8f5"
      }
     ],
     "next": "94710188-4bfd-11e9-8c4f-02420a0001bc-2-d35e-cb32",
     "previous": "947100c0-4bfd-11e9-8c4f-02420a0001bc-2-e8f5-29a8"
    }
   },
   "source": [
    "# バックアップする受講者を指定します"
   ]
  },
  {
   "cell_type": "markdown",
   "metadata": {
    "lc_cell_meme": {
     "current": "94710188-4bfd-11e9-8c4f-02420a0001bc-2-d35e-cb32",
     "history": [
      {
       "current": "94710188-4bfd-11e9-8c4f-02420a0001bc-1-d35e",
       "next": "947101e2-4bfd-11e9-8c4f-02420a0001bc",
       "previous": "94710124-4bfd-11e9-8c4f-02420a0001bc"
      },
      {
       "current": "94710188-4bfd-11e9-8c4f-02420a0001bc-2-d35e-cb32",
       "next": "947101e2-4bfd-11e9-8c4f-02420a0001bc-1-e0fa",
       "previous": "94710124-4bfd-11e9-8c4f-02420a0001bc-1-753a"
      }
     ],
     "next": "947101e2-4bfd-11e9-8c4f-02420a0001bc-2-e0fa-0421",
     "previous": "94710124-4bfd-11e9-8c4f-02420a0001bc-2-753a-ebb5"
    }
   },
   "source": [
    "バックアップ対象の受講者をメールアドレスで指定します。\n",
    "\n",
    "バックアップファイルは、`メールアドレス-backup.tgz` のファイル名で、後述するバックアップ格納先フォルダに保存します。\n",
    "```\n",
    "STUDENT_LIST = '''\n",
    "student-a01@example.com\n",
    "student-a02@example.com\n",
    "'''\n",
    "```\n",
    "\n",
    "**次のセルを実行して、バックアップ対象の受講者のメールアドレスを設定してください**"
   ]
  },
  {
   "cell_type": "code",
   "execution_count": null,
   "metadata": {
    "lc_cell_meme": {
     "current": "947101e2-4bfd-11e9-8c4f-02420a0001bc-2-e0fa-0421",
     "history": [
      {
       "current": "947101e2-4bfd-11e9-8c4f-02420a0001bc-1-e0fa",
       "next": "947102be-4bfd-11e9-8c4f-02420a0001bc",
       "previous": "94710188-4bfd-11e9-8c4f-02420a0001bc"
      },
      {
       "current": "947101e2-4bfd-11e9-8c4f-02420a0001bc-2-e0fa-0421",
       "next": "947102be-4bfd-11e9-8c4f-02420a0001bc-1-8095",
       "previous": "94710188-4bfd-11e9-8c4f-02420a0001bc-1-d35e"
      }
     ],
     "next": "947102be-4bfd-11e9-8c4f-02420a0001bc-2-8095-95cd",
     "previous": "94710188-4bfd-11e9-8c4f-02420a0001bc-2-d35e-cb32"
    }
   },
   "outputs": [],
   "source": [
    "STUDENT_LIST = '''\n",
    "student-a01@example.com\n",
    "student-a02@example.com\n",
    "'''"
   ]
  },
  {
   "cell_type": "markdown",
   "metadata": {
    "lc_cell_meme": {
     "current": "947102be-4bfd-11e9-8c4f-02420a0001bc-2-8095-95cd",
     "history": [
      {
       "current": "947102be-4bfd-11e9-8c4f-02420a0001bc-1-8095",
       "next": "9471032c-4bfd-11e9-8c4f-02420a0001bc",
       "previous": "947101e2-4bfd-11e9-8c4f-02420a0001bc"
      },
      {
       "current": "947102be-4bfd-11e9-8c4f-02420a0001bc-2-8095-95cd",
       "next": "9471032c-4bfd-11e9-8c4f-02420a0001bc-1-0980",
       "previous": "947101e2-4bfd-11e9-8c4f-02420a0001bc-1-e0fa"
      }
     ],
     "next": "9471032c-4bfd-11e9-8c4f-02420a0001bc-2-0980-4df9",
     "previous": "947101e2-4bfd-11e9-8c4f-02420a0001bc-2-e0fa-0421"
    }
   },
   "source": [
    " "
   ]
  },
  {
   "cell_type": "markdown",
   "metadata": {
    "lc_cell_meme": {
     "current": "9471032c-4bfd-11e9-8c4f-02420a0001bc-2-0980-4df9",
     "history": [
      {
       "current": "9471032c-4bfd-11e9-8c4f-02420a0001bc-1-0980",
       "next": "94710386-4bfd-11e9-8c4f-02420a0001bc",
       "previous": "947102be-4bfd-11e9-8c4f-02420a0001bc"
      },
      {
       "current": "9471032c-4bfd-11e9-8c4f-02420a0001bc-2-0980-4df9",
       "next": "94710386-4bfd-11e9-8c4f-02420a0001bc-1-c911",
       "previous": "947102be-4bfd-11e9-8c4f-02420a0001bc-1-8095"
      }
     ],
     "next": "94710386-4bfd-11e9-8c4f-02420a0001bc-2-c911-991f",
     "previous": "947102be-4bfd-11e9-8c4f-02420a0001bc-2-8095-95cd"
    }
   },
   "source": [
    "# バックアップの格納先フォルダを指定します"
   ]
  },
  {
   "cell_type": "markdown",
   "metadata": {
    "lc_cell_meme": {
     "current": "94710386-4bfd-11e9-8c4f-02420a0001bc-2-c911-991f",
     "history": [
      {
       "current": "94710386-4bfd-11e9-8c4f-02420a0001bc-1-c911",
       "next": "947103e0-4bfd-11e9-8c4f-02420a0001bc",
       "previous": "9471032c-4bfd-11e9-8c4f-02420a0001bc"
      },
      {
       "current": "94710386-4bfd-11e9-8c4f-02420a0001bc-2-c911-991f",
       "next": "947103e0-4bfd-11e9-8c4f-02420a0001bc-1-f794",
       "previous": "9471032c-4bfd-11e9-8c4f-02420a0001bc-1-0980"
      }
     ],
     "next": "947103e0-4bfd-11e9-8c4f-02420a0001bc-2-f794-d865",
     "previous": "9471032c-4bfd-11e9-8c4f-02420a0001bc-2-0980-4df9"
    }
   },
   "source": [
    "* バックアップファイルを格納するフォルダを指定します。\n",
    "* ホームディレクトリからの相対パスで指定します。\n",
    "* 空に設定するとホームディレクトリ直下にバックアップファイルが格納されます。\n",
    "* フォルダが存在しない場合は、自動的に作成されます。\n",
    "* フォルダ内に同一受講者のバックアップが存在する場合、バックアップ時に上書きされます。\n",
    "\n",
    "**次のセルを実行して、バックアップ格納先フォルダを指定して下さい。**"
   ]
  },
  {
   "cell_type": "code",
   "execution_count": null,
   "metadata": {
    "lc_cell_meme": {
     "current": "947103e0-4bfd-11e9-8c4f-02420a0001bc-2-f794-d865",
     "history": [
      {
       "current": "947103e0-4bfd-11e9-8c4f-02420a0001bc-1-f794",
       "next": "94710444-4bfd-11e9-8c4f-02420a0001bc",
       "previous": "94710386-4bfd-11e9-8c4f-02420a0001bc"
      },
      {
       "current": "947103e0-4bfd-11e9-8c4f-02420a0001bc-2-f794-d865",
       "next": "94710444-4bfd-11e9-8c4f-02420a0001bc-1-ba24",
       "previous": "94710386-4bfd-11e9-8c4f-02420a0001bc-1-c911"
      }
     ],
     "next": "94710444-4bfd-11e9-8c4f-02420a0001bc-2-ba24-ff16",
     "previous": "94710386-4bfd-11e9-8c4f-02420a0001bc-2-c911-991f"
    }
   },
   "outputs": [],
   "source": [
    "BACKUP_DIR='backup/0123'"
   ]
  },
  {
   "cell_type": "markdown",
   "metadata": {
    "lc_cell_meme": {
     "current": "94710444-4bfd-11e9-8c4f-02420a0001bc-2-ba24-ff16",
     "history": [
      {
       "current": "94710444-4bfd-11e9-8c4f-02420a0001bc-1-ba24",
       "next": "9471049e-4bfd-11e9-8c4f-02420a0001bc",
       "previous": "947103e0-4bfd-11e9-8c4f-02420a0001bc"
      },
      {
       "current": "94710444-4bfd-11e9-8c4f-02420a0001bc-2-ba24-ff16",
       "next": "9471049e-4bfd-11e9-8c4f-02420a0001bc-1-cf86",
       "previous": "947103e0-4bfd-11e9-8c4f-02420a0001bc-1-f794"
      }
     ],
     "next": "9471049e-4bfd-11e9-8c4f-02420a0001bc-2-cf86-bde8",
     "previous": "947103e0-4bfd-11e9-8c4f-02420a0001bc-2-f794-d865"
    }
   },
   "source": [
    " "
   ]
  },
  {
   "cell_type": "markdown",
   "metadata": {
    "lc_cell_meme": {
     "current": "9471049e-4bfd-11e9-8c4f-02420a0001bc-2-cf86-bde8",
     "history": [
      {
       "current": "9471049e-4bfd-11e9-8c4f-02420a0001bc-1-cf86",
       "next": "947104f8-4bfd-11e9-8c4f-02420a0001bc",
       "previous": "94710444-4bfd-11e9-8c4f-02420a0001bc"
      },
      {
       "current": "9471049e-4bfd-11e9-8c4f-02420a0001bc-2-cf86-bde8",
       "next": "947104f8-4bfd-11e9-8c4f-02420a0001bc-1-0e7b",
       "previous": "94710444-4bfd-11e9-8c4f-02420a0001bc-1-ba24"
      }
     ],
     "next": "947104f8-4bfd-11e9-8c4f-02420a0001bc-2-0e7b-718a",
     "previous": "94710444-4bfd-11e9-8c4f-02420a0001bc-2-ba24-ff16"
    }
   },
   "source": [
    "# バックアップから除外するファイル/フォルダを指定します"
   ]
  },
  {
   "cell_type": "markdown",
   "metadata": {
    "lc_cell_meme": {
     "current": "947104f8-4bfd-11e9-8c4f-02420a0001bc-2-0e7b-718a",
     "history": [
      {
       "current": "947104f8-4bfd-11e9-8c4f-02420a0001bc-1-0e7b",
       "next": "94710552-4bfd-11e9-8c4f-02420a0001bc",
       "previous": "9471049e-4bfd-11e9-8c4f-02420a0001bc"
      },
      {
       "current": "947104f8-4bfd-11e9-8c4f-02420a0001bc-2-0e7b-718a",
       "next": "94710552-4bfd-11e9-8c4f-02420a0001bc-1-0439",
       "previous": "9471049e-4bfd-11e9-8c4f-02420a0001bc-1-cf86"
      }
     ],
     "next": "94710552-4bfd-11e9-8c4f-02420a0001bc-2-0439-4b1b",
     "previous": "9471049e-4bfd-11e9-8c4f-02420a0001bc-2-cf86-bde8"
    }
   },
   "source": [
    "受講者のホームディレクトリ以下で、受講者が作成した全てのノートブック/その他ファイルがバックアップの対象となります。ただし、次のファイル/フォルダはバックアップにからは除外されます。\n",
    "- `info/` フォルダ\n",
    "- `private-info/` フォルダ\n",
    "- `textbook/` フォルダ\n",
    "- `tools/` フォルダ\n",
    "- `.(dot)` で始まる全てのファイルとフォルダ\n",
    "\n",
    "他にバックアップから除外したいファイル/フォルダがある場合は、`BACKUP_EXCLUDE` に改行区切りで列挙してください。ワイルドカードの `*` が使用できます。\n",
    "\n",
    "```\n",
    "BACKUP_EXCLUDE = '''\n",
    "*.tmp\n",
    "*.gz\n",
    "test/\n",
    "user-folder/sub-folder/*.ipynb\n",
    "user-folder/hoge.txt\n",
    "'''\n",
    "```\n",
    "\n",
    "**次のセルを実行して、除外するファイル/フォルダを設定してください。**"
   ]
  },
  {
   "cell_type": "code",
   "execution_count": null,
   "metadata": {
    "lc_cell_meme": {
     "current": "94710552-4bfd-11e9-8c4f-02420a0001bc-2-0439-4b1b",
     "history": [
      {
       "current": "94710552-4bfd-11e9-8c4f-02420a0001bc-1-0439",
       "next": "947105ac-4bfd-11e9-8c4f-02420a0001bc",
       "previous": "947104f8-4bfd-11e9-8c4f-02420a0001bc"
      },
      {
       "current": "94710552-4bfd-11e9-8c4f-02420a0001bc-2-0439-4b1b",
       "next": "947105ac-4bfd-11e9-8c4f-02420a0001bc-1-da56",
       "previous": "947104f8-4bfd-11e9-8c4f-02420a0001bc-1-0e7b"
      }
     ],
     "next": "947105ac-4bfd-11e9-8c4f-02420a0001bc-2-da56-61d6",
     "previous": "947104f8-4bfd-11e9-8c4f-02420a0001bc-2-0e7b-718a"
    }
   },
   "outputs": [],
   "source": [
    "BACKUP_EXCLUDE = '''\n",
    "*.tmp\n",
    "*.gz\n",
    "test/\n",
    "user-folder/sub-folder/*.ipynb\n",
    "user-folder/hoge.txt\n",
    "'''"
   ]
  },
  {
   "cell_type": "markdown",
   "metadata": {
    "lc_cell_meme": {
     "current": "947105ac-4bfd-11e9-8c4f-02420a0001bc-2-da56-61d6",
     "history": [
      {
       "current": "947105ac-4bfd-11e9-8c4f-02420a0001bc-1-da56",
       "next": "94710606-4bfd-11e9-8c4f-02420a0001bc",
       "previous": "94710552-4bfd-11e9-8c4f-02420a0001bc"
      },
      {
       "current": "947105ac-4bfd-11e9-8c4f-02420a0001bc-2-da56-61d6",
       "next": "a09cf1c8-fe54-11ef-96fa-02420a640255-2-c795-8dcc",
       "previous": "94710552-4bfd-11e9-8c4f-02420a0001bc-1-0439"
      }
     ],
     "next": "a09cf1c8-fe54-11ef-96fa-02420a640255-3-c795-8dcc-9030",
     "previous": "94710552-4bfd-11e9-8c4f-02420a0001bc-2-0439-4b1b"
    }
   },
   "source": [
    " "
   ]
  },
  {
   "cell_type": "markdown",
   "metadata": {
    "lc_cell_meme": {
     "current": "a09cf1c8-fe54-11ef-96fa-02420a640255-3-c795-8dcc-9030",
     "history": [
      {
       "current": "a09cf1c8-fe54-11ef-96fa-02420a640255-2-c795-8dcc",
       "next": "64cc969c-fd8e-11ef-ac33-02420a64024e-1-3a7b",
       "previous": "91ef93c0-4bfd-11e9-ad24-02420a0001bc-1-1627"
      },
      {
       "current": "a09cf1c8-fe54-11ef-96fa-02420a640255-3-c795-8dcc-9030",
       "next": "64cc969c-fd8e-11ef-ac33-02420a64024e-3-3a7b-e4d3-8e14",
       "previous": "947105ac-4bfd-11e9-8c4f-02420a0001bc-1-da56"
      }
     ],
     "next": "64cc969c-fd8e-11ef-ac33-02420a64024e-4-3a7b-e4d3-8e14-cc70",
     "previous": "947105ac-4bfd-11e9-8c4f-02420a0001bc-2-da56-61d6"
    }
   },
   "source": [
    "# コースの指定"
   ]
  },
  {
   "cell_type": "code",
   "execution_count": null,
   "metadata": {
    "lc_cell_meme": {
     "current": "64cc969c-fd8e-11ef-ac33-02420a64024e-4-3a7b-e4d3-8e14-cc70",
     "history": [
      {
       "current": "64cc969c-fd8e-11ef-ac33-02420a64024e-1-3a7b",
       "next": "9193b88e-4bfd-11e9-80f2-02420a0001bc-1-3d06",
       "previous": "9193b848-4bfd-11e9-80f2-02420a0001bc-1-0ae7"
      },
      {
       "current": "64cc969c-fd8e-11ef-ac33-02420a64024e-3-3a7b-e4d3-8e14",
       "next": "91ef9410-4bfd-11e9-ad24-02420a0001bc-1-9cb9",
       "previous": "a09cf1c8-fe54-11ef-96fa-02420a640255"
      },
      {
       "current": "64cc969c-fd8e-11ef-ac33-02420a64024e-4-3a7b-e4d3-8e14-cc70",
       "next": "94710606-4bfd-11e9-8c4f-02420a0001bc-1-9c59",
       "previous": "a09cf1c8-fe54-11ef-96fa-02420a640255-2-c795-8dcc"
      }
     ],
     "next": "94710606-4bfd-11e9-8c4f-02420a0001bc-2-9c59-f7f7",
     "previous": "a09cf1c8-fe54-11ef-96fa-02420a640255-3-c795-8dcc-9030"
    }
   },
   "outputs": [],
   "source": [
    "import os\n",
    "\n",
    "# コース名の指定\n",
    "course_name = os.environ['CWH_COURSE_NAME']\n",
    "course_name"
   ]
  },
  {
   "cell_type": "markdown",
   "metadata": {
    "lc_cell_meme": {
     "current": "94710606-4bfd-11e9-8c4f-02420a0001bc-2-9c59-f7f7",
     "history": [
      {
       "current": "94710606-4bfd-11e9-8c4f-02420a0001bc-1-9c59",
       "next": "94710660-4bfd-11e9-8c4f-02420a0001bc",
       "previous": "947105ac-4bfd-11e9-8c4f-02420a0001bc"
      },
      {
       "current": "94710606-4bfd-11e9-8c4f-02420a0001bc-2-9c59-f7f7",
       "next": "94710660-4bfd-11e9-8c4f-02420a0001bc-1-1640",
       "previous": "64cc969c-fd8e-11ef-ac33-02420a64024e-3-3a7b-e4d3-8e14"
      }
     ],
     "next": "94710660-4bfd-11e9-8c4f-02420a0001bc-2-1640-8e53",
     "previous": "64cc969c-fd8e-11ef-ac33-02420a64024e-4-3a7b-e4d3-8e14-cc70"
    }
   },
   "source": [
    "# バックアップを実行します"
   ]
  },
  {
   "cell_type": "markdown",
   "metadata": {
    "lc_cell_meme": {
     "current": "94710660-4bfd-11e9-8c4f-02420a0001bc-2-1640-8e53",
     "history": [
      {
       "current": "94710660-4bfd-11e9-8c4f-02420a0001bc-1-1640",
       "next": "947106ba-4bfd-11e9-8c4f-02420a0001bc",
       "previous": "94710606-4bfd-11e9-8c4f-02420a0001bc"
      },
      {
       "current": "94710660-4bfd-11e9-8c4f-02420a0001bc-2-1640-8e53",
       "next": "947106ba-4bfd-11e9-8c4f-02420a0001bc-1-c3ec",
       "previous": "94710606-4bfd-11e9-8c4f-02420a0001bc-1-9c59"
      }
     ],
     "next": "947106ba-4bfd-11e9-8c4f-02420a0001bc-2-c3ec-9c2d",
     "previous": "94710606-4bfd-11e9-8c4f-02420a0001bc-2-9c59-f7f7"
    }
   },
   "source": [
    "設定した内容で、バックアップを実行します。\n",
    "\n",
    "バックアップファイルは、指定した格納先フォルダに、受講者毎のファイルとして格納されます。"
   ]
  },
  {
   "cell_type": "code",
   "execution_count": null,
   "metadata": {
    "lc_cell_meme": {
     "current": "947106ba-4bfd-11e9-8c4f-02420a0001bc-2-c3ec-9c2d",
     "history": [
      {
       "current": "947106ba-4bfd-11e9-8c4f-02420a0001bc-1-c3ec",
       "next": null,
       "previous": "94710660-4bfd-11e9-8c4f-02420a0001bc"
      },
      {
       "current": "947106ba-4bfd-11e9-8c4f-02420a0001bc-2-c3ec-9c2d",
       "next": null,
       "previous": "94710660-4bfd-11e9-8c4f-02420a0001bc-1-1640"
      }
     ],
     "next": null,
     "previous": "94710660-4bfd-11e9-8c4f-02420a0001bc-2-1640-8e53"
    }
   },
   "outputs": [],
   "source": [
    "import os, sys, re, hashlib, string, tempfile, shutil, subprocess, fnmatch\n",
    "\n",
    "assert course_name != '', \"コース用のサーバー上で実行するか、コース名を指定してください\"\n",
    "\n",
    "def get_username_from_mail_address(mail_address):\n",
    "    # Convert to lower and remove characters except for alphabets and digits\n",
    "    wk = mail_address.split('@')\n",
    "    local_part = wk[0].lower()\n",
    "    result = re.sub(r'[^a-zA-Z0-9]', '', local_part)\n",
    "    # Add top 6bytes of hash string\n",
    "    md5 = hashlib.md5()\n",
    "    md5.update(mail_address.encode('us-ascii'))\n",
    "    h = md5.hexdigest()[0:6]\n",
    "    result += 'x'\n",
    "    result += h;\n",
    "    return result;\n",
    "\n",
    "def ignore_files(path, names):\n",
    "    dir = re.sub(r'^/home/jupyter/workspace/[^/]+/[^/]+(/|$)', '', path)\n",
    "    pats = set(map(lambda x: x[1], filter(lambda x: (x[0] is None) or (dir == x[0]), exclude_patterns)))\n",
    "    ignore_set = shutil.ignore_patterns(*pats)(path, names)\n",
    "    #for ent in ignore_set:\n",
    "    #    print('DEBUG: ignored file {}/ {}'.format(path, ent))\n",
    "    return ignore_set\n",
    "\n",
    "#\n",
    "target_students=set()\n",
    "for line in STUDENT_LIST.splitlines():\n",
    "    s = re.sub(r'#.*$', '', line).strip()\n",
    "    if(0 < len(s)):\n",
    "        target_students.add(s)\n",
    "        \n",
    "#\n",
    "EXCLUDE_SYS={'.*','info/','private-info/','textbook/','tools/'}\n",
    "exclude_patterns=set()\n",
    "for line in set(BACKUP_EXCLUDE.splitlines()).union(EXCLUDE_SYS):\n",
    "    s = re.sub(r'#.*$', '', line).strip()\n",
    "    if(0 < len(s)):\n",
    "        if '/' in s:\n",
    "            s = s.rstrip('/')\n",
    "            exclude_patterns.add((os.path.dirname(s), os.path.basename(s)))\n",
    "        else:\n",
    "            exclude_patterns.add((None, s))\n",
    "\n",
    "#\n",
    "backup_dir_path = os.path.expanduser(\n",
    "    os.path.join('~/', course_name, os.path.normpath(BACKUP_DIR)))\n",
    "os.makedirs(backup_dir_path, exist_ok=True)\n",
    "\n",
    "#\n",
    "with tempfile.TemporaryDirectory() as tmp_dir:\n",
    "    for student in target_students:\n",
    "        print('受講者[{}]のバックアップを作成します'.format(student))\n",
    "        user_name = get_username_from_mail_address(student)\n",
    "        user_dir = os.path.join('/home/jupyter/workspace/', user_name, course_name)\n",
    "        if not os.path.isdir(user_dir):\n",
    "            print('WARNING: {}: 受講者フォルダが見つかりません'.format(student), file=sys.stderr)\n",
    "            print('-> 失敗')\n",
    "            continue\n",
    "        tmp_user_dir = '{}/{}'.format(tmp_dir, user_name)\n",
    "        try:\n",
    "            shutil.copytree(user_dir, tmp_user_dir, ignore=ignore_files)\n",
    "        except shutil.Error as ex:\n",
    "            for ee in ex.args[0]:\n",
    "                print('WARNING: {}'.format(ee[2]), file=sys.stderr)\n",
    "        # archive it\n",
    "        archive_file_path = '{}/{}-backup.tgz'.format(backup_dir_path, student)\n",
    "        try:\n",
    "            tarcmd = 'tar -cz -C \"{}\" -f \"{}\" .'.format(tmp_user_dir, archive_file_path)\n",
    "            cp = subprocess.run(tarcmd, shell=True, cwd=tmp_user_dir)\n",
    "            if cp.returncode == 0:\n",
    "                print('-> バックアップ成功: {}'.format(archive_file_path))\n",
    "            else:\n",
    "                print('ERROR: tar コマンドが失敗しました', file=sys.stderr)\n",
    "        except OSError as e:\n",
    "            print('ERROR: tar コマンドが実行できません：{}'.format(e), file=sys.stderr)\n",
    "        print('')\n",
    "\n",
    "print('バックアップ処理が完了しました。')"
   ]
  }
 ],
 "metadata": {
  "kernelspec": {
   "display_name": "Python 3",
   "language": "python",
   "name": "python3"
  },
  "language_info": {
   "file_extension": ".py",
   "mimetype": "text/x-python",
   "name": "python",
   "nbconvert_exporter": "python",
   "pygments_lexer": "ipython3",
   "version": "3.10.11"
  },
  "lc_notebook_meme": {
   "current": "9470fed6-4bfd-11e9-8c4f-02420a0001bc",
   "history": [],
   "root_cells": [
    "9471002a-4bfd-11e9-8c4f-02420a0001bc",
    "947100c0-4bfd-11e9-8c4f-02420a0001bc",
    "94710124-4bfd-11e9-8c4f-02420a0001bc",
    "94710188-4bfd-11e9-8c4f-02420a0001bc",
    "947101e2-4bfd-11e9-8c4f-02420a0001bc",
    "947102be-4bfd-11e9-8c4f-02420a0001bc",
    "9471032c-4bfd-11e9-8c4f-02420a0001bc",
    "94710386-4bfd-11e9-8c4f-02420a0001bc",
    "947103e0-4bfd-11e9-8c4f-02420a0001bc",
    "94710444-4bfd-11e9-8c4f-02420a0001bc",
    "9471049e-4bfd-11e9-8c4f-02420a0001bc",
    "947104f8-4bfd-11e9-8c4f-02420a0001bc",
    "94710552-4bfd-11e9-8c4f-02420a0001bc",
    "947105ac-4bfd-11e9-8c4f-02420a0001bc",
    "94710606-4bfd-11e9-8c4f-02420a0001bc",
    "94710660-4bfd-11e9-8c4f-02420a0001bc",
    "947106ba-4bfd-11e9-8c4f-02420a0001bc"
   ]
  },
  "toc": {
   "base_numbering": 1,
   "nav_menu": {},
   "number_sections": true,
   "sideBar": true,
   "skip_h1_title": false,
   "title_cell": "Table of Contents",
   "title_sidebar": "Contents",
   "toc_cell": false,
   "toc_position": {},
   "toc_section_display": true,
   "toc_window_display": false
  }
 },
 "nbformat": 4,
 "nbformat_minor": 2
}
