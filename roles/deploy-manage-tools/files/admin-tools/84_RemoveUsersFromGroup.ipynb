{
 "cells": [
  {
   "cell_type": "markdown",
   "metadata": {
    "lc_cell_meme": {
     "current": "f6474014-7d8a-11eb-bdf7-02420a01004f",
     "history": [],
     "next": "f64741ea-7d8a-11eb-bdf7-02420a01004f",
     "previous": null
    }
   },
   "source": [
    "# ユーザーグループを設定します\n",
    "\n",
    "ユーザーのグループを設定します。\n",
    "\n",
    "所属グループに応じたリソース制限設定に使用します。"
   ]
  },
  {
   "cell_type": "markdown",
   "metadata": {
    "lc_cell_meme": {
     "current": "f64741ea-7d8a-11eb-bdf7-02420a01004f",
     "history": [],
     "next": "f6474348-7d8a-11eb-bdf7-02420a01004f",
     "previous": "f6474014-7d8a-11eb-bdf7-02420a01004f"
    }
   },
   "source": [
    "# グループの定義"
   ]
  },
  {
   "cell_type": "markdown",
   "metadata": {
    "lc_cell_meme": {
     "current": "f6474348-7d8a-11eb-bdf7-02420a01004f",
     "history": [],
     "next": "f6474488-7d8a-11eb-bdf7-02420a01004f",
     "previous": "f64741ea-7d8a-11eb-bdf7-02420a01004f"
    }
   },
   "source": [
    "グループ名"
   ]
  },
  {
   "cell_type": "code",
   "execution_count": null,
   "metadata": {
    "lc_cell_meme": {
     "current": "f6474488-7d8a-11eb-bdf7-02420a01004f",
     "history": [],
     "next": "f64745b4-7d8a-11eb-bdf7-02420a01004f",
     "previous": "f6474348-7d8a-11eb-bdf7-02420a01004f"
    }
   },
   "outputs": [],
   "source": [
    "group_name = 'group1'\n",
    "group_name"
   ]
  },
  {
   "cell_type": "markdown",
   "metadata": {
    "lc_cell_meme": {
     "current": "f64745b4-7d8a-11eb-bdf7-02420a01004f",
     "history": [],
     "next": "f64746ea-7d8a-11eb-bdf7-02420a01004f",
     "previous": "f6474488-7d8a-11eb-bdf7-02420a01004f"
    }
   },
   "source": [
    "このグループから削除するユーザーのメールアドレス"
   ]
  },
  {
   "cell_type": "code",
   "execution_count": null,
   "metadata": {
    "lc_cell_meme": {
     "current": "f64746ea-7d8a-11eb-bdf7-02420a01004f",
     "history": [],
     "next": "f6474816-7d8a-11eb-bdf7-02420a01004f",
     "previous": "f64745b4-7d8a-11eb-bdf7-02420a01004f"
    }
   },
   "outputs": [],
   "source": [
    "user_email_list = '''\n",
    "student-a01@example.com\n",
    "student-a02@example.com\n",
    "student-a03@example.com\n",
    "'''"
   ]
  },
  {
   "cell_type": "code",
   "execution_count": null,
   "metadata": {
    "lc_cell_meme": {
     "current": "f6474816-7d8a-11eb-bdf7-02420a01004f",
     "history": [],
     "next": "f6474942-7d8a-11eb-bdf7-02420a01004f",
     "previous": "f64746ea-7d8a-11eb-bdf7-02420a01004f"
    }
   },
   "outputs": [],
   "source": [
    "import re\n",
    "user_emails = user_email_list.splitlines()\n",
    "user_emails = [x.strip() for x in user_emails \n",
    "               if re.sub(r'#.*$', '', x).strip()]\n",
    "user_emails"
   ]
  },
  {
   "cell_type": "code",
   "execution_count": null,
   "metadata": {
    "lc_cell_meme": {
     "current": "f6474942-7d8a-11eb-bdf7-02420a01004f",
     "history": [],
     "next": "f6474a64-7d8a-11eb-bdf7-02420a01004f",
     "previous": "f6474816-7d8a-11eb-bdf7-02420a01004f"
    }
   },
   "outputs": [],
   "source": [
    "import hashlib\n",
    "\n",
    "def get_username_from_mail_address(mail_address):\n",
    "    # Convert to lower and remove characters except for alphabets and digits\n",
    "    wk = mail_address.split('@')\n",
    "    local_part = wk[0].lower()\n",
    "    result = re.sub(r'[^a-zA-Z0-9]', '', local_part)\n",
    "    # Add top 6bytes of hash string\n",
    "    md5 = hashlib.md5()\n",
    "    md5.update(mail_address.encode('us-ascii'))\n",
    "    h = md5.hexdigest()[0:6]\n",
    "    result += 'x'\n",
    "    result += h;\n",
    "    return result;\n",
    "\n",
    "user_names = [get_username_from_mail_address(x) for x in user_emails]\n",
    "user_names"
   ]
  },
  {
   "cell_type": "markdown",
   "metadata": {
    "lc_cell_meme": {
     "current": "f6474a64-7d8a-11eb-bdf7-02420a01004f",
     "history": [],
     "next": "f6474b90-7d8a-11eb-bdf7-02420a01004f",
     "previous": "f6474942-7d8a-11eb-bdf7-02420a01004f"
    }
   },
   "source": [
    "# グループの設定"
   ]
  },
  {
   "cell_type": "code",
   "execution_count": null,
   "metadata": {
    "lc_cell_meme": {
     "current": "f6474b90-7d8a-11eb-bdf7-02420a01004f",
     "history": [],
     "next": "f6474cb2-7d8a-11eb-bdf7-02420a01004f",
     "previous": "f6474a64-7d8a-11eb-bdf7-02420a01004f"
    }
   },
   "outputs": [],
   "source": [
    "import os\n",
    "apitoken = os.environ['JUPYTERHUB_API_TOKEN']\n",
    "api_url = os.environ['JUPYTERHUB_API_URL']"
   ]
  },
  {
   "cell_type": "markdown",
   "metadata": {
    "lc_cell_meme": {
     "current": "f6474cb2-7d8a-11eb-bdf7-02420a01004f",
     "history": [],
     "next": "f6474dde-7d8a-11eb-bdf7-02420a01004f",
     "previous": "f6474b90-7d8a-11eb-bdf7-02420a01004f"
    }
   },
   "source": [
    "グループの存在確認"
   ]
  },
  {
   "cell_type": "code",
   "execution_count": null,
   "metadata": {
    "lc_cell_meme": {
     "current": "f6474dde-7d8a-11eb-bdf7-02420a01004f",
     "history": [],
     "next": "f6474ffa-7d8a-11eb-bdf7-02420a01004f",
     "previous": "f6474cb2-7d8a-11eb-bdf7-02420a01004f"
    }
   },
   "outputs": [],
   "source": [
    "headers = {\n",
    "    'Authorization': 'token %s' % apitoken,\n",
    "}"
   ]
  },
  {
   "cell_type": "code",
   "execution_count": null,
   "metadata": {
    "lc_cell_meme": {
     "current": "f6474ffa-7d8a-11eb-bdf7-02420a01004f",
     "history": [],
     "next": "f647516c-7d8a-11eb-bdf7-02420a01004f",
     "previous": "f6474dde-7d8a-11eb-bdf7-02420a01004f"
    }
   },
   "outputs": [],
   "source": [
    "import requests\n",
    "import json\n",
    "\n",
    "r = requests.get(api_url + '/groups/{}'.format(group_name),\n",
    "                 headers=headers)\n",
    "assert r.status_code == 200\n",
    "\n",
    "group = json.loads(r.text)\n",
    "group"
   ]
  },
  {
   "cell_type": "code",
   "execution_count": null,
   "metadata": {
    "lc_cell_meme": {
     "current": "f647516c-7d8a-11eb-bdf7-02420a01004f",
     "history": [],
     "next": "f64752a2-7d8a-11eb-bdf7-02420a01004f",
     "previous": "f6474ffa-7d8a-11eb-bdf7-02420a01004f"
    }
   },
   "outputs": [],
   "source": [
    "import json\n",
    "\n",
    "r = requests.get(api_url + '/groups/{}'.format(group_name),\n",
    "                 headers=headers)\n",
    "group = json.loads(r.text)\n",
    "current_users = group['users']\n",
    "\n",
    "user2mail = dict(zip(user_names, user_emails))\n",
    "\n",
    "nonmember_users = set(user_names) - set(current_users)\n",
    "remove_users = set(user_names) - set(nonmember_users)\n",
    "\n",
    "if remove_users:\n",
    "    print(\"Remove the following users from group '{}'\".format(group_name))\n",
    "    for username in remove_users:\n",
    "        print('{}({})'.format(user2mail[username], username))\n",
    "    h = headers.copy()\n",
    "    h['Content-Type'] : 'application/json'\n",
    "    r = requests.delete(api_url + '/groups/{}/users'.format(group_name),\n",
    "                      data = json.dumps({\n",
    "                          \"users\" : list(remove_users)\n",
    "                      }),\n",
    "                      headers=h)\n",
    "    assert r.status_code == 200\n",
    "\n",
    "nonmember_users = set(user_names) - set(remove_users)\n",
    "if nonmember_users:\n",
    "    print(\"The fowllowing users are not member of group '{}'\".format(group_name))\n",
    "    for username in nonmember_users:\n",
    "        print('{}({})'.format(user2mail[username], username))\n"
   ]
  },
  {
   "cell_type": "markdown",
   "metadata": {
    "lc_cell_meme": {
     "current": "f64752a2-7d8a-11eb-bdf7-02420a01004f",
     "history": [],
     "next": "f64753ce-7d8a-11eb-bdf7-02420a01004f",
     "previous": "f647516c-7d8a-11eb-bdf7-02420a01004f"
    }
   },
   "source": [
    "確認"
   ]
  },
  {
   "cell_type": "code",
   "execution_count": null,
   "metadata": {
    "lc_cell_meme": {
     "current": "f64753ce-7d8a-11eb-bdf7-02420a01004f",
     "history": [],
     "next": null,
     "previous": "f64752a2-7d8a-11eb-bdf7-02420a01004f"
    }
   },
   "outputs": [],
   "source": [
    "r = requests.get(api_url + '/groups/{}'.format(group_name),\n",
    "                  headers=headers)\n",
    "group = json.loads(r.text)\n",
    "group"
   ]
  }
 ],
 "metadata": {
  "kernelspec": {
   "display_name": "Python 3",
   "language": "python",
   "name": "python3"
  },
  "language_info": {
   "file_extension": ".py",
   "mimetype": "text/x-python",
   "name": "python",
   "nbconvert_exporter": "python",
   "pygments_lexer": "ipython3",
   "version": "3.8.6"
  },
  "lc_notebook_meme": {
   "current": "f6473b46-7d8a-11eb-bdf7-02420a01004f",
   "history": [],
   "root_cells": [
    "f6474014-7d8a-11eb-bdf7-02420a01004f",
    "f64741ea-7d8a-11eb-bdf7-02420a01004f",
    "f6474348-7d8a-11eb-bdf7-02420a01004f",
    "f6474488-7d8a-11eb-bdf7-02420a01004f",
    "f64745b4-7d8a-11eb-bdf7-02420a01004f",
    "f64746ea-7d8a-11eb-bdf7-02420a01004f",
    "f6474816-7d8a-11eb-bdf7-02420a01004f",
    "f6474942-7d8a-11eb-bdf7-02420a01004f",
    "f6474a64-7d8a-11eb-bdf7-02420a01004f",
    "f6474b90-7d8a-11eb-bdf7-02420a01004f",
    "f6474cb2-7d8a-11eb-bdf7-02420a01004f",
    "f6474dde-7d8a-11eb-bdf7-02420a01004f",
    "f6474ffa-7d8a-11eb-bdf7-02420a01004f",
    "f647516c-7d8a-11eb-bdf7-02420a01004f",
    "f64752a2-7d8a-11eb-bdf7-02420a01004f",
    "f64753ce-7d8a-11eb-bdf7-02420a01004f"
   ]
  },
  "toc": {
   "base_numbering": 1,
   "nav_menu": {},
   "number_sections": true,
   "sideBar": true,
   "skip_h1_title": false,
   "title_cell": "Table of Contents",
   "title_sidebar": "Contents",
   "toc_cell": false,
   "toc_position": {},
   "toc_section_display": true,
   "toc_window_display": true
  }
 },
 "nbformat": 4,
 "nbformat_minor": 4
}
