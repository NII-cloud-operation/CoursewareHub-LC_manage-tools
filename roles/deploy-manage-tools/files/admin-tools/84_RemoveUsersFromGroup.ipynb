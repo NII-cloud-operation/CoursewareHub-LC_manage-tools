{
 "cells": [
  {
   "cell_type": "markdown",
   "metadata": {
    "lc_cell_meme": {
     "current": "f6474014-7d8a-11eb-bdf7-02420a01004f-1-1b82",
     "history": [
      {
       "current": "f6474014-7d8a-11eb-bdf7-02420a01004f-1-1b82",
       "next": "f64741ea-7d8a-11eb-bdf7-02420a01004f",
       "previous": null
      }
     ],
     "next": "f64741ea-7d8a-11eb-bdf7-02420a01004f-1-17f9",
     "previous": null
    }
   },
   "source": [
    "# ユーザーグループを設定します\n",
    "\n",
    "ユーザーのグループを設定します。\n",
    "\n",
    "所属グループに応じたリソース制限設定に使用します。"
   ]
  },
  {
   "cell_type": "markdown",
   "metadata": {
    "lc_cell_meme": {
     "current": "f64741ea-7d8a-11eb-bdf7-02420a01004f-1-17f9",
     "history": [
      {
       "current": "f64741ea-7d8a-11eb-bdf7-02420a01004f-1-17f9",
       "next": "f6474348-7d8a-11eb-bdf7-02420a01004f",
       "previous": "f6474014-7d8a-11eb-bdf7-02420a01004f"
      }
     ],
     "next": "f6474348-7d8a-11eb-bdf7-02420a01004f-1-96ac",
     "previous": "f6474014-7d8a-11eb-bdf7-02420a01004f-1-1b82"
    }
   },
   "source": [
    "# グループの定義"
   ]
  },
  {
   "cell_type": "markdown",
   "metadata": {
    "lc_cell_meme": {
     "current": "f6474348-7d8a-11eb-bdf7-02420a01004f-1-96ac",
     "history": [
      {
       "current": "f6474348-7d8a-11eb-bdf7-02420a01004f-1-96ac",
       "next": "f6474488-7d8a-11eb-bdf7-02420a01004f",
       "previous": "f64741ea-7d8a-11eb-bdf7-02420a01004f"
      }
     ],
     "next": "f6474488-7d8a-11eb-bdf7-02420a01004f-1-cd5a",
     "previous": "f64741ea-7d8a-11eb-bdf7-02420a01004f-1-17f9"
    }
   },
   "source": [
    "グループ名"
   ]
  },
  {
   "cell_type": "code",
   "execution_count": null,
   "metadata": {
    "lc_cell_meme": {
     "current": "f6474488-7d8a-11eb-bdf7-02420a01004f-1-cd5a",
     "history": [
      {
       "current": "f6474488-7d8a-11eb-bdf7-02420a01004f-1-cd5a",
       "next": "f64745b4-7d8a-11eb-bdf7-02420a01004f",
       "previous": "f6474348-7d8a-11eb-bdf7-02420a01004f"
      }
     ],
     "next": "f64745b4-7d8a-11eb-bdf7-02420a01004f-1-eedb",
     "previous": "f6474348-7d8a-11eb-bdf7-02420a01004f-1-96ac"
    }
   },
   "outputs": [],
   "source": [
    "group_name = 'group1'\n",
    "group_name"
   ]
  },
  {
   "cell_type": "markdown",
   "metadata": {
    "lc_cell_meme": {
     "current": "f64745b4-7d8a-11eb-bdf7-02420a01004f-1-eedb",
     "history": [
      {
       "current": "f64745b4-7d8a-11eb-bdf7-02420a01004f-1-eedb",
       "next": "f64746ea-7d8a-11eb-bdf7-02420a01004f",
       "previous": "f6474488-7d8a-11eb-bdf7-02420a01004f"
      }
     ],
     "next": "f64746ea-7d8a-11eb-bdf7-02420a01004f-1-1444",
     "previous": "f6474488-7d8a-11eb-bdf7-02420a01004f-1-cd5a"
    }
   },
   "source": [
    "このグループから削除するユーザーのメールアドレス"
   ]
  },
  {
   "cell_type": "code",
   "execution_count": null,
   "metadata": {
    "lc_cell_meme": {
     "current": "f64746ea-7d8a-11eb-bdf7-02420a01004f-1-1444",
     "history": [
      {
       "current": "f64746ea-7d8a-11eb-bdf7-02420a01004f-1-1444",
       "next": "f6474816-7d8a-11eb-bdf7-02420a01004f",
       "previous": "f64745b4-7d8a-11eb-bdf7-02420a01004f"
      }
     ],
     "next": "f6474816-7d8a-11eb-bdf7-02420a01004f-1-c575",
     "previous": "f64745b4-7d8a-11eb-bdf7-02420a01004f-1-eedb"
    }
   },
   "outputs": [],
   "source": [
    "user_email_list = '''\n",
    "student-a01@example.com\n",
    "student-a02@example.com\n",
    "student-a03@example.com\n",
    "'''"
   ]
  },
  {
   "cell_type": "code",
   "execution_count": null,
   "metadata": {
    "lc_cell_meme": {
     "current": "f6474816-7d8a-11eb-bdf7-02420a01004f-1-c575",
     "history": [
      {
       "current": "f6474816-7d8a-11eb-bdf7-02420a01004f-1-c575",
       "next": "f6474942-7d8a-11eb-bdf7-02420a01004f",
       "previous": "f64746ea-7d8a-11eb-bdf7-02420a01004f"
      }
     ],
     "next": "f6474942-7d8a-11eb-bdf7-02420a01004f-1-ea7f",
     "previous": "f64746ea-7d8a-11eb-bdf7-02420a01004f-1-1444"
    }
   },
   "outputs": [],
   "source": [
    "import re\n",
    "user_emails = user_email_list.splitlines()\n",
    "user_emails = [x.strip() for x in user_emails \n",
    "               if re.sub(r'#.*$', '', x).strip()]\n",
    "user_emails"
   ]
  },
  {
   "cell_type": "code",
   "execution_count": null,
   "metadata": {
    "lc_cell_meme": {
     "current": "f6474942-7d8a-11eb-bdf7-02420a01004f-1-ea7f",
     "history": [
      {
       "current": "f6474942-7d8a-11eb-bdf7-02420a01004f-1-ea7f",
       "next": "f6474a64-7d8a-11eb-bdf7-02420a01004f",
       "previous": "f6474816-7d8a-11eb-bdf7-02420a01004f"
      }
     ],
     "next": "f6474a64-7d8a-11eb-bdf7-02420a01004f-1-cf49",
     "previous": "f6474816-7d8a-11eb-bdf7-02420a01004f-1-c575"
    }
   },
   "outputs": [],
   "source": [
    "import hashlib\n",
    "\n",
    "def get_username_from_mail_address(mail_address):\n",
    "    # Convert to lower and remove characters except for alphabets and digits\n",
    "    wk = mail_address.split('@')\n",
    "    local_part = wk[0].lower()\n",
    "    result = re.sub(r'[^a-zA-Z0-9]', '', local_part)\n",
    "    # Add top 6bytes of hash string\n",
    "    md5 = hashlib.md5()\n",
    "    md5.update(mail_address.encode('us-ascii'))\n",
    "    h = md5.hexdigest()[0:6]\n",
    "    result += 'x'\n",
    "    result += h;\n",
    "    return result;\n",
    "\n",
    "user_names = [get_username_from_mail_address(x) for x in user_emails]\n",
    "user_names"
   ]
  },
  {
   "cell_type": "markdown",
   "metadata": {
    "lc_cell_meme": {
     "current": "f6474a64-7d8a-11eb-bdf7-02420a01004f-1-cf49",
     "history": [
      {
       "current": "f6474a64-7d8a-11eb-bdf7-02420a01004f-1-cf49",
       "next": "f6474b90-7d8a-11eb-bdf7-02420a01004f",
       "previous": "f6474942-7d8a-11eb-bdf7-02420a01004f"
      }
     ],
     "next": "feba8ca8-d0a0-11ee-a40c-02420a640143-4-b18e-b902-dd0f-135b",
     "previous": "f6474942-7d8a-11eb-bdf7-02420a01004f-1-ea7f"
    }
   },
   "source": [
    "# グループの設定"
   ]
  },
  {
   "cell_type": "markdown",
   "metadata": {
    "lc_cell_meme": {
     "current": "feba8ca8-d0a0-11ee-a40c-02420a640143-4-b18e-b902-dd0f-135b",
     "history": [
      {
       "current": "feba8ca8-d0a0-11ee-a40c-02420a640143-2-b18e-b902",
       "next": "feba9248-d0a0-11ee-a40c-02420a640143",
       "previous": "952ac744-4bfd-11e9-845a-02420a0001bc-1-4ad7"
      },
      {
       "current": "feba8ca8-d0a0-11ee-a40c-02420a640143-4-b18e-b902-dd0f-135b",
       "next": "feba9248-d0a0-11ee-a40c-02420a640143-2-36f9-b12d",
       "previous": "952ac744-4bfd-11e9-845a-02420a0001bc-1-65df"
      }
     ],
     "next": "feba9248-d0a0-11ee-a40c-02420a640143-4-36f9-b12d-7522-edfa",
     "previous": "f6474a64-7d8a-11eb-bdf7-02420a01004f-1-cf49"
    }
   },
   "source": [
    "[API Tokens](/hub/token)のページで、tokenを作成して以下に入力してください。"
   ]
  },
  {
   "cell_type": "code",
   "execution_count": null,
   "metadata": {
    "lc_cell_meme": {
     "current": "feba9248-d0a0-11ee-a40c-02420a640143-4-36f9-b12d-7522-edfa",
     "history": [
      {
       "current": "feba9248-d0a0-11ee-a40c-02420a640143-2-36f9-b12d",
       "next": "952ac794-4bfd-11e9-845a-02420a0001bc-1-21a4",
       "previous": "feba8ca8-d0a0-11ee-a40c-02420a640143"
      },
      {
       "current": "feba9248-d0a0-11ee-a40c-02420a640143-4-36f9-b12d-7522-edfa",
       "next": "952ac794-4bfd-11e9-845a-02420a0001bc-1-2b6f",
       "previous": "feba8ca8-d0a0-11ee-a40c-02420a640143-2-b18e-b902"
      }
     ],
     "next": "f6474b90-7d8a-11eb-bdf7-02420a01004f-1-1e52",
     "previous": "feba8ca8-d0a0-11ee-a40c-02420a640143-4-b18e-b902-dd0f-135b"
    }
   },
   "outputs": [],
   "source": [
    "import getpass\n",
    "apitoken = getpass.getpass('JupyterHub API token')"
   ]
  },
  {
   "cell_type": "code",
   "execution_count": null,
   "metadata": {
    "lc_cell_meme": {
     "current": "f6474b90-7d8a-11eb-bdf7-02420a01004f-1-1e52",
     "history": [
      {
       "current": "f6474b90-7d8a-11eb-bdf7-02420a01004f-1-1e52",
       "next": "f6474cb2-7d8a-11eb-bdf7-02420a01004f",
       "previous": "f6474a64-7d8a-11eb-bdf7-02420a01004f"
      }
     ],
     "next": "f6474cb2-7d8a-11eb-bdf7-02420a01004f-1-6757",
     "previous": "feba9248-d0a0-11ee-a40c-02420a640143-4-36f9-b12d-7522-edfa"
    }
   },
   "outputs": [],
   "source": [
    "import os\n",
    "api_url = os.environ['JUPYTERHUB_API_URL']"
   ]
  },
  {
   "cell_type": "markdown",
   "metadata": {
    "lc_cell_meme": {
     "current": "f6474cb2-7d8a-11eb-bdf7-02420a01004f-1-6757",
     "history": [
      {
       "current": "f6474cb2-7d8a-11eb-bdf7-02420a01004f-1-6757",
       "next": "f6474dde-7d8a-11eb-bdf7-02420a01004f",
       "previous": "f6474b90-7d8a-11eb-bdf7-02420a01004f"
      }
     ],
     "next": "f6474dde-7d8a-11eb-bdf7-02420a01004f-1-6e90",
     "previous": "f6474b90-7d8a-11eb-bdf7-02420a01004f-1-1e52"
    }
   },
   "source": [
    "グループの存在確認"
   ]
  },
  {
   "cell_type": "code",
   "execution_count": null,
   "metadata": {
    "lc_cell_meme": {
     "current": "f6474dde-7d8a-11eb-bdf7-02420a01004f-1-6e90",
     "history": [
      {
       "current": "f6474dde-7d8a-11eb-bdf7-02420a01004f-1-6e90",
       "next": "f6474ffa-7d8a-11eb-bdf7-02420a01004f",
       "previous": "f6474cb2-7d8a-11eb-bdf7-02420a01004f"
      }
     ],
     "next": "f6474ffa-7d8a-11eb-bdf7-02420a01004f-1-25f7",
     "previous": "f6474cb2-7d8a-11eb-bdf7-02420a01004f-1-6757"
    }
   },
   "outputs": [],
   "source": [
    "headers = {\n",
    "    'Authorization': 'token %s' % apitoken,\n",
    "}"
   ]
  },
  {
   "cell_type": "code",
   "execution_count": null,
   "metadata": {
    "lc_cell_meme": {
     "current": "f6474ffa-7d8a-11eb-bdf7-02420a01004f-1-25f7",
     "history": [
      {
       "current": "f6474ffa-7d8a-11eb-bdf7-02420a01004f-1-25f7",
       "next": "f647516c-7d8a-11eb-bdf7-02420a01004f",
       "previous": "f6474dde-7d8a-11eb-bdf7-02420a01004f"
      }
     ],
     "next": "f647516c-7d8a-11eb-bdf7-02420a01004f-1-03f5",
     "previous": "f6474dde-7d8a-11eb-bdf7-02420a01004f-1-6e90"
    }
   },
   "outputs": [],
   "source": [
    "import requests\n",
    "import json\n",
    "\n",
    "r = requests.get(api_url + '/groups/{}'.format(group_name),\n",
    "                 headers=headers)\n",
    "assert r.status_code == 200\n",
    "\n",
    "group = json.loads(r.text)\n",
    "group"
   ]
  },
  {
   "cell_type": "code",
   "execution_count": null,
   "metadata": {
    "lc_cell_meme": {
     "current": "f647516c-7d8a-11eb-bdf7-02420a01004f-1-03f5",
     "history": [
      {
       "current": "f647516c-7d8a-11eb-bdf7-02420a01004f-1-03f5",
       "next": "f64752a2-7d8a-11eb-bdf7-02420a01004f",
       "previous": "f6474ffa-7d8a-11eb-bdf7-02420a01004f"
      }
     ],
     "next": "f64752a2-7d8a-11eb-bdf7-02420a01004f-1-2c2e",
     "previous": "f6474ffa-7d8a-11eb-bdf7-02420a01004f-1-25f7"
    }
   },
   "outputs": [],
   "source": [
    "import json\n",
    "\n",
    "r = requests.get(api_url + '/groups/{}'.format(group_name),\n",
    "                 headers=headers)\n",
    "group = json.loads(r.text)\n",
    "current_users = group['users']\n",
    "\n",
    "user2mail = dict(zip(user_names, user_emails))\n",
    "\n",
    "nonmember_users = set(user_names) - set(current_users)\n",
    "remove_users = set(user_names) - set(nonmember_users)\n",
    "\n",
    "if remove_users:\n",
    "    print(\"Remove the following users from group '{}'\".format(group_name))\n",
    "    for username in remove_users:\n",
    "        print('{}({})'.format(user2mail[username], username))\n",
    "    h = headers.copy()\n",
    "    h['Content-Type'] : 'application/json'\n",
    "    r = requests.delete(api_url + '/groups/{}/users'.format(group_name),\n",
    "                      data = json.dumps({\n",
    "                          \"users\" : list(remove_users)\n",
    "                      }),\n",
    "                      headers=h)\n",
    "    assert r.status_code == 200\n",
    "\n",
    "nonmember_users = set(user_names) - set(remove_users)\n",
    "if nonmember_users:\n",
    "    print(\"The fowllowing users are not member of group '{}'\".format(group_name))\n",
    "    for username in nonmember_users:\n",
    "        print('{}({})'.format(user2mail[username], username))\n"
   ]
  },
  {
   "cell_type": "markdown",
   "metadata": {
    "lc_cell_meme": {
     "current": "f64752a2-7d8a-11eb-bdf7-02420a01004f-1-2c2e",
     "history": [
      {
       "current": "f64752a2-7d8a-11eb-bdf7-02420a01004f-1-2c2e",
       "next": "f64753ce-7d8a-11eb-bdf7-02420a01004f",
       "previous": "f647516c-7d8a-11eb-bdf7-02420a01004f"
      }
     ],
     "next": "f64753ce-7d8a-11eb-bdf7-02420a01004f-1-6d7b",
     "previous": "f647516c-7d8a-11eb-bdf7-02420a01004f-1-03f5"
    }
   },
   "source": [
    "確認"
   ]
  },
  {
   "cell_type": "code",
   "execution_count": null,
   "metadata": {
    "lc_cell_meme": {
     "current": "f64753ce-7d8a-11eb-bdf7-02420a01004f-1-6d7b",
     "history": [
      {
       "current": "f64753ce-7d8a-11eb-bdf7-02420a01004f-1-6d7b",
       "next": null,
       "previous": "f64752a2-7d8a-11eb-bdf7-02420a01004f"
      }
     ],
     "next": null,
     "previous": "f64752a2-7d8a-11eb-bdf7-02420a01004f-1-2c2e"
    }
   },
   "outputs": [],
   "source": [
    "r = requests.get(api_url + '/groups/{}'.format(group_name),\n",
    "                  headers=headers)\n",
    "group = json.loads(r.text)\n",
    "group"
   ]
  }
 ],
 "metadata": {
  "kernelspec": {
   "display_name": "Python 3",
   "language": "python",
   "name": "python3"
  },
  "language_info": {
   "file_extension": ".py",
   "mimetype": "text/x-python",
   "name": "python",
   "nbconvert_exporter": "python",
   "pygments_lexer": "ipython3",
   "version": "3.10.11"
  },
  "lc_notebook_meme": {
   "current": "f6473b46-7d8a-11eb-bdf7-02420a01004f",
   "history": [],
   "root_cells": [
    "f6474014-7d8a-11eb-bdf7-02420a01004f",
    "f64741ea-7d8a-11eb-bdf7-02420a01004f",
    "f6474348-7d8a-11eb-bdf7-02420a01004f",
    "f6474488-7d8a-11eb-bdf7-02420a01004f",
    "f64745b4-7d8a-11eb-bdf7-02420a01004f",
    "f64746ea-7d8a-11eb-bdf7-02420a01004f",
    "f6474816-7d8a-11eb-bdf7-02420a01004f",
    "f6474942-7d8a-11eb-bdf7-02420a01004f",
    "f6474a64-7d8a-11eb-bdf7-02420a01004f",
    "f6474b90-7d8a-11eb-bdf7-02420a01004f",
    "f6474cb2-7d8a-11eb-bdf7-02420a01004f",
    "f6474dde-7d8a-11eb-bdf7-02420a01004f",
    "f6474ffa-7d8a-11eb-bdf7-02420a01004f",
    "f647516c-7d8a-11eb-bdf7-02420a01004f",
    "f64752a2-7d8a-11eb-bdf7-02420a01004f",
    "f64753ce-7d8a-11eb-bdf7-02420a01004f"
   ]
  },
  "toc": {
   "base_numbering": 1,
   "nav_menu": {},
   "number_sections": true,
   "sideBar": true,
   "skip_h1_title": false,
   "title_cell": "Table of Contents",
   "title_sidebar": "Contents",
   "toc_cell": false,
   "toc_position": {
    "height": "calc(100% - 180px)",
    "left": "10px",
    "top": "150px",
    "width": "350.391px"
   },
   "toc_section_display": true,
   "toc_window_display": true
  }
 },
 "nbformat": 4,
 "nbformat_minor": 4
}
