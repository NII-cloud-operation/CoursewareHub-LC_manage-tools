{
 "cells": [
  {
   "cell_type": "markdown",
   "metadata": {
    "collapsed": true,
    "lc_cell_meme": {
     "current": "94147e18-4bfd-11e9-923a-02420a0001bc",
     "history": [],
     "next": "94147ee0-4bfd-11e9-923a-02420a0001bc",
     "previous": null
    }
   },
   "source": [
    "# My Server の Container イメージをリストアする\n",
    "<HR>"
   ]
  },
  {
   "cell_type": "markdown",
   "metadata": {
    "lc_cell_meme": {
     "current": "94147ee0-4bfd-11e9-923a-02420a0001bc",
     "history": [],
     "next": "94147f44-4bfd-11e9-923a-02420a0001bc",
     "previous": "94147e18-4bfd-11e9-923a-02420a0001bc"
    }
   },
   "source": [
    "My Server の Container イメージファイルから、Container イメージを各Notebook Container ホストに配布し、配布したイメージで My Server が起動するように設定します。"
   ]
  },
  {
   "cell_type": "markdown",
   "metadata": {
    "lc_cell_meme": {
     "current": "94147f44-4bfd-11e9-923a-02420a0001bc",
     "history": [],
     "next": "94147f94-4bfd-11e9-923a-02420a0001bc",
     "previous": "94147ee0-4bfd-11e9-923a-02420a0001bc"
    }
   },
   "source": [
    "# Container イメージファイルを格納するディレクトリの用意\n",
    "\n",
    "配布元の Container イメージファイルを格納するディレクトリです。\n",
    "\n",
    "`BACKUP_WORK_DIR`は、`$HOME`からの相対パスです。"
   ]
  },
  {
   "cell_type": "code",
   "execution_count": null,
   "metadata": {
    "lc_cell_meme": {
     "current": "94147f94-4bfd-11e9-923a-02420a0001bc",
     "history": [],
     "next": "94147fe4-4bfd-11e9-923a-02420a0001bc",
     "previous": "94147f44-4bfd-11e9-923a-02420a0001bc"
    }
   },
   "outputs": [],
   "source": [
    "BACKUP_WORK_DIR = 'images'\n",
    "\n",
    "import os\n",
    "import os.path\n",
    "backup_dir = os.path.expanduser(os.path.join('~', BACKUP_WORK_DIR))\n",
    "if not os.path.exists(backup_dir):\n",
    "    os.makedirs(backup_dir)"
   ]
  },
  {
   "cell_type": "markdown",
   "metadata": {
    "lc_cell_meme": {
     "current": "94147fe4-4bfd-11e9-923a-02420a0001bc",
     "history": [],
     "next": "94148034-4bfd-11e9-923a-02420a0001bc",
     "previous": "94147f94-4bfd-11e9-923a-02420a0001bc"
    }
   },
   "source": [
    "# Container イメージファイルを転送"
   ]
  },
  {
   "cell_type": "markdown",
   "metadata": {
    "lc_cell_meme": {
     "current": "94148034-4bfd-11e9-923a-02420a0001bc",
     "history": [],
     "next": "94148084-4bfd-11e9-923a-02420a0001bc",
     "previous": "94147fe4-4bfd-11e9-923a-02420a0001bc"
    }
   },
   "source": [
    "* リストアする Container イメージバックアップファイルを、ディレクトリ `$HOME/images` に転送して下さい。\n",
    "* イメージファイルは `docker save`コマンドで作られる tar 形式のファイルです。\n",
    "*  イメージファイルを、`16_SaveNotebookContainerImage.ipynb` 作成した場合は、すでに`$HOME/images`に保存されていますので、先へ進んでください\n"
   ]
  },
  {
   "cell_type": "markdown",
   "metadata": {
    "lc_cell_meme": {
     "current": "94148084-4bfd-11e9-923a-02420a0001bc",
     "history": [],
     "next": "941480ca-4bfd-11e9-923a-02420a0001bc",
     "previous": "94148034-4bfd-11e9-923a-02420a0001bc"
    }
   },
   "source": [
    "# Container イメージバックアップファイル名を指定"
   ]
  },
  {
   "cell_type": "markdown",
   "metadata": {
    "lc_cell_meme": {
     "current": "941480ca-4bfd-11e9-923a-02420a0001bc",
     "history": [],
     "next": "9414811a-4bfd-11e9-923a-02420a0001bc",
     "previous": "94148084-4bfd-11e9-923a-02420a0001bc"
    }
   },
   "source": [
    "* 次のセルで、`ARCHIVE_FILE_NAME` にリストアする Container イメージのバックアップファイル名を指定して下さい。\n",
    "```\n",
    "ARCHIVE_FILE_NAME=\"server-container-170513-065930.tar\"\n",
    "```\n",
    "* バックアップファイルは、上のセルで作成した BACKUP_WORK_DIR に格納されているものとします。"
   ]
  },
  {
   "cell_type": "code",
   "execution_count": null,
   "metadata": {
    "lc_cell_meme": {
     "current": "9414811a-4bfd-11e9-923a-02420a0001bc",
     "history": [],
     "next": "9414816a-4bfd-11e9-923a-02420a0001bc",
     "previous": "941480ca-4bfd-11e9-923a-02420a0001bc"
    }
   },
   "outputs": [],
   "source": [
    "!cd ~/{BACKUP_WORK_DIR} && ls -l *.tar"
   ]
  },
  {
   "cell_type": "code",
   "execution_count": null,
   "metadata": {
    "lc_cell_meme": {
     "current": "9414816a-4bfd-11e9-923a-02420a0001bc",
     "history": [],
     "next": "941481b0-4bfd-11e9-923a-02420a0001bc",
     "previous": "9414811a-4bfd-11e9-923a-02420a0001bc"
    }
   },
   "outputs": [],
   "source": [
    "ARCHIVE_FILE_NAME=\"server-container-20190322-020641.tar\""
   ]
  },
  {
   "cell_type": "code",
   "execution_count": null,
   "metadata": {
    "lc_cell_meme": {
     "current": "941481b0-4bfd-11e9-923a-02420a0001bc",
     "history": [],
     "next": "94148200-4bfd-11e9-923a-02420a0001bc",
     "previous": "9414816a-4bfd-11e9-923a-02420a0001bc"
    }
   },
   "outputs": [],
   "source": [
    "import os.path\n",
    "imagefilepath = os.path.expanduser(os.path.join('~', BACKUP_WORK_DIR, ARCHIVE_FILE_NAME))\n",
    "assert os.path.exists(imagefilepath)\n",
    "!ls -l ~/{BACKUP_WORK_DIR}/{ARCHIVE_FILE_NAME}"
   ]
  },
  {
   "cell_type": "markdown",
   "metadata": {
    "lc_cell_meme": {
     "current": "94148200-4bfd-11e9-923a-02420a0001bc",
     "history": [],
     "next": "94148250-4bfd-11e9-923a-02420a0001bc",
     "previous": "941481b0-4bfd-11e9-923a-02420a0001bc"
    }
   },
   "source": [
    "# Containerイメージの配布\n",
    "\n",
    "CoursewareHubの各ノードにイメージを配布します。"
   ]
  },
  {
   "cell_type": "code",
   "execution_count": null,
   "metadata": {
    "lc_cell_meme": {
     "current": "94148250-4bfd-11e9-923a-02420a0001bc",
     "history": [],
     "next": "941482a0-4bfd-11e9-923a-02420a0001bc",
     "previous": "94148200-4bfd-11e9-923a-02420a0001bc"
    }
   },
   "outputs": [],
   "source": [
    "import os\n",
    "target_hub = ['-i', os.path.expanduser('~/ansible/inventory'), 'ch-master']\n",
    "\n",
    "!ansible -m ping {' '.join(target_hub)}"
   ]
  },
  {
   "cell_type": "code",
   "execution_count": null,
   "metadata": {
    "lc_cell_meme": {
     "current": "941482a0-4bfd-11e9-923a-02420a0001bc",
     "history": [],
     "next": "941482e6-4bfd-11e9-923a-02420a0001bc",
     "previous": "94148250-4bfd-11e9-923a-02420a0001bc"
    }
   },
   "outputs": [],
   "source": [
    "target_hub_all = ['-i', os.path.expanduser('~/ansible/inventory'), 'ch-all']\n",
    "\n",
    "!ansible -m ping {' '.join(target_hub_all)}"
   ]
  },
  {
   "cell_type": "markdown",
   "metadata": {
    "lc_cell_meme": {
     "current": "941482e6-4bfd-11e9-923a-02420a0001bc",
     "history": [],
     "next": "94148336-4bfd-11e9-923a-02420a0001bc",
     "previous": "941482a0-4bfd-11e9-923a-02420a0001bc"
    }
   },
   "source": [
    "**上記セルが動作しない場合**\n",
    "\n",
    "```\n",
    "The authenticity of host 'xxx.xxx.205.128 (xxx.xxx.205.128)' can't be established.\n",
    "ECDSA key fingerprint is SHA256:qjPDx7y/926gHJL9+SgMGKpicRORzffk1/xiUyIP00w.\n",
    "Are you sure you want to continue connecting (yes/no)?\n",
    "```\n",
    "（IPアドレスと、fingerprintは例です）\n",
    "\n",
    "となり実行中のまま状態変化しなくなる場合は、JupyterのTerminalから、\n",
    "\n",
    "```\n",
    "$ ssh xxx.xxx.205.128\n",
    "```\n",
    "\n",
    "を実行し、ECDSA key fingerprintが `SHA256:qjPDx7y/926gHJL9+SgMGKpicRORzffk1/xiUyIP00w` であることを確認してyesを実行し、上記のセルを停止の上再実行してください。"
   ]
  },
  {
   "cell_type": "markdown",
   "metadata": {
    "lc_cell_meme": {
     "current": "94148336-4bfd-11e9-923a-02420a0001bc",
     "history": [],
     "next": "9414837c-4bfd-11e9-923a-02420a0001bc",
     "previous": "941482e6-4bfd-11e9-923a-02420a0001bc"
    }
   },
   "source": [
    "## 現行版のイメージの情報を控える\n",
    "\n",
    "新しいイメージに問題があった場合に、現行版のイメージを復元するための情報を控えておきます。"
   ]
  },
  {
   "cell_type": "code",
   "execution_count": null,
   "metadata": {
    "lc_cell_meme": {
     "current": "9414837c-4bfd-11e9-923a-02420a0001bc",
     "history": [],
     "next": "941483cc-4bfd-11e9-923a-02420a0001bc",
     "previous": "94148336-4bfd-11e9-923a-02420a0001bc"
    }
   },
   "outputs": [],
   "source": [
    "def get_container(name):\n",
    "    import subprocess\n",
    "    try:\n",
    "        sid = subprocess.check_output(['ansible', '-b', '-a', 'docker service ps {} -q'.format(name)] + target_hub)\n",
    "        sid = sid.decode('utf-8').split('\\n')[1].strip()\n",
    "        cinfo = subprocess.check_output(\n",
    "            ['ansible', '-b', '-a', \n",
    "             'docker inspect --format \"{% raw %} {{.NodeID}} {{.Status.ContainerStatus.ContainerID}} {% endraw %}\" ' + sid\n",
    "            ] + target_hub)\n",
    "        nodeid, cid = cinfo.decode('utf-8').split('\\n')[1].strip().split()\n",
    "        nodeip = subprocess.check_output(\n",
    "            ['ansible', '-b', '-a', \n",
    "             'docker node inspect --format \"{% raw %} {{.Status.Addr}} {% endraw %}\" ' + nodeid\n",
    "            ] + target_hub)\n",
    "        nodeip = nodeip.decode('utf-8').split('\\n')[1].split()[0]\n",
    "        return (nodeip, cid)\n",
    "    except subprocess.CalledProcessError as e:\n",
    "        print(e.output.decode('utf-8'))\n",
    "        raise\n",
    "\n",
    "def get_container_env(service_name, env_name):\n",
    "    c = get_container(service_name)\n",
    "\n",
    "    import subprocess\n",
    "    import json\n",
    "    target = ['-i', os.path.expanduser('~/ansible/inventory'), c[0]]\n",
    "    env = subprocess.check_output(\n",
    "        ['ansible', '-b', '-a', \n",
    "         'docker inspect --format \"{% raw %} {{json .Config.Env}} {% endraw %}\" ' + c[1]\n",
    "        ] + target)\n",
    "    env = json.loads(env.decode('utf-8').split('\\n')[1])\n",
    "    env = dict([tuple(x.split('=')) for x in env])\n",
    "    return env[env_name]\n",
    "\n",
    "image_tag = get_container_env('jupyterhub', 'CONTAINER_IMAGE')\n",
    "image_tag"
   ]
  },
  {
   "cell_type": "code",
   "execution_count": null,
   "metadata": {
    "lc_cell_meme": {
     "current": "941483cc-4bfd-11e9-923a-02420a0001bc",
     "history": [],
     "next": "9414841c-4bfd-11e9-923a-02420a0001bc",
     "previous": "9414837c-4bfd-11e9-923a-02420a0001bc"
    }
   },
   "outputs": [],
   "source": [
    "import subprocess\n",
    "org_image_id = subprocess.check_output(\n",
    "    ['ansible', '-b', '-a', \n",
    "     'docker inspect --format \"{% raw %} {{.Id}} {% endraw %}\" ' + image_tag\n",
    "    ] + target_hub)\n",
    "org_image_id = org_image_id.decode('utf-8').split('\\n')[1].strip()\n",
    "org_image_id"
   ]
  },
  {
   "cell_type": "markdown",
   "metadata": {
    "lc_cell_meme": {
     "current": "9414841c-4bfd-11e9-923a-02420a0001bc",
     "history": [],
     "next": "9414846c-4bfd-11e9-923a-02420a0001bc",
     "previous": "941483cc-4bfd-11e9-923a-02420a0001bc"
    }
   },
   "source": [
    "万が一、起動不可能になったとき管理者が復旧作業ができるように、現行版のイメージにタグをつけておきます。"
   ]
  },
  {
   "cell_type": "code",
   "execution_count": null,
   "metadata": {
    "lc_cell_meme": {
     "current": "9414846c-4bfd-11e9-923a-02420a0001bc",
     "history": [],
     "next": "941484b2-4bfd-11e9-923a-02420a0001bc",
     "previous": "9414841c-4bfd-11e9-923a-02420a0001bc"
    }
   },
   "outputs": [],
   "source": [
    "from datetime import datetime\n",
    "\n",
    "image_tag_body = image_tag.rsplit(':', 1)[0]\n",
    "now = datetime.now()\n",
    "\n",
    "failback_latest_tag = '{}:fallback-latest'.format(image_tag_body)\n",
    "failback_date_tag = '{}:fallback-{}'.format(image_tag_body, now.strftime('%Y%m%d-%H%M%S'))\n",
    "\n",
    "print('Setting image tag {} => {}'.format(org_image_id, failback_date_tag) )\n",
    "subprocess.check_output(['ansible', '-b', '-a', \n",
    "                               'docker tag {} {}'.format(org_image_id, failback_date_tag)]\n",
    "                              + target_hub_all).decode('utf-8')\n",
    "print('Setting image tag {} => {}'.format(org_image_id, failback_latest_tag) )\n",
    "subprocess.check_output(['ansible', '-b', '-a', \n",
    "                               'docker tag {} {}'.format(org_image_id, failback_latest_tag)]\n",
    "                              + target_hub_all).decode('utf-8')"
   ]
  },
  {
   "cell_type": "markdown",
   "metadata": {
    "lc_cell_meme": {
     "current": "941484b2-4bfd-11e9-923a-02420a0001bc",
     "history": [],
     "next": "94148502-4bfd-11e9-923a-02420a0001bc",
     "previous": "9414846c-4bfd-11e9-923a-02420a0001bc"
    }
   },
   "source": [
    "## イメージの配布\n",
    "\n",
    "イメージの配布を実行します。"
   ]
  },
  {
   "cell_type": "code",
   "execution_count": null,
   "metadata": {
    "lc_cell_meme": {
     "current": "94148502-4bfd-11e9-923a-02420a0001bc",
     "history": [],
     "next": "94148552-4bfd-11e9-923a-02420a0001bc",
     "previous": "941484b2-4bfd-11e9-923a-02420a0001bc"
    }
   },
   "outputs": [],
   "source": [
    "import subprocess\n",
    "import re\n",
    "\n",
    "print('Loading image from the file: {}'.format(imagefilepath))\n",
    "loaded_image = subprocess.check_output(['ansible', '-b', '-a', \n",
    "                                        'docker load -q -i /jupyter/users/{}/{}/{}'.format(\n",
    "                                            os.environ['JUPYTERHUB_USER'],\n",
    "                                            BACKUP_WORK_DIR,\n",
    "                                            ARCHIVE_FILE_NAME,\n",
    "                                        )] + target_hub_all)\n",
    "loaded_image = loaded_image.decode('utf-8').split('\\n')\n",
    "loaded_images = set()\n",
    "for l in loaded_image:\n",
    "    m = re.match(r'^Loaded image:\\s*(.+)$', l)\n",
    "    if m:\n",
    "        loaded_images.add(m.group(1))\n",
    "assert len(loaded_images) == 1\n",
    "loaded_image = loaded_images.pop()\n",
    "print('Loaded image: {}'.format(loaded_image))\n",
    "\n",
    "print('Set image tag {} => {}'.format(loaded_image, image_tag) )\n",
    "subprocess.check_output(['ansible', '-b', '-a', \n",
    "                         'docker tag {} {}'.format(loaded_image, image_tag)]\n",
    "                        + target_hub_all)\n",
    "\n",
    "print('Completed')"
   ]
  },
  {
   "cell_type": "markdown",
   "metadata": {
    "lc_cell_meme": {
     "current": "94148552-4bfd-11e9-923a-02420a0001bc",
     "history": [],
     "next": "94148598-4bfd-11e9-923a-02420a0001bc",
     "previous": "94148502-4bfd-11e9-923a-02420a0001bc"
    }
   },
   "source": [
    "## テスト\n",
    "\n",
    "1. 以下のURLにアクセスして、Adminのコントロールパネルを開いてください。\n",
    "  * [/hub/admin](/hub/admin)\n",
    "1. 現在使用しているユーザー**以外**の**テスト用のユーザー**で、「stop server」、「start server」でJupyter Notebokの再起動を行ってください。\n",
    "  * 起動可能であると確認できるまでは、自分のユーザーでは試さないでください。\n",
    "  * テスト用のユーザーがない場合は、あらかじめ作成しておく必要があります。\n",
    "1. 「access server」ボタンで、テスト用ユーザーのJupyter Notebookサーバーにアクセスし、動作を確認してください。\n",
    "1. 新しいイメージは、各ユーザーのMy Serverを再起動するまでは反映されません。"
   ]
  },
  {
   "cell_type": "markdown",
   "metadata": {
    "lc_cell_meme": {
     "current": "94148598-4bfd-11e9-923a-02420a0001bc",
     "history": [],
     "next": "941485e8-4bfd-11e9-923a-02420a0001bc",
     "previous": "94148552-4bfd-11e9-923a-02420a0001bc"
    }
   },
   "source": [
    "## 復元\n",
    "\n",
    "このセクションの手順は、上のテストで、配布したイメージが動作しなかった場合に、元のイメージ復元するためのものです。\n",
    "\n",
    "成功した場合は、実行の必要はありません。"
   ]
  },
  {
   "cell_type": "code",
   "execution_count": null,
   "metadata": {
    "lc_cell_meme": {
     "current": "941485e8-4bfd-11e9-923a-02420a0001bc",
     "history": [],
     "next": "9414862e-4bfd-11e9-923a-02420a0001bc",
     "previous": "94148598-4bfd-11e9-923a-02420a0001bc"
    }
   },
   "outputs": [],
   "source": [
    "# Run All で以下のセルが実行されるのを防止します\n",
    "assert False"
   ]
  },
  {
   "cell_type": "code",
   "execution_count": null,
   "metadata": {
    "lc_cell_meme": {
     "current": "9414862e-4bfd-11e9-923a-02420a0001bc",
     "history": [],
     "next": null,
     "previous": "941485e8-4bfd-11e9-923a-02420a0001bc"
    }
   },
   "outputs": [],
   "source": [
    "print('Setting image tag {} => {}'.format(org_image_id, image_tag) )\n",
    "subprocess.check_output(['ansible', '-b', '-a', \n",
    "                               'docker tag {} {}'.format(org_image_id, image_tag)]\n",
    "                              + target_hub_all).decode('utf-8')\n",
    "print('Completed')"
   ]
  }
 ],
 "metadata": {
  "kernelspec": {
   "display_name": "Python 3",
   "language": "python",
   "name": "python3"
  },
  "language_info": {
   "codemirror_mode": {
    "name": "ipython",
    "version": 3
   },
   "file_extension": ".py",
   "mimetype": "text/x-python",
   "name": "python",
   "nbconvert_exporter": "python",
   "pygments_lexer": "ipython3",
   "version": "3.6.8"
  },
  "lc_notebook_meme": {
   "current": "94147c06-4bfd-11e9-923a-02420a0001bc",
   "history": [],
   "root_cells": [
    "94147e18-4bfd-11e9-923a-02420a0001bc",
    "94147ee0-4bfd-11e9-923a-02420a0001bc",
    "94147f44-4bfd-11e9-923a-02420a0001bc",
    "94147f94-4bfd-11e9-923a-02420a0001bc",
    "94147fe4-4bfd-11e9-923a-02420a0001bc",
    "94148034-4bfd-11e9-923a-02420a0001bc",
    "94148084-4bfd-11e9-923a-02420a0001bc",
    "941480ca-4bfd-11e9-923a-02420a0001bc",
    "9414811a-4bfd-11e9-923a-02420a0001bc",
    "9414816a-4bfd-11e9-923a-02420a0001bc",
    "941481b0-4bfd-11e9-923a-02420a0001bc",
    "94148200-4bfd-11e9-923a-02420a0001bc",
    "94148250-4bfd-11e9-923a-02420a0001bc",
    "941482a0-4bfd-11e9-923a-02420a0001bc",
    "941482e6-4bfd-11e9-923a-02420a0001bc",
    "94148336-4bfd-11e9-923a-02420a0001bc",
    "9414837c-4bfd-11e9-923a-02420a0001bc",
    "941483cc-4bfd-11e9-923a-02420a0001bc",
    "9414841c-4bfd-11e9-923a-02420a0001bc",
    "9414846c-4bfd-11e9-923a-02420a0001bc",
    "941484b2-4bfd-11e9-923a-02420a0001bc",
    "94148502-4bfd-11e9-923a-02420a0001bc",
    "94148552-4bfd-11e9-923a-02420a0001bc",
    "94148598-4bfd-11e9-923a-02420a0001bc",
    "941485e8-4bfd-11e9-923a-02420a0001bc",
    "9414862e-4bfd-11e9-923a-02420a0001bc"
   ]
  },
  "toc": {
   "base_numbering": 1,
   "nav_menu": {},
   "number_sections": true,
   "sideBar": true,
   "skip_h1_title": false,
   "title_cell": "Table of Contents",
   "title_sidebar": "Contents",
   "toc_cell": false,
   "toc_position": {},
   "toc_section_display": true,
   "toc_window_display": true
  }
 },
 "nbformat": 4,
 "nbformat_minor": 2
}
