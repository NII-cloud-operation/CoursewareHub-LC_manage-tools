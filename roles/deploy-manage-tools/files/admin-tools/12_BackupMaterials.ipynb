{
 "cells": [
  {
   "cell_type": "markdown",
   "metadata": {
    "lc_cell_meme": {
     "current": "924bfaac-4bfd-11e9-bee0-02420a0001bc",
     "history": [],
     "next": "924bfb2e-4bfd-11e9-bee0-02420a0001bc",
     "previous": null
    }
   },
   "source": [
    "# 作成した教材をバックアップします\n",
    "<HR>"
   ]
  },
  {
   "cell_type": "markdown",
   "metadata": {
    "lc_cell_meme": {
     "current": "924bfb2e-4bfd-11e9-bee0-02420a0001bc",
     "history": [],
     "next": "924bfb92-4bfd-11e9-bee0-02420a0001bc",
     "previous": "924bfaac-4bfd-11e9-bee0-02420a0001bc"
    }
   },
   "source": [
    "ホームディレクトリで作成した教材をバックアップします。"
   ]
  },
  {
   "cell_type": "markdown",
   "metadata": {
    "lc_cell_meme": {
     "current": "924bfb92-4bfd-11e9-bee0-02420a0001bc",
     "history": [],
     "next": "924bfbe2-4bfd-11e9-bee0-02420a0001bc",
     "previous": "924bfb2e-4bfd-11e9-bee0-02420a0001bc"
    }
   },
   "source": [
    "# バックアップの準備"
   ]
  },
  {
   "cell_type": "markdown",
   "metadata": {
    "lc_cell_meme": {
     "current": "924bfbe2-4bfd-11e9-bee0-02420a0001bc",
     "history": [],
     "next": "924bfc3c-4bfd-11e9-bee0-02420a0001bc",
     "previous": "924bfb92-4bfd-11e9-bee0-02420a0001bc"
    }
   },
   "source": [
    "このNotebookを実行すると、ホームディレクトリ直下の下記のフォルダをバックアップファイルに保存します。\n",
    "\n",
    "**バックアップしたいファイル/フォルダは、下記のフォルダに移動してください。**\n",
    "\n",
    "* `textbook`\n",
    "  + 教材Notebookおよび教材Notebookから呼び出すスクリプトなど\n",
    "* `info`\n",
    "  + 受講者が参照する参考資料など\n",
    "* `draft`\n",
    "  + 教材以外で保存して置きたいNotebook、その他ファイル\n",
    "\n",
    "注） バックアップファイルには `test` フォルダも保存されます。\n",
    "* `test` フォルダは、この教材の自動テストに必要なファイルを保存するフォルダです。<br>（初期状態で、テスト手順Notebookのテンプレートが配置されています）\n",
    "* **`test` フォルダにはその他のファイルを格納しないで下さい。**"
   ]
  },
  {
   "cell_type": "markdown",
   "metadata": {
    "lc_cell_meme": {
     "current": "924bfc3c-4bfd-11e9-bee0-02420a0001bc",
     "history": [],
     "next": "924bfc8c-4bfd-11e9-bee0-02420a0001bc",
     "previous": "924bfbe2-4bfd-11e9-bee0-02420a0001bc"
    }
   },
   "source": [
    "# その他にバックアップしたいファイル/フォルダがある場合"
   ]
  },
  {
   "cell_type": "markdown",
   "metadata": {
    "lc_cell_meme": {
     "current": "924bfc8c-4bfd-11e9-bee0-02420a0001bc",
     "history": [],
     "next": "924bfcd2-4bfd-11e9-bee0-02420a0001bc",
     "previous": "924bfc3c-4bfd-11e9-bee0-02420a0001bc"
    }
   },
   "source": [
    "もし、`textbook`、`info`、`draft` 以外に保存したいファイルまたはフォルダがある場合は、`INCLUDES` にスペース区切りで列挙して下さい。\n",
    "* `textbook`、`info`、`draft`、`test` フォルダは必ずバックアップに保存されます。\n",
    "* 管理用Notebookフォルダ `tools` はバックアップに保存されません。\n",
    "* ホームディレクトリからの相対パスで指定します。\n",
    "```\n",
    "%env INCLUDES=ext-textbook  ext-data  Sample.ipynb\n",
    "```\n",
    "\n",
    "**次のセルでバックアップに含めたいファイル/フォルダを指定して、セルを実行して下さい。**"
   ]
  },
  {
   "cell_type": "code",
   "execution_count": null,
   "metadata": {
    "lc_cell_meme": {
     "current": "924bfcd2-4bfd-11e9-bee0-02420a0001bc",
     "history": [],
     "next": "924bfd22-4bfd-11e9-bee0-02420a0001bc",
     "previous": "924bfc8c-4bfd-11e9-bee0-02420a0001bc"
    }
   },
   "outputs": [],
   "source": [
    "%env INCLUDES="
   ]
  },
  {
   "cell_type": "markdown",
   "metadata": {
    "lc_cell_meme": {
     "current": "924bfd22-4bfd-11e9-bee0-02420a0001bc",
     "history": [],
     "next": "924bfd72-4bfd-11e9-bee0-02420a0001bc",
     "previous": "924bfcd2-4bfd-11e9-bee0-02420a0001bc"
    }
   },
   "source": [
    "# バックアップに含めないファイル/フォルダを指定します"
   ]
  },
  {
   "cell_type": "markdown",
   "metadata": {
    "lc_cell_meme": {
     "current": "924bfd72-4bfd-11e9-bee0-02420a0001bc",
     "history": [],
     "next": "924bfdc2-4bfd-11e9-bee0-02420a0001bc",
     "previous": "924bfd22-4bfd-11e9-bee0-02420a0001bc"
    }
   },
   "source": [
    "バックアップファイルに保存しないファイルまたはフォルダがある場合は、EXCLUDES にスペース区切りで列挙して下さい。\n",
    "* 管理用Notebookフォルダ「admin_tools」はバックアップファイルに保存されません\n",
    "```\n",
    "EXCLUDES=\".ipynb_checkpoints\"\n",
    "```\n",
    "\n",
    "**次のセルで除外するファイル/フォルダを指定して、セルを実行して下さい。**"
   ]
  },
  {
   "cell_type": "code",
   "execution_count": null,
   "metadata": {
    "lc_cell_meme": {
     "current": "924bfdc2-4bfd-11e9-bee0-02420a0001bc",
     "history": [],
     "next": "924bfe08-4bfd-11e9-bee0-02420a0001bc",
     "previous": "924bfd72-4bfd-11e9-bee0-02420a0001bc"
    }
   },
   "outputs": [],
   "source": [
    "%env EXCLUDES=.ipynb_checkpoints"
   ]
  },
  {
   "cell_type": "markdown",
   "metadata": {
    "lc_cell_meme": {
     "current": "924bfe08-4bfd-11e9-bee0-02420a0001bc",
     "history": [],
     "next": "924bfe58-4bfd-11e9-bee0-02420a0001bc",
     "previous": "924bfdc2-4bfd-11e9-bee0-02420a0001bc"
    }
   },
   "source": [
    "# バックアップの作業用フォルダを作成します"
   ]
  },
  {
   "cell_type": "markdown",
   "metadata": {
    "lc_cell_meme": {
     "current": "924bfe58-4bfd-11e9-bee0-02420a0001bc",
     "history": [],
     "next": "924bfea8-4bfd-11e9-bee0-02420a0001bc",
     "previous": "924bfe08-4bfd-11e9-bee0-02420a0001bc"
    }
   },
   "source": [
    "* バックアップファイルを格納するフォルダを作成します。\n",
    "* フォルダを変更する場合は、BACKUP_WORK_DIR を変更して下さい。\n",
    "* フォルダが既存の場合、フォルダ配下のファイルは削除されます。必要があれば事前に退避して下さい。\n",
    "\n",
    "**次のセルを実行して、作業用フォルダを作成して下さい。**"
   ]
  },
  {
   "cell_type": "code",
   "execution_count": null,
   "metadata": {
    "lc_cell_meme": {
     "current": "924bfea8-4bfd-11e9-bee0-02420a0001bc",
     "history": [],
     "next": "924bfef8-4bfd-11e9-bee0-02420a0001bc",
     "previous": "924bfe58-4bfd-11e9-bee0-02420a0001bc"
    }
   },
   "outputs": [],
   "source": [
    "%env BACKUP_WORK_DIR=~/backup\n",
    "\n",
    "import os.path\n",
    "\n",
    "backupdir = os.path.expanduser(os.environ['BACKUP_WORK_DIR'])\n",
    "print(backupdir)\n",
    "%env BACKUP_WORK_DIR={backupdir}\n",
    "\n",
    "# create backup work directory\n",
    "if not os.path.exists(backupdir):\n",
    "    os.makedirs(backupdir)\n",
    "\n",
    "# cleanup backup work directory\n",
    "!rm -rf {backupdir}/*"
   ]
  },
  {
   "cell_type": "markdown",
   "metadata": {
    "lc_cell_meme": {
     "current": "924bfef8-4bfd-11e9-bee0-02420a0001bc",
     "history": [],
     "next": "924bff48-4bfd-11e9-bee0-02420a0001bc",
     "previous": "924bfea8-4bfd-11e9-bee0-02420a0001bc"
    }
   },
   "source": [
    "# バックアップ名を指定します"
   ]
  },
  {
   "cell_type": "markdown",
   "metadata": {
    "lc_cell_meme": {
     "current": "924bff48-4bfd-11e9-bee0-02420a0001bc",
     "history": [],
     "next": "924bff8e-4bfd-11e9-bee0-02420a0001bc",
     "previous": "924bfef8-4bfd-11e9-bee0-02420a0001bc"
    }
   },
   "source": [
    "* バックパップの名前を BACKUP_NAME に設定して下さい。\n",
    "```\n",
    "BACKUP_NAME=\"course\"\n",
    "```\n",
    "* バックアップファイルは、「バックアップ名_backup.tar.gz」として保存します。\n",
    "\n",
    "**次のセルでバックアップ名を指定して、セルを実行して下さい。**"
   ]
  },
  {
   "cell_type": "code",
   "execution_count": null,
   "metadata": {
    "lc_cell_meme": {
     "current": "924bff8e-4bfd-11e9-bee0-02420a0001bc",
     "history": [],
     "next": "924bffde-4bfd-11e9-bee0-02420a0001bc",
     "previous": "924bff48-4bfd-11e9-bee0-02420a0001bc"
    }
   },
   "outputs": [],
   "source": [
    "%env BACKUP_NAME=course-01"
   ]
  },
  {
   "cell_type": "markdown",
   "metadata": {
    "lc_cell_meme": {
     "current": "924bffde-4bfd-11e9-bee0-02420a0001bc",
     "history": [],
     "next": "924c002e-4bfd-11e9-bee0-02420a0001bc",
     "previous": "924bff8e-4bfd-11e9-bee0-02420a0001bc"
    }
   },
   "source": [
    "# 次のセルを実行して、バックアップファイルを作成して下さい"
   ]
  },
  {
   "cell_type": "markdown",
   "metadata": {
    "lc_cell_meme": {
     "current": "924c002e-4bfd-11e9-bee0-02420a0001bc",
     "history": [],
     "next": "924c0100-4bfd-11e9-bee0-02420a0001bc",
     "previous": "924bffde-4bfd-11e9-bee0-02420a0001bc"
    }
   },
   "source": [
    "* バックアップファイルを生成します。\n",
    "* バックアップファイルは、上記で作成したバックアップフォルダに格納されます。"
   ]
  },
  {
   "cell_type": "code",
   "execution_count": null,
   "metadata": {
    "lc_cell_meme": {
     "current": "924c0100-4bfd-11e9-bee0-02420a0001bc",
     "history": [],
     "next": "924c015a-4bfd-11e9-bee0-02420a0001bc",
     "previous": "924c002e-4bfd-11e9-bee0-02420a0001bc"
    }
   },
   "outputs": [],
   "source": [
    "%%bash\n",
    "set -e\n",
    "\n",
    "TARGET_FILES=('textbook' 'info' 'draft' 'test' ${INCLUDES})\n",
    "EXCLUDE_PATTERNS=('backup-*.tgz' '.ipynb_checkpoints' ${EXCLUDES})\n",
    "BACKUP_NAME=\"${BACKUP_NAME,,}\"\n",
    "[ -z \"${BACKUP_NAME}\" ] && BACKUP_NAME=\"$(< /etc/courseware.configmap/fqdn)\"\n",
    "[ -z \"${BACKUP_NAME}\" ] && BACKUP_NAME=\"untitled\"\n",
    "TMP_WORK_DIR=\"$(mktemp -d --tmpdir courseware-bk.tmp.XXXXXXXX)\"\n",
    "TGZ_FILE=\"${TMP_WORK_DIR}/backup-${BACKUP_NAME}.tgz\"\n",
    "TARGET_LIST=\"${TMP_WORK_DIR}/target.list\"\n",
    "EXCLUDE_LIST=\"${TMP_WORK_DIR}/exclude.list\"\n",
    "\n",
    "cd\n",
    "for entry in \"${TARGET_FILES[@]}\"; do\n",
    "  if [ -e \"${entry}\" ]; then\n",
    "    echo \"$(realpath --relative-base=. \"${entry}\")\" >>\"${TARGET_LIST}\"\n",
    "  fi\n",
    "done\n",
    "for entry in \"${EXCLUDE_PATTERNS[@]}\"; do\n",
    "  echo ${entry} >>\"${EXCLUDE_LIST}\"\n",
    "done\n",
    "\n",
    "tar -cz -C ~ -T <(sort -u \"${TARGET_LIST}\") -X <(sort -u \"${EXCLUDE_LIST}\") -f \"${TGZ_FILE}\"\n",
    "mv \"${TGZ_FILE}\" ~/\n",
    "rm -rf \"${TMP_WORK_DIR}\"\n",
    "\n",
    "echo 'Backup completed successfully:' \"$(realpath \"./$(basename \"${TGZ_FILE}\")\")\""
   ]
  },
  {
   "cell_type": "markdown",
   "metadata": {
    "lc_cell_meme": {
     "current": "924c015a-4bfd-11e9-bee0-02420a0001bc",
     "history": [],
     "next": "924c01aa-4bfd-11e9-bee0-02420a0001bc",
     "previous": "924c0100-4bfd-11e9-bee0-02420a0001bc"
    }
   },
   "source": [
    "# バックアップファイルを保存します"
   ]
  },
  {
   "cell_type": "markdown",
   "metadata": {
    "lc_cell_meme": {
     "current": "924c01aa-4bfd-11e9-bee0-02420a0001bc",
     "history": [],
     "next": null,
     "previous": "924c015a-4bfd-11e9-bee0-02420a0001bc"
    }
   },
   "source": [
    "* バックアップファイルを適切な保管場所へ転送して保存して下さい。\n",
    "* ローカルマシンに保存する場合は、下記の手順でダウンロードできます。\n",
    "  1. ブラウザのHome画面で、バックアップファイルを格納したフォルダを開きます。バックアップファイルが表示されます。\n",
    "  2. バックアップファイル名先頭のチェックボックスをクリックします。画面左上に操作ボタンが表示されます。\n",
    "  3. [Download]ボタンをクリックします。"
   ]
  }
 ],
 "metadata": {
  "kernelspec": {
   "display_name": "Python 3",
   "language": "python",
   "name": "python3"
  },
  "language_info": {
   "codemirror_mode": {
    "name": "ipython",
    "version": 3
   },
   "file_extension": ".py",
   "mimetype": "text/x-python",
   "name": "python",
   "nbconvert_exporter": "python",
   "pygments_lexer": "ipython3",
   "version": "3.6.8"
  },
  "lc_notebook_meme": {
   "current": "924bf958-4bfd-11e9-bee0-02420a0001bc",
   "history": [],
   "root_cells": [
    "924bfaac-4bfd-11e9-bee0-02420a0001bc",
    "924bfb2e-4bfd-11e9-bee0-02420a0001bc",
    "924bfb92-4bfd-11e9-bee0-02420a0001bc",
    "924bfbe2-4bfd-11e9-bee0-02420a0001bc",
    "924bfc3c-4bfd-11e9-bee0-02420a0001bc",
    "924bfc8c-4bfd-11e9-bee0-02420a0001bc",
    "924bfcd2-4bfd-11e9-bee0-02420a0001bc",
    "924bfd22-4bfd-11e9-bee0-02420a0001bc",
    "924bfd72-4bfd-11e9-bee0-02420a0001bc",
    "924bfdc2-4bfd-11e9-bee0-02420a0001bc",
    "924bfe08-4bfd-11e9-bee0-02420a0001bc",
    "924bfe58-4bfd-11e9-bee0-02420a0001bc",
    "924bfea8-4bfd-11e9-bee0-02420a0001bc",
    "924bfef8-4bfd-11e9-bee0-02420a0001bc",
    "924bff48-4bfd-11e9-bee0-02420a0001bc",
    "924bff8e-4bfd-11e9-bee0-02420a0001bc",
    "924bffde-4bfd-11e9-bee0-02420a0001bc",
    "924c002e-4bfd-11e9-bee0-02420a0001bc",
    "924c0100-4bfd-11e9-bee0-02420a0001bc",
    "924c015a-4bfd-11e9-bee0-02420a0001bc",
    "924c01aa-4bfd-11e9-bee0-02420a0001bc"
   ]
  },
  "toc": {
   "base_numbering": 1,
   "nav_menu": {},
   "number_sections": true,
   "sideBar": true,
   "skip_h1_title": false,
   "title_cell": "Table of Contents",
   "title_sidebar": "Contents",
   "toc_cell": false,
   "toc_position": {},
   "toc_section_display": true,
   "toc_window_display": true
  }
 },
 "nbformat": 4,
 "nbformat_minor": 2
}
