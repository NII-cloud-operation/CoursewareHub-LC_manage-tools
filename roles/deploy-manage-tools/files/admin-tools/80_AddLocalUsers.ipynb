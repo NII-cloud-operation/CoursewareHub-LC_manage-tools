{
 "cells": [
  {
   "cell_type": "markdown",
   "metadata": {
    "lc_cell_meme": {
     "current": "952ac276-4bfd-11e9-845a-02420a0001bc-1-9e9d",
     "history": [
      {
       "current": "952ac276-4bfd-11e9-845a-02420a0001bc-1-9e9d",
       "next": "952ac2f8-4bfd-11e9-845a-02420a0001bc",
       "previous": null
      }
     ],
     "next": "952ac2f8-4bfd-11e9-845a-02420a0001bc-1-84b6",
     "previous": null
    }
   },
   "source": [
    "# ローカルユーザを新規登録します\n",
    "<HR>"
   ]
  },
  {
   "cell_type": "markdown",
   "metadata": {
    "lc_cell_meme": {
     "current": "952ac2f8-4bfd-11e9-845a-02420a0001bc-1-84b6",
     "history": [
      {
       "current": "952ac2f8-4bfd-11e9-845a-02420a0001bc-1-84b6",
       "next": "952ac352-4bfd-11e9-845a-02420a0001bc",
       "previous": "952ac276-4bfd-11e9-845a-02420a0001bc"
      }
     ],
     "next": "952ac352-4bfd-11e9-845a-02420a0001bc-1-8440",
     "previous": "952ac276-4bfd-11e9-845a-02420a0001bc-1-9e9d"
    }
   },
   "source": [
    "ローカルユーザを登録します。登録時にユーザのログインパスワードを自動生成します。<br/>\n",
    "ローカルユーザとは、このコースにのみログインできるユーザです。SSOには利用できません。<br/>\n",
    "\n",
    "次のセルで、下記のように登録するユーザのメールアドレスを配列`LOCAL_USERS_ADD_LIST`にを設定して、セルを実行して下さい。\n",
    "\n",
    "```\n",
    "LOCAL_USERS_ADD_LIST = '''\n",
    "student-a01@example.com\n",
    "student-a02@example.com\n",
    "student-a03@example.com\n",
    "'''\n",
    "```\n",
    "\n",
    "**登録したユーザは、メールアドレスとパスワードで認証されます。**\n",
    "\n",
    "**ユーザのメールアドレスとパスワードが講師環境の `admin_tools/data/students.tsv` に登録されますので、必ず、記録して下さい。**"
   ]
  },
  {
   "cell_type": "code",
   "execution_count": null,
   "metadata": {
    "lc_cell_meme": {
     "current": "952ac352-4bfd-11e9-845a-02420a0001bc-1-8440",
     "history": [
      {
       "current": "952ac352-4bfd-11e9-845a-02420a0001bc-1-8440",
       "next": "952ac3a2-4bfd-11e9-845a-02420a0001bc",
       "previous": "952ac2f8-4bfd-11e9-845a-02420a0001bc"
      }
     ],
     "next": "952ac3a2-4bfd-11e9-845a-02420a0001bc-1-b931",
     "previous": "952ac2f8-4bfd-11e9-845a-02420a0001bc-1-84b6"
    }
   },
   "outputs": [],
   "source": [
    "# 以下に、登録するローカルユーザのメールアドレスを列挙してください。\n",
    "LOCAL_USERS_ADD_LIST = '''#ここから#\n",
    "# GROUP A\n",
    "student-a01@example.com\n",
    "student-a02@example.com\n",
    "student-a03@example.com\n",
    "'''#ここまで#"
   ]
  },
  {
   "cell_type": "markdown",
   "metadata": {
    "lc_cell_meme": {
     "current": "952ac3a2-4bfd-11e9-845a-02420a0001bc-1-b931",
     "history": [
      {
       "current": "952ac3a2-4bfd-11e9-845a-02420a0001bc-1-b931",
       "next": "952ac3f2-4bfd-11e9-845a-02420a0001bc",
       "previous": "952ac352-4bfd-11e9-845a-02420a0001bc"
      }
     ],
     "next": "952ac3f2-4bfd-11e9-845a-02420a0001bc-1-bef1",
     "previous": "952ac352-4bfd-11e9-845a-02420a0001bc-1-8440"
    }
   },
   "source": [
    "# ローカルユーザの追加"
   ]
  },
  {
   "cell_type": "code",
   "execution_count": null,
   "metadata": {
    "lc_cell_meme": {
     "current": "952ac3f2-4bfd-11e9-845a-02420a0001bc-1-bef1",
     "history": [
      {
       "current": "952ac3f2-4bfd-11e9-845a-02420a0001bc-1-bef1",
       "next": "952ac442-4bfd-11e9-845a-02420a0001bc",
       "previous": "952ac3a2-4bfd-11e9-845a-02420a0001bc"
      }
     ],
     "next": "952ac442-4bfd-11e9-845a-02420a0001bc-1-6e8f",
     "previous": "952ac3a2-4bfd-11e9-845a-02420a0001bc-1-b931"
    }
   },
   "outputs": [],
   "source": [
    "import os\n",
    "target_hub = ['-i', os.path.expanduser('~/ansible/inventory'), 'ch-master']\n",
    "\n",
    "!ansible -m ping {' '.join(target_hub)}"
   ]
  },
  {
   "cell_type": "markdown",
   "metadata": {
    "lc_cell_meme": {
     "current": "952ac442-4bfd-11e9-845a-02420a0001bc-1-6e8f",
     "history": [
      {
       "current": "952ac442-4bfd-11e9-845a-02420a0001bc-1-6e8f",
       "next": "952ac488-4bfd-11e9-845a-02420a0001bc",
       "previous": "952ac3f2-4bfd-11e9-845a-02420a0001bc"
      }
     ],
     "next": "952ac488-4bfd-11e9-845a-02420a0001bc-1-bf4e",
     "previous": "952ac3f2-4bfd-11e9-845a-02420a0001bc-1-bef1"
    }
   },
   "source": [
    "**上記セルが動作しない場合**\n",
    "\n",
    "```\n",
    "The authenticity of host 'xxx.xxx.205.128 (xxx.xxx.205.128)' can't be established.\n",
    "ECDSA key fingerprint is SHA256:qjPDx7y/926gHJL9+SgMGKpicRORzffk1/xiUyIP00w.\n",
    "Are you sure you want to continue connecting (yes/no)?\n",
    "```\n",
    "（IPアドレスと、fingerprintは例です）\n",
    "\n",
    "となり実行中のまま状態変化しなくなる場合は、JupyterのTerminalから、\n",
    "\n",
    "```\n",
    "$ ssh xxx.xxx.205.128\n",
    "```\n",
    "\n",
    "を実行し、ECDSA key fingerprintが `SHA256:qjPDx7y/926gHJL9+SgMGKpicRORzffk1/xiUyIP00w` であることを確認してyesを実行し、上記のセルを停止の上再実行してください。"
   ]
  },
  {
   "cell_type": "code",
   "execution_count": null,
   "metadata": {
    "lc_cell_meme": {
     "current": "952ac488-4bfd-11e9-845a-02420a0001bc-1-bf4e",
     "history": [
      {
       "current": "952ac488-4bfd-11e9-845a-02420a0001bc-1-bf4e",
       "next": "952ac4d8-4bfd-11e9-845a-02420a0001bc",
       "previous": "952ac442-4bfd-11e9-845a-02420a0001bc"
      }
     ],
     "next": "952ac4d8-4bfd-11e9-845a-02420a0001bc-1-c73f",
     "previous": "952ac442-4bfd-11e9-845a-02420a0001bc-1-6e8f"
    }
   },
   "outputs": [],
   "source": [
    "import subprocess\n",
    "\n",
    "default_user = !whoami\n",
    "default_user = default_user[0]\n",
    "\n",
    "result = subprocess.check_output(['ansible', '-m', 'ping'] + target_hub)\n",
    "print(result.decode('utf8'))"
   ]
  },
  {
   "cell_type": "code",
   "execution_count": null,
   "metadata": {
    "lc_cell_meme": {
     "current": "952ac4d8-4bfd-11e9-845a-02420a0001bc-1-c73f",
     "history": [
      {
       "current": "952ac4d8-4bfd-11e9-845a-02420a0001bc-1-c73f",
       "next": "952ac528-4bfd-11e9-845a-02420a0001bc",
       "previous": "952ac488-4bfd-11e9-845a-02420a0001bc"
      }
     ],
     "next": "952ac528-4bfd-11e9-845a-02420a0001bc-1-1ee5",
     "previous": "952ac488-4bfd-11e9-845a-02420a0001bc-1-bf4e"
    }
   },
   "outputs": [],
   "source": [
    "import re\n",
    "\n",
    "student_mails = []\n",
    "for line in LOCAL_USERS_ADD_LIST.splitlines():\n",
    "    s = re.sub(r'#.*$', '', line).strip()\n",
    "    if 0 < len(s):\n",
    "        student_mails.append(line)\n",
    "student_mails"
   ]
  },
  {
   "cell_type": "code",
   "execution_count": null,
   "metadata": {
    "lc_cell_meme": {
     "current": "952ac528-4bfd-11e9-845a-02420a0001bc-1-1ee5",
     "history": [
      {
       "current": "952ac528-4bfd-11e9-845a-02420a0001bc-1-1ee5",
       "next": "952ac578-4bfd-11e9-845a-02420a0001bc",
       "previous": "952ac4d8-4bfd-11e9-845a-02420a0001bc"
      }
     ],
     "next": "952ac578-4bfd-11e9-845a-02420a0001bc-1-e03c",
     "previous": "952ac4d8-4bfd-11e9-845a-02420a0001bc-1-c73f"
    }
   },
   "outputs": [],
   "source": [
    "import hashlib\n",
    "\n",
    "def get_username_from_mail_address(mail_address):\n",
    "    # Convert to lower and remove characters except for alphabets and digits\n",
    "    wk = mail_address.split('@')\n",
    "    local_part = wk[0].lower()\n",
    "    result = re.sub(r'[^a-zA-Z0-9]', '', local_part)\n",
    "    # Add top 6bytes of hash string\n",
    "    md5 = hashlib.md5()\n",
    "    md5.update(mail_address.encode('us-ascii'))\n",
    "    h = md5.hexdigest()[0:6]\n",
    "    result += 'x'\n",
    "    result += h;\n",
    "    return result;\n",
    "\n",
    "get_username_from_mail_address(student_mails[0])"
   ]
  },
  {
   "cell_type": "markdown",
   "metadata": {
    "lc_cell_meme": {
     "current": "952ac578-4bfd-11e9-845a-02420a0001bc-1-e03c",
     "history": [
      {
       "current": "952ac578-4bfd-11e9-845a-02420a0001bc-1-e03c",
       "next": "952ac5c8-4bfd-11e9-845a-02420a0001bc",
       "previous": "952ac528-4bfd-11e9-845a-02420a0001bc"
      }
     ],
     "next": "952ac5c8-4bfd-11e9-845a-02420a0001bc-1-bb33",
     "previous": "952ac528-4bfd-11e9-845a-02420a0001bc-1-1ee5"
    }
   },
   "source": [
    "ユーザをDBに登録します。パスワードは登録時に生成されます。"
   ]
  },
  {
   "cell_type": "code",
   "execution_count": null,
   "metadata": {
    "lc_cell_meme": {
     "current": "952ac5c8-4bfd-11e9-845a-02420a0001bc-1-bb33",
     "history": [
      {
       "current": "952ac5c8-4bfd-11e9-845a-02420a0001bc-1-bb33",
       "next": "952ac618-4bfd-11e9-845a-02420a0001bc",
       "previous": "952ac578-4bfd-11e9-845a-02420a0001bc"
      }
     ],
     "next": "952ac618-4bfd-11e9-845a-02420a0001bc-1-fd72",
     "previous": "952ac578-4bfd-11e9-845a-02420a0001bc-1-e03c"
    }
   },
   "outputs": [],
   "source": [
    "def get_auth_proxy():\n",
    "    import subprocess\n",
    "    try:\n",
    "        sid = subprocess.check_output(['ansible', '-b', '-a', 'docker service ps coursewarehub_auth-proxy -q'] + target_hub)\n",
    "        sid = sid.decode('utf-8').split('\\n')[1].strip()\n",
    "        cinfo = subprocess.check_output(\n",
    "            ['ansible', '-b', '-a', \n",
    "             'docker inspect --format \"{% raw %} {{.NodeID}} {{.Status.ContainerStatus.ContainerID}} {% endraw %}\" ' + sid\n",
    "            ] + target_hub)\n",
    "        nodeid, cid = cinfo.decode('utf-8').split('\\n')[1].strip().split()\n",
    "        nodeip = subprocess.check_output(\n",
    "            ['ansible', '-b', '-a', \n",
    "             'docker node inspect --format \"{% raw %} {{.Status.Addr}} {% endraw %}\" ' + nodeid\n",
    "            ] + target_hub)\n",
    "        nodeip = nodeip.decode('utf-8').split('\\n')[1].split()[0]\n",
    "        return (nodeip, cid)\n",
    "    except subprocess.CalledProcessError as e:\n",
    "        print(e.output.decode('utf-8'))\n",
    "        raise\n",
    "\n",
    "auth_proxy = get_auth_proxy()\n",
    "auth_proxy"
   ]
  },
  {
   "cell_type": "code",
   "execution_count": null,
   "metadata": {
    "lc_cell_meme": {
     "current": "952ac618-4bfd-11e9-845a-02420a0001bc-1-fd72",
     "history": [
      {
       "current": "952ac618-4bfd-11e9-845a-02420a0001bc-1-fd72",
       "next": "952ac65e-4bfd-11e9-845a-02420a0001bc",
       "previous": "952ac5c8-4bfd-11e9-845a-02420a0001bc"
      }
     ],
     "next": "952ac65e-4bfd-11e9-845a-02420a0001bc-1-30f9",
     "previous": "952ac5c8-4bfd-11e9-845a-02420a0001bc-1-bb33"
    }
   },
   "outputs": [],
   "source": [
    "target_auth_proxy = ['-i', os.path.expanduser('~/ansible/inventory'), auth_proxy[0]]\n",
    "\n",
    "local_user_infos = []\n",
    "for student_mail in student_mails:\n",
    "    local_user_info = subprocess.check_output(['ansible', '-b', '-a',\n",
    "                                               'docker exec -i {} php /var/www/bin/add-local-user.php \"{}\"'.format(auth_proxy[1], student_mail)] + target_auth_proxy)\n",
    "    local_user_infos.append(local_user_info.decode('utf8'))\n",
    "local_user_infos[0]"
   ]
  },
  {
   "cell_type": "code",
   "execution_count": null,
   "metadata": {
    "lc_cell_meme": {
     "current": "952ac65e-4bfd-11e9-845a-02420a0001bc-1-30f9",
     "history": [
      {
       "current": "952ac65e-4bfd-11e9-845a-02420a0001bc-1-30f9",
       "next": "952ac6ae-4bfd-11e9-845a-02420a0001bc",
       "previous": "952ac618-4bfd-11e9-845a-02420a0001bc"
      }
     ],
     "next": "952ac6ae-4bfd-11e9-845a-02420a0001bc-1-5b2e",
     "previous": "952ac618-4bfd-11e9-845a-02420a0001bc-1-fd72"
    }
   },
   "outputs": [],
   "source": [
    "import tempfile\n",
    "work_dir = tempfile.mkdtemp()\n",
    "work_dir"
   ]
  },
  {
   "cell_type": "markdown",
   "metadata": {
    "lc_cell_meme": {
     "current": "952ac6ae-4bfd-11e9-845a-02420a0001bc-1-5b2e",
     "history": [
      {
       "current": "952ac6ae-4bfd-11e9-845a-02420a0001bc-1-5b2e",
       "next": "952ac6fe-4bfd-11e9-845a-02420a0001bc",
       "previous": "952ac65e-4bfd-11e9-845a-02420a0001bc"
      }
     ],
     "next": "952ac6fe-4bfd-11e9-845a-02420a0001bc-1-bade",
     "previous": "952ac65e-4bfd-11e9-845a-02420a0001bc-1-30f9"
    }
   },
   "source": [
    "ユーザ情報を控える。\n",
    "\n",
    "ユーザのID, パスワードは、講師環境の `admin_tools/data/students.tsv` から確認することができます。"
   ]
  },
  {
   "cell_type": "code",
   "execution_count": null,
   "metadata": {
    "lc_cell_meme": {
     "current": "952ac6fe-4bfd-11e9-845a-02420a0001bc-1-bade",
     "history": [
      {
       "current": "952ac6fe-4bfd-11e9-845a-02420a0001bc-1-bade",
       "next": "952ac744-4bfd-11e9-845a-02420a0001bc",
       "previous": "952ac6ae-4bfd-11e9-845a-02420a0001bc"
      }
     ],
     "next": "952ac744-4bfd-11e9-845a-02420a0001bc-1-65df",
     "previous": "952ac6ae-4bfd-11e9-845a-02420a0001bc-1-5b2e"
    },
    "scrolled": true
   },
   "outputs": [],
   "source": [
    "r = subprocess.check_output(['ansible', '-b', '-m', 'file', '-a',\n",
    "                             'path=/jupyter/admin/admin_tools/data/ state=directory'] + target_hub)\n",
    "print(r.decode('utf8'))\n",
    "\n",
    "for student_mail, local_user_info in zip(student_mails, local_user_infos):\n",
    "    print(student_mail)\n",
    "    student_id = get_username_from_mail_address(student_mail)\n",
    "    with open(os.path.join(work_dir, student_id + '.tsv'), 'w') as f:\n",
    "        f.write(local_user_info.split('\\n')[1] + '\\n')\n",
    "        \n",
    "    r = subprocess.check_output(['ansible', '-m', 'copy', '-a',\n",
    "                                 'src={work_dir}/{student_id}.tsv dest=/jupyter/users/{default_user}/{student_id}.tsv'.format(work_dir=work_dir,\n",
    "                                                                                                                              student_id=student_id,\n",
    "                                                                                                                              default_user=default_user)] + target_hub)\n",
    "    print(r.decode('utf8'))\n",
    "\n",
    "    r = subprocess.check_output(['ansible', '-b', '-m', 'shell',\n",
    "                                 '-a',\n",
    "                                 'cat /jupyter/users/{default_user}/{student_id}.tsv >> /jupyter/admin/admin_tools/data/students.tsv'.format(default_user=default_user, student_id=student_id)] + target_hub)\n",
    "    print(r.decode('utf8'))"
   ]
  },
  {
   "cell_type": "markdown",
   "metadata": {
    "lc_cell_meme": {
     "current": "952ac744-4bfd-11e9-845a-02420a0001bc-1-65df",
     "history": [
      {
       "current": "952ac744-4bfd-11e9-845a-02420a0001bc-1-65df",
       "next": "952ac794-4bfd-11e9-845a-02420a0001bc",
       "previous": "952ac6fe-4bfd-11e9-845a-02420a0001bc"
      }
     ],
     "next": "feba8ca8-d0a0-11ee-a40c-02420a640143-2-b18e-b902",
     "previous": "952ac6fe-4bfd-11e9-845a-02420a0001bc-1-bade"
    }
   },
   "source": [
    "# JupyterHubユーザーの追加\n",
    "\n",
    "ローカルユーザーと対応するJupyterHubのユーザーを追加します。"
   ]
  },
  {
   "cell_type": "markdown",
   "metadata": {
    "lc_cell_meme": {
     "current": "feba8ca8-d0a0-11ee-a40c-02420a640143-2-b18e-b902",
     "history": [
      {
       "current": "feba8ca8-d0a0-11ee-a40c-02420a640143-2-b18e-b902",
       "next": "feba9248-d0a0-11ee-a40c-02420a640143",
       "previous": "952ac744-4bfd-11e9-845a-02420a0001bc-1-4ad7"
      }
     ],
     "next": "feba9248-d0a0-11ee-a40c-02420a640143-2-36f9-b12d",
     "previous": "952ac744-4bfd-11e9-845a-02420a0001bc-1-65df"
    }
   },
   "source": [
    "[API Tokens](/hub/token)のページで、tokenを作成して以下に入力してください。"
   ]
  },
  {
   "cell_type": "code",
   "execution_count": null,
   "metadata": {
    "lc_cell_meme": {
     "current": "feba9248-d0a0-11ee-a40c-02420a640143-2-36f9-b12d",
     "history": [
      {
       "current": "feba9248-d0a0-11ee-a40c-02420a640143-2-36f9-b12d",
       "next": "952ac794-4bfd-11e9-845a-02420a0001bc-1-21a4",
       "previous": "feba8ca8-d0a0-11ee-a40c-02420a640143"
      }
     ],
     "next": "952ac794-4bfd-11e9-845a-02420a0001bc-1-2b6f",
     "previous": "feba8ca8-d0a0-11ee-a40c-02420a640143-2-b18e-b902"
    }
   },
   "outputs": [],
   "source": [
    "import getpass\n",
    "apitoken = getpass.getpass('JupyterHub API token')"
   ]
  },
  {
   "cell_type": "code",
   "execution_count": null,
   "metadata": {
    "lc_cell_meme": {
     "current": "952ac794-4bfd-11e9-845a-02420a0001bc-1-2b6f",
     "history": [
      {
       "current": "952ac794-4bfd-11e9-845a-02420a0001bc-1-2b6f",
       "next": "952ac7e4-4bfd-11e9-845a-02420a0001bc",
       "previous": "952ac744-4bfd-11e9-845a-02420a0001bc"
      }
     ],
     "next": "952ac7e4-4bfd-11e9-845a-02420a0001bc-1-7ea8",
     "previous": "feba9248-d0a0-11ee-a40c-02420a640143-2-36f9-b12d"
    }
   },
   "outputs": [],
   "source": [
    "import os\n",
    "api_url = os.environ['JUPYTERHUB_API_URL']"
   ]
  },
  {
   "cell_type": "code",
   "execution_count": null,
   "metadata": {
    "lc_cell_meme": {
     "current": "952ac7e4-4bfd-11e9-845a-02420a0001bc-1-7ea8",
     "history": [
      {
       "current": "952ac7e4-4bfd-11e9-845a-02420a0001bc-1-7ea8",
       "next": "952ac834-4bfd-11e9-845a-02420a0001bc",
       "previous": "952ac794-4bfd-11e9-845a-02420a0001bc"
      }
     ],
     "next": "952ac834-4bfd-11e9-845a-02420a0001bc-1-f061",
     "previous": "952ac794-4bfd-11e9-845a-02420a0001bc-1-2b6f"
    }
   },
   "outputs": [],
   "source": [
    "import json\n",
    "import requests\n",
    "\n",
    "for local_user_info in local_user_infos:\n",
    "    student_mail = local_user_info.split('\\n')[1].split()[0].strip()\n",
    "    print(student_mail)\n",
    "    student_id = get_username_from_mail_address(student_mail)\n",
    "    print(student_id)\n",
    "\n",
    "    r = requests.get(api_url + '/users/{}'.format(student_id),\n",
    "                     headers={\n",
    "                         'Authorization': 'token %s' % apitoken,\n",
    "                     })\n",
    "    if r.status_code == 404:\n",
    "        r = requests.post(api_url + '/users/{}'.format(student_id),\n",
    "                          headers={\n",
    "                              'Authorization': 'token %s' % apitoken,\n",
    "                          })\n",
    "        assert r.status_code == 201\n",
    "        print(json.loads(r.text))\n"
   ]
  },
  {
   "cell_type": "markdown",
   "metadata": {
    "lc_cell_meme": {
     "current": "952ac834-4bfd-11e9-845a-02420a0001bc-1-f061",
     "history": [
      {
       "current": "952ac834-4bfd-11e9-845a-02420a0001bc-1-f061",
       "next": "952ac87a-4bfd-11e9-845a-02420a0001bc",
       "previous": "952ac7e4-4bfd-11e9-845a-02420a0001bc"
      }
     ],
     "next": "952ac87a-4bfd-11e9-845a-02420a0001bc-1-e635",
     "previous": "952ac7e4-4bfd-11e9-845a-02420a0001bc-1-7ea8"
    }
   },
   "source": [
    "# 後始末\n",
    "\n",
    "一時ファイルを削除する。"
   ]
  },
  {
   "cell_type": "code",
   "execution_count": null,
   "metadata": {
    "lc_cell_meme": {
     "current": "952ac87a-4bfd-11e9-845a-02420a0001bc-1-e635",
     "history": [
      {
       "current": "952ac87a-4bfd-11e9-845a-02420a0001bc-1-e635",
       "next": null,
       "previous": "952ac834-4bfd-11e9-845a-02420a0001bc"
      }
     ],
     "next": null,
     "previous": "952ac834-4bfd-11e9-845a-02420a0001bc-1-f061"
    }
   },
   "outputs": [],
   "source": [
    "!rm -fr {work_dir}"
   ]
  }
 ],
 "metadata": {
  "kernelspec": {
   "display_name": "Python 3",
   "language": "python",
   "name": "python3"
  },
  "language_info": {
   "file_extension": ".py",
   "mimetype": "text/x-python",
   "name": "python",
   "nbconvert_exporter": "python",
   "pygments_lexer": "ipython3",
   "version": "3.10.11"
  },
  "lc_notebook_meme": {
   "current": "952ac12c-4bfd-11e9-845a-02420a0001bc",
   "history": [],
   "root_cells": [
    "952ac276-4bfd-11e9-845a-02420a0001bc",
    "952ac2f8-4bfd-11e9-845a-02420a0001bc",
    "952ac352-4bfd-11e9-845a-02420a0001bc",
    "952ac3a2-4bfd-11e9-845a-02420a0001bc",
    "952ac3f2-4bfd-11e9-845a-02420a0001bc",
    "952ac442-4bfd-11e9-845a-02420a0001bc",
    "952ac488-4bfd-11e9-845a-02420a0001bc",
    "952ac4d8-4bfd-11e9-845a-02420a0001bc",
    "952ac528-4bfd-11e9-845a-02420a0001bc",
    "952ac578-4bfd-11e9-845a-02420a0001bc",
    "952ac5c8-4bfd-11e9-845a-02420a0001bc",
    "952ac618-4bfd-11e9-845a-02420a0001bc",
    "952ac65e-4bfd-11e9-845a-02420a0001bc",
    "952ac6ae-4bfd-11e9-845a-02420a0001bc",
    "952ac6fe-4bfd-11e9-845a-02420a0001bc",
    "952ac744-4bfd-11e9-845a-02420a0001bc",
    "952ac794-4bfd-11e9-845a-02420a0001bc",
    "952ac7e4-4bfd-11e9-845a-02420a0001bc",
    "952ac834-4bfd-11e9-845a-02420a0001bc",
    "952ac87a-4bfd-11e9-845a-02420a0001bc"
   ]
  },
  "toc": {
   "base_numbering": 1,
   "nav_menu": {},
   "number_sections": true,
   "sideBar": true,
   "skip_h1_title": false,
   "title_cell": "Table of Contents",
   "title_sidebar": "Contents",
   "toc_cell": false,
   "toc_position": {
    "height": "calc(100% - 180px)",
    "left": "10px",
    "top": "150px",
    "width": "350.391px"
   },
   "toc_section_display": true,
   "toc_window_display": true
  }
 },
 "nbformat": 4,
 "nbformat_minor": 2
}
