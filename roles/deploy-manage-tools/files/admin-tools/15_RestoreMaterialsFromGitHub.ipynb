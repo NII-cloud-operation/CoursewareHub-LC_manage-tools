{
 "cells": [
  {
   "cell_type": "markdown",
   "metadata": {
    "lc_cell_meme": {
     "current": "935f6ee2-4bfd-11e9-b578-02420a0001bc",
     "history": [],
     "next": "935f6f64-4bfd-11e9-b578-02420a0001bc",
     "previous": null
    }
   },
   "source": [
    "# GitHubに保存した教材バックアップをリストアします\n",
    "---"
   ]
  },
  {
   "cell_type": "markdown",
   "metadata": {
    "lc_cell_meme": {
     "current": "935f6f64-4bfd-11e9-b578-02420a0001bc",
     "history": [],
     "next": "935f6fc8-4bfd-11e9-b578-02420a0001bc",
     "previous": "935f6ee2-4bfd-11e9-b578-02420a0001bc"
    }
   },
   "source": [
    "GitHubリポジトリに保存してある教材バックアップをリストアします。"
   ]
  },
  {
   "cell_type": "markdown",
   "metadata": {
    "lc_cell_meme": {
     "current": "935f6fc8-4bfd-11e9-b578-02420a0001bc",
     "history": [],
     "next": "935f7018-4bfd-11e9-b578-02420a0001bc",
     "previous": "935f6f64-4bfd-11e9-b578-02420a0001bc"
    }
   },
   "source": [
    "# リストアの準備"
   ]
  },
  {
   "cell_type": "markdown",
   "metadata": {
    "lc_cell_meme": {
     "current": "935f7018-4bfd-11e9-b578-02420a0001bc",
     "history": [],
     "next": "935f7068-4bfd-11e9-b578-02420a0001bc",
     "previous": "935f6fc8-4bfd-11e9-b578-02420a0001bc"
    }
   },
   "source": [
    "このNotebookを実行すると、GitHubリポジトリの教材バックアップをホームディレクトリ直下に展開します。\n",
    "\n",
    "**リストアするには下記のフォルダ/ファイルは、全てバックアップの内容で上書きされます。**\n",
    "* `textbook`\n",
    "* `info`\n",
    "* `draft`\n",
    "* `test`\n",
    "* 任意でバックアップに追加したフォルダ/ファイル"
   ]
  },
  {
   "cell_type": "markdown",
   "metadata": {
    "lc_cell_meme": {
     "current": "935f7068-4bfd-11e9-b578-02420a0001bc",
     "history": [],
     "next": "935f70b8-4bfd-11e9-b578-02420a0001bc",
     "previous": "935f7018-4bfd-11e9-b578-02420a0001bc"
    }
   },
   "source": [
    "# GitHubリポジトリへの接続情報を設定します"
   ]
  },
  {
   "cell_type": "markdown",
   "metadata": {
    "lc_cell_meme": {
     "current": "935f70b8-4bfd-11e9-b578-02420a0001bc",
     "history": [],
     "next": "935f7108-4bfd-11e9-b578-02420a0001bc",
     "previous": "935f7068-4bfd-11e9-b578-02420a0001bc"
    }
   },
   "source": [
    "バックアップ先のGitHubリポジトリへの接続情報を設定します。\n",
    "\n",
    "1. GitHubに接続するSSHキーを新たに登録する場合は、 [GitHubリポジトリの準備/2. SSHキーの登録](03_PrepareGitHub.ipynb#create_ssh_key)を使って作成して下さい。\n",
    "2. [GitHubリポジトリの準備/3. GitHubリポジトリ接続情報の設定](03_PrepareGitHub.ipynb#connect_github_repo)を使って、バックアップ用のGitHubリポジトリの接続情報を設定して下さい。"
   ]
  },
  {
   "cell_type": "markdown",
   "metadata": {
    "lc_cell_meme": {
     "current": "935f7108-4bfd-11e9-b578-02420a0001bc",
     "history": [],
     "next": "935f7158-4bfd-11e9-b578-02420a0001bc",
     "previous": "935f70b8-4bfd-11e9-b578-02420a0001bc"
    }
   },
   "source": [
    "# 次のセルを実行して、教材バックアップを展開して下さい"
   ]
  },
  {
   "cell_type": "markdown",
   "metadata": {
    "lc_cell_meme": {
     "current": "935f7158-4bfd-11e9-b578-02420a0001bc",
     "history": [],
     "next": "935f71a8-4bfd-11e9-b578-02420a0001bc",
     "previous": "935f7108-4bfd-11e9-b578-02420a0001bc"
    }
   },
   "source": [
    "GitHubから教材バックアップを取得して、ホームディレクトリに展開します。"
   ]
  },
  {
   "cell_type": "code",
   "execution_count": null,
   "metadata": {
    "lc_cell_meme": {
     "current": "935f71a8-4bfd-11e9-b578-02420a0001bc",
     "history": [],
     "next": null,
     "previous": "935f7158-4bfd-11e9-b578-02420a0001bc"
    }
   },
   "outputs": [],
   "source": [
    "%%bash\n",
    "\n",
    "cd\n",
    "comm -13 <(sort ~/.ssh/known_hosts) <(ssh-keyscan github.com 2>/dev/null | sort) >>~/.ssh/known_hosts\n",
    "\n",
    "IS_INSIDE_REPO=0\n",
    "S=\"$(git rev-parse --is-inside-work-tree 2>/dev/null)\"\n",
    "[ $? -eq 0 -a \"${S}\" = \"true\" ] && IS_INSIDE_REPO=1\n",
    "\n",
    "if [ ${IS_INSIDE_REPO} -ne 1 ]; then\n",
    "  echo \"ERROR: git repository not initialized.\" 1>&2\n",
    "  exit 1\n",
    "fi\n",
    "\n",
    "git fetch --force origin\n",
    "git reset --hard origin/master\n",
    "\n",
    "git ls-files -c | while read -r path; do\n",
    "  if [ -f \"${path}\" -a \"${path: -6}\" = \".ipynb\" ]; then\n",
    "    jupyter-trust \"${path}\"\n",
    "  fi\n",
    "done"
   ]
  }
 ],
 "metadata": {
  "kernelspec": {
   "display_name": "Python 3",
   "language": "python",
   "name": "python3"
  },
  "language_info": {
   "codemirror_mode": {
    "name": "ipython",
    "version": 3
   },
   "file_extension": ".py",
   "mimetype": "text/x-python",
   "name": "python",
   "nbconvert_exporter": "python",
   "pygments_lexer": "ipython3",
   "version": "3.6.8"
  },
  "lc_notebook_meme": {
   "current": "935f6d8e-4bfd-11e9-b578-02420a0001bc",
   "history": [],
   "root_cells": [
    "935f6ee2-4bfd-11e9-b578-02420a0001bc",
    "935f6f64-4bfd-11e9-b578-02420a0001bc",
    "935f6fc8-4bfd-11e9-b578-02420a0001bc",
    "935f7018-4bfd-11e9-b578-02420a0001bc",
    "935f7068-4bfd-11e9-b578-02420a0001bc",
    "935f70b8-4bfd-11e9-b578-02420a0001bc",
    "935f7108-4bfd-11e9-b578-02420a0001bc",
    "935f7158-4bfd-11e9-b578-02420a0001bc",
    "935f71a8-4bfd-11e9-b578-02420a0001bc"
   ]
  },
  "toc": {
   "base_numbering": 1,
   "nav_menu": {},
   "number_sections": true,
   "sideBar": true,
   "skip_h1_title": false,
   "title_cell": "Table of Contents",
   "title_sidebar": "Contents",
   "toc_cell": false,
   "toc_position": {},
   "toc_section_display": true,
   "toc_window_display": true
  }
 },
 "nbformat": 4,
 "nbformat_minor": 2
}
