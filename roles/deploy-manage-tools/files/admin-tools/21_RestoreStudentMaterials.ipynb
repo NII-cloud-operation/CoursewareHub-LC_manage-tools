{
 "cells": [
  {
   "cell_type": "markdown",
   "metadata": {
    "lc_cell_meme": {
     "current": "94ce7d18-4bfd-11e9-8208-02420a0001bc-2-1a0b-f83e",
     "history": [
      {
       "current": "94ce7d18-4bfd-11e9-8208-02420a0001bc-1-1a0b",
       "next": "94ce7da4-4bfd-11e9-8208-02420a0001bc",
       "previous": null
      },
      {
       "current": "94ce7d18-4bfd-11e9-8208-02420a0001bc-2-1a0b-f83e",
       "next": "94ce7da4-4bfd-11e9-8208-02420a0001bc-1-95a8",
       "previous": null
      }
     ],
     "next": "94ce7da4-4bfd-11e9-8208-02420a0001bc-2-95a8-155f",
     "previous": null
    }
   },
   "source": [
    "# 受講者の演習環境バックアップをリストアします\n",
    "---"
   ]
  },
  {
   "cell_type": "markdown",
   "metadata": {
    "lc_cell_meme": {
     "current": "94ce7da4-4bfd-11e9-8208-02420a0001bc-2-95a8-155f",
     "history": [
      {
       "current": "94ce7da4-4bfd-11e9-8208-02420a0001bc-1-95a8",
       "next": "94ce7dfe-4bfd-11e9-8208-02420a0001bc",
       "previous": "94ce7d18-4bfd-11e9-8208-02420a0001bc"
      },
      {
       "current": "94ce7da4-4bfd-11e9-8208-02420a0001bc-2-95a8-155f",
       "next": "94ce7dfe-4bfd-11e9-8208-02420a0001bc-1-3032",
       "previous": "94ce7d18-4bfd-11e9-8208-02420a0001bc-1-1a0b"
      }
     ],
     "next": "94ce7dfe-4bfd-11e9-8208-02420a0001bc-2-3032-27e0",
     "previous": "94ce7d18-4bfd-11e9-8208-02420a0001bc-2-1a0b-f83e"
    }
   },
   "source": [
    "バックアップした受講者の演習環境を展開します。"
   ]
  },
  {
   "cell_type": "markdown",
   "metadata": {
    "lc_cell_meme": {
     "current": "94ce7dfe-4bfd-11e9-8208-02420a0001bc-2-3032-27e0",
     "history": [
      {
       "current": "94ce7dfe-4bfd-11e9-8208-02420a0001bc-1-3032",
       "next": "94ce7e58-4bfd-11e9-8208-02420a0001bc",
       "previous": "94ce7da4-4bfd-11e9-8208-02420a0001bc"
      },
      {
       "current": "94ce7dfe-4bfd-11e9-8208-02420a0001bc-2-3032-27e0",
       "next": "94ce7e58-4bfd-11e9-8208-02420a0001bc-1-3e0e",
       "previous": "94ce7da4-4bfd-11e9-8208-02420a0001bc-1-95a8"
      }
     ],
     "next": "94ce7e58-4bfd-11e9-8208-02420a0001bc-2-3e0e-446b",
     "previous": "94ce7da4-4bfd-11e9-8208-02420a0001bc-2-95a8-155f"
    }
   },
   "source": [
    "# バックアップファイルを指定します"
   ]
  },
  {
   "cell_type": "markdown",
   "metadata": {
    "lc_cell_meme": {
     "current": "94ce7e58-4bfd-11e9-8208-02420a0001bc-2-3e0e-446b",
     "history": [
      {
       "current": "94ce7e58-4bfd-11e9-8208-02420a0001bc-1-3e0e",
       "next": "94ce7ea8-4bfd-11e9-8208-02420a0001bc",
       "previous": "94ce7dfe-4bfd-11e9-8208-02420a0001bc"
      },
      {
       "current": "94ce7e58-4bfd-11e9-8208-02420a0001bc-2-3e0e-446b",
       "next": "94ce7ea8-4bfd-11e9-8208-02420a0001bc-1-de4e",
       "previous": "94ce7dfe-4bfd-11e9-8208-02420a0001bc-1-3032"
      }
     ],
     "next": "94ce7ea8-4bfd-11e9-8208-02420a0001bc-2-de4e-0a79",
     "previous": "94ce7dfe-4bfd-11e9-8208-02420a0001bc-2-3032-27e0"
    }
   },
   "source": [
    "リストアするバックアップファルを指定します。\n",
    "- ホームディレクトリからの相対パスで指定します。\n",
    "- フォルダを指定した場合、フォルダ内の全ての `*.tgz` ファイルが対象となります。\n",
    "- バックアップファイルがローカルマシンにある場合は、下記の手順でアップロードできます。\n",
    "  1. ブラウザのHome画面で、リストア作業用フォルダを開きます。\n",
    "  2. 画面右上の[Upload]ボタンをクリックします。ファイル選択ダイアログが開きます。\n",
    "  3. ファイルを選択して[開く]ボタンをクリックします。 バックアップファイル名がリストされます。\n",
    "  4. バックアップファイル名の行の右端に表示される[Upload]ボタンをクリックします。\n",
    "\n",
    "**次のセルを実行して、バックアップファイルを設定してください。**"
   ]
  },
  {
   "cell_type": "code",
   "execution_count": null,
   "metadata": {
    "lc_cell_meme": {
     "current": "94ce7ea8-4bfd-11e9-8208-02420a0001bc-2-de4e-0a79",
     "history": [
      {
       "current": "94ce7ea8-4bfd-11e9-8208-02420a0001bc-1-de4e",
       "next": "94ce802e-4bfd-11e9-8208-02420a0001bc",
       "previous": "94ce7e58-4bfd-11e9-8208-02420a0001bc"
      },
      {
       "current": "94ce7ea8-4bfd-11e9-8208-02420a0001bc-2-de4e-0a79",
       "next": "a09cf1c8-fe54-11ef-96fa-02420a640255-4-c795-8dcc-7cec-38b8",
       "previous": "94ce7e58-4bfd-11e9-8208-02420a0001bc-1-3e0e"
      }
     ],
     "next": "a09cf1c8-fe54-11ef-96fa-02420a640255-5-c795-8dcc-7cec-38b8-1612",
     "previous": "94ce7e58-4bfd-11e9-8208-02420a0001bc-2-3e0e-446b"
    }
   },
   "outputs": [],
   "source": [
    "BACKUP_FILE='backup/0123/student-a01@example.com-backup.tgz'"
   ]
  },
  {
   "cell_type": "markdown",
   "metadata": {
    "lc_cell_meme": {
     "current": "a09cf1c8-fe54-11ef-96fa-02420a640255-5-c795-8dcc-7cec-38b8-1612",
     "history": [
      {
       "current": "a09cf1c8-fe54-11ef-96fa-02420a640255-2-c795-8dcc",
       "next": "64cc969c-fd8e-11ef-ac33-02420a64024e-1-3a7b",
       "previous": "91ef93c0-4bfd-11e9-ad24-02420a0001bc-1-1627"
      },
      {
       "current": "a09cf1c8-fe54-11ef-96fa-02420a640255-4-c795-8dcc-7cec-38b8",
       "next": "64cc969c-fd8e-11ef-ac33-02420a64024e-3-3a7b-e4d3-8e14",
       "previous": "947105ac-4bfd-11e9-8c4f-02420a0001bc-1-da56"
      },
      {
       "current": "a09cf1c8-fe54-11ef-96fa-02420a640255-5-c795-8dcc-7cec-38b8-1612",
       "next": "64cc969c-fd8e-11ef-ac33-02420a64024e-5-3a7b-e4d3-8e14-72a2-4e79",
       "previous": "94ce7ea8-4bfd-11e9-8208-02420a0001bc-1-de4e"
      }
     ],
     "next": "64cc969c-fd8e-11ef-ac33-02420a64024e-6-3a7b-e4d3-8e14-72a2-4e79-748d",
     "previous": "94ce7ea8-4bfd-11e9-8208-02420a0001bc-2-de4e-0a79"
    }
   },
   "source": [
    "# コースの指定"
   ]
  },
  {
   "cell_type": "code",
   "execution_count": null,
   "metadata": {
    "lc_cell_meme": {
     "current": "64cc969c-fd8e-11ef-ac33-02420a64024e-6-3a7b-e4d3-8e14-72a2-4e79-748d",
     "history": [
      {
       "current": "64cc969c-fd8e-11ef-ac33-02420a64024e-1-3a7b",
       "next": "9193b88e-4bfd-11e9-80f2-02420a0001bc-1-3d06",
       "previous": "9193b848-4bfd-11e9-80f2-02420a0001bc-1-0ae7"
      },
      {
       "current": "64cc969c-fd8e-11ef-ac33-02420a64024e-3-3a7b-e4d3-8e14",
       "next": "91ef9410-4bfd-11e9-ad24-02420a0001bc-1-9cb9",
       "previous": "a09cf1c8-fe54-11ef-96fa-02420a640255"
      },
      {
       "current": "64cc969c-fd8e-11ef-ac33-02420a64024e-5-3a7b-e4d3-8e14-72a2-4e79",
       "next": "94710606-4bfd-11e9-8c4f-02420a0001bc-1-9c59",
       "previous": "a09cf1c8-fe54-11ef-96fa-02420a640255-2-c795-8dcc"
      },
      {
       "current": "64cc969c-fd8e-11ef-ac33-02420a64024e-6-3a7b-e4d3-8e14-72a2-4e79-748d",
       "next": "94ce818c-4bfd-11e9-8208-02420a0001bc-1-6bab",
       "previous": "a09cf1c8-fe54-11ef-96fa-02420a640255-4-c795-8dcc-7cec-38b8"
      }
     ],
     "next": "94ce818c-4bfd-11e9-8208-02420a0001bc-2-6bab-907b",
     "previous": "a09cf1c8-fe54-11ef-96fa-02420a640255-5-c795-8dcc-7cec-38b8-1612"
    }
   },
   "outputs": [],
   "source": [
    "import os\n",
    "\n",
    "# コース名の指定\n",
    "course_name = os.environ['CWH_COURSE_NAME']\n",
    "course_name"
   ]
  },
  {
   "cell_type": "markdown",
   "metadata": {
    "lc_cell_meme": {
     "current": "94ce818c-4bfd-11e9-8208-02420a0001bc-2-6bab-907b",
     "history": [
      {
       "current": "94ce818c-4bfd-11e9-8208-02420a0001bc-1-6bab",
       "next": "94ce81f0-4bfd-11e9-8208-02420a0001bc",
       "previous": "94ce802e-4bfd-11e9-8208-02420a0001bc"
      },
      {
       "current": "94ce818c-4bfd-11e9-8208-02420a0001bc-2-6bab-907b",
       "next": "94ce81f0-4bfd-11e9-8208-02420a0001bc-1-5f0e",
       "previous": "64cc969c-fd8e-11ef-ac33-02420a64024e-5-3a7b-e4d3-8e14-72a2-4e79"
      }
     ],
     "next": "94ce81f0-4bfd-11e9-8208-02420a0001bc-2-5f0e-0197",
     "previous": "64cc969c-fd8e-11ef-ac33-02420a64024e-6-3a7b-e4d3-8e14-72a2-4e79-748d"
    }
   },
   "source": [
    "# バックアップを展開します"
   ]
  },
  {
   "cell_type": "markdown",
   "metadata": {
    "lc_cell_meme": {
     "current": "94ce81f0-4bfd-11e9-8208-02420a0001bc-2-5f0e-0197",
     "history": [
      {
       "current": "94ce81f0-4bfd-11e9-8208-02420a0001bc-1-5f0e",
       "next": "94ce82e0-4bfd-11e9-8208-02420a0001bc",
       "previous": "94ce818c-4bfd-11e9-8208-02420a0001bc"
      },
      {
       "current": "94ce81f0-4bfd-11e9-8208-02420a0001bc-2-5f0e-0197",
       "next": "94ce82e0-4bfd-11e9-8208-02420a0001bc-1-21c2",
       "previous": "94ce818c-4bfd-11e9-8208-02420a0001bc-1-6bab"
      }
     ],
     "next": "94ce82e0-4bfd-11e9-8208-02420a0001bc-2-21c2-d609",
     "previous": "94ce818c-4bfd-11e9-8208-02420a0001bc-2-6bab-907b"
    }
   },
   "source": [
    "- バックアップはファイル名に含まれる名前の受講者のフォルダに展開されます。\n",
    "- 同一のファイルは上書きされます。"
   ]
  },
  {
   "cell_type": "code",
   "execution_count": null,
   "metadata": {
    "lc_cell_meme": {
     "current": "94ce82e0-4bfd-11e9-8208-02420a0001bc-2-21c2-d609",
     "history": [
      {
       "current": "94ce82e0-4bfd-11e9-8208-02420a0001bc-1-21c2",
       "next": null,
       "previous": "94ce81f0-4bfd-11e9-8208-02420a0001bc"
      },
      {
       "current": "94ce82e0-4bfd-11e9-8208-02420a0001bc-2-21c2-d609",
       "next": null,
       "previous": "94ce81f0-4bfd-11e9-8208-02420a0001bc-1-5f0e"
      }
     ],
     "next": null,
     "previous": "94ce81f0-4bfd-11e9-8208-02420a0001bc-2-5f0e-0197"
    }
   },
   "outputs": [],
   "source": [
    "import os, sys, re, hashlib, string, tempfile, shutil, subprocess\n",
    "\n",
    "assert course_name != '', \"コース用のサーバー上で実行するか、コース名を指定してください\"\n",
    "\n",
    "def get_username_from_mail_address(mail_address):\n",
    "    # Convert to lower and remove characters except for alphabets and digits\n",
    "    wk = mail_address.split('@')\n",
    "    local_part = wk[0].lower()\n",
    "    result = re.sub(r'[^a-zA-Z0-9]', '', local_part)\n",
    "    # Add top 6bytes of hash string\n",
    "    md5 = hashlib.md5()\n",
    "    md5.update(mail_address.encode('us-ascii'))\n",
    "    h = md5.hexdigest()[0:6]\n",
    "    result += 'x'\n",
    "    result += h;\n",
    "    return result;\n",
    "\n",
    "try:\n",
    "    BACKUP_FILE\n",
    "except NameError:\n",
    "    BACKUP_FILE=None\n",
    "\n",
    "if BACKUP_FILE is None:\n",
    "    print('BACKUP_FILE にバックアップファイルを指定してください', file=sys.stderr)\n",
    "    SRC_PATH=None\n",
    "elif os.path.isabs(BACKUP_FILE):\n",
    "    SRC_PATH=os.path.realpath(BACKUP_FILE)\n",
    "else:\n",
    "    SRC_PATH=os.path.realpath(os.path.join(os.getenv('HOME'), course_name, BACKUP_FILE))\n",
    "\n",
    "backup_files=set()\n",
    "if SRC_PATH is None:\n",
    "    print('バックアップファイルがありません', file=sys.stderr)\n",
    "elif os.path.isdir(SRC_PATH):\n",
    "    for (root, dirs, files) in os.walk(SRC_PATH):\n",
    "        for file in files:\n",
    "            path = os.path.join(root, file)\n",
    "            if path.endswith('.tgz') or path.endswith('.tar.gz'):\n",
    "                backup_files.add(os.path.realpath(path))\n",
    "elif os.path.exists(SRC_PATH):\n",
    "    print('mode SINGLE FILE')\n",
    "    backup_files.add(os.path.realpath(SRC_PATH))\n",
    "else:\n",
    "    print('{}: バックアップファイルが見つかりません'.format(BACKUP_FILE), file=sys.stderr)\n",
    "\n",
    "#\n",
    "with tempfile.TemporaryDirectory() as tmp_dir:\n",
    "    for tgzfile in backup_files:\n",
    "        basename = os.path.basename(tgzfile)\n",
    "        m = re.compile(r'^(.+)-backup\\.(tgz|tar\\.gz)$').match(basename)\n",
    "        user_mail = m.group(1) if (m is not None) else None\n",
    "        if (user_mail is None) or (len(user_mail) < 1):\n",
    "            print('WARNING: 受講者名が不明のファイル: {}'.format(tgzfile))\n",
    "            continue\n",
    "        print('受講者[{}]のバックアップを展開します'.format(user_mail))\n",
    "        user_name = get_username_from_mail_address(user_mail)\n",
    "        user_dir = os.path.join('/home/jupyter/workspace', user_name, course_name)\n",
    "        user_dir_info = os.stat(user_dir)\n",
    "        user_uid = user_dir_info.st_uid\n",
    "        user_gid = user_dir_info.st_gid\n",
    "        user_tmp_dir = '{}/{}'.format(tmp_dir, user_name)\n",
    "        os.makedirs(user_tmp_dir, exist_ok=True)\n",
    "        try:\n",
    "            tarcmd = 'tar -xz -C \"{}\" -f \"{}\"'.format(user_tmp_dir, tgzfile)\n",
    "            cp = subprocess.run(tarcmd, shell=True, cwd=user_tmp_dir, stderr=subprocess.PIPE)\n",
    "            for line in cp.stderr.splitlines():\n",
    "                print('tar> {}'.format(line.strip().decode('utf-8')), file=sys.stderr)\n",
    "            if cp.returncode != 0:\n",
    "                print('ERROR: tar コマンドが失敗しました', file=sys.stderr)\n",
    "                continue\n",
    "        except OSError as e:\n",
    "            print('ERROR: tar コマンドが実行できません：{}'.format(e), file=sys.stderr)\n",
    "            continue\n",
    "        try:\n",
    "            cmd = 'cd {}'.format(tmp_dir) \\\n",
    "                + ' && sudo -n -s mkdir -p \"{}\"'.format(user_dir) \\\n",
    "                + ' && sudo -n -s rsync -vhi -rLkKEtW \"{}/\" \"{}/\"'.format(user_tmp_dir, user_dir) \\\n",
    "                + ' && sudo -n -s chown -R {}:{} \"{}/\"'.format(user_uid, user_gid, user_dir) \\\n",
    "                + ' && sudo -n -s find \"{}/\" -name \".*\" -prune'.format(user_dir) \\\n",
    "                                     + ' -o -type d -execdir chmod 0755 \"{}\" \"+\"' \\\n",
    "                + ' && sudo -n -s find \"{}/\" -name \".*\" -prune'.format(user_dir) \\\n",
    "                                     + ' -o -type f -execdir chmod 0644 \"{}\" \"+\"' \\\n",
    "                + ' && true'\n",
    "            cp = subprocess.run(cmd, shell=True, stdout=subprocess.PIPE, stderr=subprocess.PIPE)\n",
    "            for line in cp.stdout.splitlines():\n",
    "                print('rsync> {}'.format(line.strip().decode('utf-8')))\n",
    "            for line in cp.stderr.splitlines():\n",
    "                print('rsync> {}'.format(line.strip().decode('utf-8')), file=sys.stderr)\n",
    "            if cp.returncode == 0:\n",
    "                print('-> 完了')\n",
    "            else:\n",
    "                print('ERROR: rsync コマンドが失敗しました', file=sys.stderr)\n",
    "                continue\n",
    "        except OSError as e:\n",
    "            print(type(e))\n",
    "            print('ERROR: rsync コマンドが実行できません：{}'.format(e), file=sys.stderr)\n",
    "            continue"
   ]
  }
 ],
 "metadata": {
  "kernelspec": {
   "display_name": "Python 3",
   "language": "python",
   "name": "python3"
  },
  "language_info": {
   "file_extension": ".py",
   "mimetype": "text/x-python",
   "name": "python",
   "nbconvert_exporter": "python",
   "pygments_lexer": "ipython3",
   "version": "3.10.11"
  },
  "lc_notebook_meme": {
   "current": "94ce7bb0-4bfd-11e9-8208-02420a0001bc",
   "history": [],
   "root_cells": [
    "94ce7d18-4bfd-11e9-8208-02420a0001bc",
    "94ce7da4-4bfd-11e9-8208-02420a0001bc",
    "94ce7dfe-4bfd-11e9-8208-02420a0001bc",
    "94ce7e58-4bfd-11e9-8208-02420a0001bc",
    "94ce7ea8-4bfd-11e9-8208-02420a0001bc",
    "94ce802e-4bfd-11e9-8208-02420a0001bc",
    "94ce818c-4bfd-11e9-8208-02420a0001bc",
    "94ce81f0-4bfd-11e9-8208-02420a0001bc",
    "94ce82e0-4bfd-11e9-8208-02420a0001bc"
   ]
  },
  "toc": {
   "base_numbering": 1,
   "nav_menu": {},
   "number_sections": true,
   "sideBar": true,
   "skip_h1_title": false,
   "title_cell": "Table of Contents",
   "title_sidebar": "Contents",
   "toc_cell": false,
   "toc_position": {},
   "toc_section_display": true,
   "toc_window_display": false
  }
 },
 "nbformat": 4,
 "nbformat_minor": 2
}
