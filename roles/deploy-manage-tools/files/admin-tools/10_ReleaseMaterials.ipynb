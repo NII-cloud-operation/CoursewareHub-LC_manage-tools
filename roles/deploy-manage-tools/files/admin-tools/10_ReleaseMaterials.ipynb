{
 "cells": [
  {
   "cell_type": "markdown",
   "metadata": {
    "lc_cell_meme": {
     "current": "9193b640-4bfd-11e9-80f2-02420a0001bc-1-961e",
     "history": [
      {
       "current": "9193b640-4bfd-11e9-80f2-02420a0001bc-1-961e",
       "next": "9193b6c2-4bfd-11e9-80f2-02420a0001bc",
       "previous": null
      }
     ],
     "next": "9193b6c2-4bfd-11e9-80f2-02420a0001bc-1-0ea3",
     "previous": null
    }
   },
   "source": [
    "# 教材をリリースします\n",
    "<HR>"
   ]
  },
  {
   "cell_type": "markdown",
   "metadata": {
    "collapsed": true,
    "lc_cell_meme": {
     "current": "9193b6c2-4bfd-11e9-80f2-02420a0001bc-1-0ea3",
     "history": [
      {
       "current": "9193b6c2-4bfd-11e9-80f2-02420a0001bc-1-0ea3",
       "next": "9193b712-4bfd-11e9-80f2-02420a0001bc",
       "previous": "9193b640-4bfd-11e9-80f2-02420a0001bc"
      }
     ],
     "next": "9193b712-4bfd-11e9-80f2-02420a0001bc-1-017d",
     "previous": "9193b640-4bfd-11e9-80f2-02420a0001bc-1-961e"
    }
   },
   "source": [
    "作成した演習Notebook、講義資料などの教材をリリースします。<br>\n",
    "リリースすると、各受講者のHome画面で教材を操作できるようになります。"
   ]
  },
  {
   "cell_type": "markdown",
   "metadata": {
    "lc_cell_meme": {
     "current": "9193b712-4bfd-11e9-80f2-02420a0001bc-1-017d",
     "history": [
      {
       "current": "9193b712-4bfd-11e9-80f2-02420a0001bc-1-017d",
       "next": "9193b762-4bfd-11e9-80f2-02420a0001bc",
       "previous": "9193b6c2-4bfd-11e9-80f2-02420a0001bc"
      }
     ],
     "next": "9193b762-4bfd-11e9-80f2-02420a0001bc-1-06b2",
     "previous": "9193b6c2-4bfd-11e9-80f2-02420a0001bc-1-0ea3"
    }
   },
   "source": [
    "## 1. リリースの準備"
   ]
  },
  {
   "cell_type": "markdown",
   "metadata": {
    "lc_cell_meme": {
     "current": "9193b762-4bfd-11e9-80f2-02420a0001bc-1-06b2",
     "history": [
      {
       "current": "9193b762-4bfd-11e9-80f2-02420a0001bc-1-06b2",
       "next": "9193b7b2-4bfd-11e9-80f2-02420a0001bc",
       "previous": "9193b712-4bfd-11e9-80f2-02420a0001bc"
      }
     ],
     "next": "9193b7b2-4bfd-11e9-80f2-02420a0001bc-1-8dbd",
     "previous": "9193b712-4bfd-11e9-80f2-02420a0001bc-1-017d"
    }
   },
   "source": [
    "* リリースする教材をホームディレクトリ直下の下記のフォルダに格納してします。\n",
    "  * textbook : 演習Notebookおよび演習Notebook実行に関わるスクリプト、設定ファイルなどを格納します。\n",
    "  * info : 受講者全員が参照する資料などを格納します。"
   ]
  },
  {
   "cell_type": "markdown",
   "metadata": {
    "lc_cell_meme": {
     "current": "9193b7b2-4bfd-11e9-80f2-02420a0001bc-1-8dbd",
     "history": [
      {
       "current": "9193b7b2-4bfd-11e9-80f2-02420a0001bc-1-8dbd",
       "next": "9193b7f8-4bfd-11e9-80f2-02420a0001bc",
       "previous": "9193b762-4bfd-11e9-80f2-02420a0001bc"
      }
     ],
     "next": "9193b7f8-4bfd-11e9-80f2-02420a0001bc-1-0103",
     "previous": "9193b762-4bfd-11e9-80f2-02420a0001bc-1-06b2"
    }
   },
   "source": [
    "## 2. 次のセルを実行して、教材をリリースして下さい。"
   ]
  },
  {
   "cell_type": "markdown",
   "metadata": {
    "lc_cell_meme": {
     "current": "9193b7f8-4bfd-11e9-80f2-02420a0001bc-1-0103",
     "history": [
      {
       "current": "9193b7f8-4bfd-11e9-80f2-02420a0001bc-1-0103",
       "next": "9193b848-4bfd-11e9-80f2-02420a0001bc",
       "previous": "9193b7b2-4bfd-11e9-80f2-02420a0001bc"
      }
     ],
     "next": "9193b848-4bfd-11e9-80f2-02420a0001bc-1-0ae7",
     "previous": "9193b7b2-4bfd-11e9-80f2-02420a0001bc-1-8dbd"
    }
   },
   "source": [
    " リリースすると、各受講者のJupyterのHome画面でフォルダ「textbook」「info」として参照できるようになリます。"
   ]
  },
  {
   "cell_type": "code",
   "execution_count": null,
   "metadata": {
    "deletable": false,
    "editable": false,
    "lc_cell_meme": {
     "current": "9193b848-4bfd-11e9-80f2-02420a0001bc-1-0ae7",
     "history": [
      {
       "current": "9193b848-4bfd-11e9-80f2-02420a0001bc-1-0ae7",
       "next": "9193b88e-4bfd-11e9-80f2-02420a0001bc",
       "previous": "9193b7f8-4bfd-11e9-80f2-02420a0001bc"
      },
      {
       "current": "9193b848-4bfd-11e9-80f2-02420a0001bc-1-0ae7",
       "next": "9193b88e-4bfd-11e9-80f2-02420a0001bc-1-3d06",
       "previous": "9193b7f8-4bfd-11e9-80f2-02420a0001bc-1-0103"
      }
     ],
     "next": "64cc969c-fd8e-11ef-ac33-02420a64024e",
     "previous": "9193b7f8-4bfd-11e9-80f2-02420a0001bc-1-0103"
    },
    "run_through_control": {
     "frozen": false
    }
   },
   "outputs": [],
   "source": [
    "%%writefile /tmp/release.excludes\n",
    ".ipynb_checkpoints\n",
    ".ipython\n",
    ".jupyter\n",
    ".git\n",
    ".ssh\n",
    ".local\n",
    ".log"
   ]
  },
  {
   "cell_type": "code",
   "execution_count": null,
   "metadata": {
    "deletable": false,
    "editable": false,
    "lc_cell_meme": {
     "current": "64cc969c-fd8e-11ef-ac33-02420a64024e",
     "next": "9193b88e-4bfd-11e9-80f2-02420a0001bc-1-3d06",
     "previous": "9193b848-4bfd-11e9-80f2-02420a0001bc-1-0ae7"
    },
    "run_through_control": {
     "frozen": false
    }
   },
   "outputs": [],
   "source": [
    "import os\n",
    "\n",
    "# コース名の指定\n",
    "course_name = os.environ['CWH_COURSE_NAME']\n",
    "course_name"
   ]
  },
  {
   "cell_type": "code",
   "execution_count": null,
   "metadata": {
    "deletable": false,
    "editable": false,
    "lc_cell_meme": {
     "current": "9193b88e-4bfd-11e9-80f2-02420a0001bc-1-3d06",
     "history": [
      {
       "current": "9193b88e-4bfd-11e9-80f2-02420a0001bc-1-3d06",
       "next": null,
       "previous": "9193b848-4bfd-11e9-80f2-02420a0001bc"
      },
      {
       "current": "9193b88e-4bfd-11e9-80f2-02420a0001bc-1-3d06",
       "next": null,
       "previous": "9193b848-4bfd-11e9-80f2-02420a0001bc-1-0ae7"
      }
     ],
     "next": null,
     "previous": "64cc969c-fd8e-11ef-ac33-02420a64024e"
    },
    "run_through_control": {
     "frozen": false
    }
   },
   "outputs": [],
   "source": [
    "assert course_name != '', \"コース用のサーバー上で実行するか、コース名を指定してください\"\n",
    "\n",
    "# Adjust file permissions\n",
    "!find $(realpath ~/{course_name}/textbook/) $(realpath ~/{course_name}/info/) \\\n",
    "     -type f -name '*.ipynb' -execdir chmod go+r '{{}}' ';' \\\n",
    "     -o -type d -execdir chmod go+rx '{{}}' ';'\n",
    "\n",
    "# Release\n",
    "!rsync -v -ruLkpEtWhiO --delete --force --exclude-from=/tmp/release.excludes \\\n",
    "       $(realpath ~/{course_name}/textbook)/ $(realpath /home/jupyter/textbook/{course_name})/\n",
    "!rsync -v -ruLkpEtWhiO --delete --force --exclude-from=/tmp/release.excludes \\\n",
    "       $(realpath ~/{course_name}/info)/     $(realpath /home/jupyter/info/{course_name})/\n",
    "\n",
    "#\n",
    "!rm -f /tmp/release.excludes\n",
    "\n",
    "#\n",
    "print('Successfully released.')"
   ]
  }
 ],
 "metadata": {
  "kernelspec": {
   "display_name": "Python 3",
   "language": "python",
   "name": "python3"
  },
  "language_info": {
   "file_extension": ".py",
   "mimetype": "text/x-python",
   "name": "python",
   "nbconvert_exporter": "python",
   "pygments_lexer": "ipython3",
   "version": "3.10.11"
  },
  "lc_notebook_meme": {
   "current": "9193b4ec-4bfd-11e9-80f2-02420a0001bc",
   "history": [],
   "root_cells": [
    "9193b640-4bfd-11e9-80f2-02420a0001bc",
    "9193b6c2-4bfd-11e9-80f2-02420a0001bc",
    "9193b712-4bfd-11e9-80f2-02420a0001bc",
    "9193b762-4bfd-11e9-80f2-02420a0001bc",
    "9193b7b2-4bfd-11e9-80f2-02420a0001bc",
    "9193b7f8-4bfd-11e9-80f2-02420a0001bc",
    "9193b848-4bfd-11e9-80f2-02420a0001bc",
    "9193b88e-4bfd-11e9-80f2-02420a0001bc"
   ]
  },
  "toc": {
   "base_numbering": 1,
   "nav_menu": {
    "height": "30px",
    "width": "252px"
   },
   "number_sections": true,
   "sideBar": true,
   "skip_h1_title": false,
   "title_cell": "Table of Contents",
   "title_sidebar": "Contents",
   "toc_cell": false,
   "toc_position": {},
   "toc_section_display": "block",
   "toc_window_display": true
  }
 },
 "nbformat": 4,
 "nbformat_minor": 1
}
