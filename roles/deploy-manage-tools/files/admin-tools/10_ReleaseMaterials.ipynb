{
 "cells": [
  {
   "cell_type": "markdown",
   "metadata": {
    "lc_cell_meme": {
     "current": "9193b640-4bfd-11e9-80f2-02420a0001bc",
     "history": [],
     "next": "9193b6c2-4bfd-11e9-80f2-02420a0001bc",
     "previous": null
    }
   },
   "source": [
    "# 教材をリリースします\n",
    "<HR>"
   ]
  },
  {
   "cell_type": "markdown",
   "metadata": {
    "collapsed": true,
    "lc_cell_meme": {
     "current": "9193b6c2-4bfd-11e9-80f2-02420a0001bc",
     "history": [],
     "next": "9193b712-4bfd-11e9-80f2-02420a0001bc",
     "previous": "9193b640-4bfd-11e9-80f2-02420a0001bc"
    }
   },
   "source": [
    "作成した演習Notebook、講義資料などの教材をリリースします。<br>\n",
    "リリースすると、各受講者のHome画面で教材を操作できるようになります。"
   ]
  },
  {
   "cell_type": "markdown",
   "metadata": {
    "lc_cell_meme": {
     "current": "9193b712-4bfd-11e9-80f2-02420a0001bc",
     "history": [],
     "next": "9193b762-4bfd-11e9-80f2-02420a0001bc",
     "previous": "9193b6c2-4bfd-11e9-80f2-02420a0001bc"
    }
   },
   "source": [
    "## 1. リリースの準備"
   ]
  },
  {
   "cell_type": "markdown",
   "metadata": {
    "lc_cell_meme": {
     "current": "9193b762-4bfd-11e9-80f2-02420a0001bc",
     "history": [],
     "next": "9193b7b2-4bfd-11e9-80f2-02420a0001bc",
     "previous": "9193b712-4bfd-11e9-80f2-02420a0001bc"
    }
   },
   "source": [
    "* リリースする教材をホームディレクトリ直下の下記のフォルダに格納してします。\n",
    "  * textbook : 演習Notebookおよび演習Notebook実行に関わるスクリプト、設定ファイルなどを格納します。\n",
    "  * info : 受講者全員が参照する資料などを格納します。"
   ]
  },
  {
   "cell_type": "markdown",
   "metadata": {
    "lc_cell_meme": {
     "current": "9193b7b2-4bfd-11e9-80f2-02420a0001bc",
     "history": [],
     "next": "9193b7f8-4bfd-11e9-80f2-02420a0001bc",
     "previous": "9193b762-4bfd-11e9-80f2-02420a0001bc"
    }
   },
   "source": [
    "## 2. 次のセルを実行して、教材をリリースして下さい。"
   ]
  },
  {
   "cell_type": "markdown",
   "metadata": {
    "lc_cell_meme": {
     "current": "9193b7f8-4bfd-11e9-80f2-02420a0001bc",
     "history": [],
     "next": "9193b848-4bfd-11e9-80f2-02420a0001bc",
     "previous": "9193b7b2-4bfd-11e9-80f2-02420a0001bc"
    }
   },
   "source": [
    " リリースすると、各受講者のJupyterのHome画面でフォルダ「textbook」「info」として参照できるようになリます。"
   ]
  },
  {
   "cell_type": "code",
   "execution_count": null,
   "metadata": {
    "lc_cell_meme": {
     "current": "9193b848-4bfd-11e9-80f2-02420a0001bc",
     "history": [],
     "next": "9193b88e-4bfd-11e9-80f2-02420a0001bc",
     "previous": "9193b7f8-4bfd-11e9-80f2-02420a0001bc"
    }
   },
   "outputs": [],
   "source": [
    "%%writefile /tmp/release.excludes\n",
    ".ipynb_checkpoints\n",
    ".ipython\n",
    ".jupyter\n",
    ".git\n",
    ".ssh\n",
    ".local\n"
   ]
  },
  {
   "cell_type": "code",
   "execution_count": null,
   "metadata": {
    "lc_cell_meme": {
     "current": "9193b88e-4bfd-11e9-80f2-02420a0001bc",
     "history": [],
     "next": null,
     "previous": "9193b848-4bfd-11e9-80f2-02420a0001bc"
    }
   },
   "outputs": [],
   "source": [
    "# Adjust file permissions\n",
    "!find ~/textbook/ ~/info/ \\\n",
    "     -type f -name '*.ipynb' -execdir chmod go+r '{}' ';' \\\n",
    "     -o -type d -execdir chmod go+rx '{}' ';'\n",
    "\n",
    "# Release\n",
    "!rsync -v -ruLkpEtWhiO --delete --force --exclude-from=/tmp/release.excludes \\\n",
    "       ~/textbook/ /home/jupyter/textbook/\n",
    "!rsync -v -ruLkpEtWhiO --delete --force --exclude-from=/tmp/release.excludes \\\n",
    "       ~/info/     /home/jupyter/info/\n",
    "\n",
    "#\n",
    "!rm -f /tmp/release.excludes\n",
    "\n",
    "#\n",
    "print('Successfully released.')"
   ]
  }
 ],
 "metadata": {
  "kernelspec": {
   "display_name": "Python 3",
   "language": "python",
   "name": "python3"
  },
  "language_info": {
   "codemirror_mode": {
    "name": "ipython",
    "version": 3
   },
   "file_extension": ".py",
   "mimetype": "text/x-python",
   "name": "python",
   "nbconvert_exporter": "python",
   "pygments_lexer": "ipython3",
   "version": "3.6.8"
  },
  "lc_notebook_meme": {
   "current": "9193b4ec-4bfd-11e9-80f2-02420a0001bc",
   "history": [],
   "root_cells": [
    "9193b640-4bfd-11e9-80f2-02420a0001bc",
    "9193b6c2-4bfd-11e9-80f2-02420a0001bc",
    "9193b712-4bfd-11e9-80f2-02420a0001bc",
    "9193b762-4bfd-11e9-80f2-02420a0001bc",
    "9193b7b2-4bfd-11e9-80f2-02420a0001bc",
    "9193b7f8-4bfd-11e9-80f2-02420a0001bc",
    "9193b848-4bfd-11e9-80f2-02420a0001bc",
    "9193b88e-4bfd-11e9-80f2-02420a0001bc"
   ]
  },
  "toc": {
   "base_numbering": 1,
   "nav_menu": {
    "height": "30px",
    "width": "252px"
   },
   "number_sections": true,
   "sideBar": true,
   "skip_h1_title": false,
   "title_cell": "Table of Contents",
   "title_sidebar": "Contents",
   "toc_cell": false,
   "toc_position": {},
   "toc_section_display": "block",
   "toc_window_display": true
  }
 },
 "nbformat": 4,
 "nbformat_minor": 1
}
