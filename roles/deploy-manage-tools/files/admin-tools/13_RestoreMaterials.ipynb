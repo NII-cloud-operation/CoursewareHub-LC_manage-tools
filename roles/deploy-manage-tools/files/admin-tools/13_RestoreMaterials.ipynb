{
 "cells": [
  {
   "cell_type": "markdown",
   "metadata": {
    "lc_cell_meme": {
     "current": "92aa200a-4bfd-11e9-a41e-02420a0001bc-1-8362",
     "history": [
      {
       "current": "92aa200a-4bfd-11e9-a41e-02420a0001bc-1-8362",
       "next": "92aa2082-4bfd-11e9-a41e-02420a0001bc",
       "previous": null
      }
     ],
     "next": "92aa2082-4bfd-11e9-a41e-02420a0001bc-1-c20b",
     "previous": null
    }
   },
   "source": [
    "# 保存した教材バックアップをリストアします\n",
    "<HR>"
   ]
  },
  {
   "cell_type": "markdown",
   "metadata": {
    "lc_cell_meme": {
     "current": "92aa2082-4bfd-11e9-a41e-02420a0001bc-1-c20b",
     "history": [
      {
       "current": "92aa2082-4bfd-11e9-a41e-02420a0001bc-1-c20b",
       "next": "92aa20dc-4bfd-11e9-a41e-02420a0001bc",
       "previous": "92aa200a-4bfd-11e9-a41e-02420a0001bc"
      }
     ],
     "next": "92aa20dc-4bfd-11e9-a41e-02420a0001bc-1-5a81",
     "previous": "92aa200a-4bfd-11e9-a41e-02420a0001bc-1-8362"
    }
   },
   "source": [
    "保存してある教材のバックアップファイルを展開して、指定された位置に配置します。"
   ]
  },
  {
   "cell_type": "markdown",
   "metadata": {
    "lc_cell_meme": {
     "current": "92aa20dc-4bfd-11e9-a41e-02420a0001bc-1-5a81",
     "history": [
      {
       "current": "92aa20dc-4bfd-11e9-a41e-02420a0001bc-1-5a81",
       "next": "92aa212c-4bfd-11e9-a41e-02420a0001bc",
       "previous": "92aa2082-4bfd-11e9-a41e-02420a0001bc"
      }
     ],
     "next": "92aa212c-4bfd-11e9-a41e-02420a0001bc-1-2d40",
     "previous": "92aa2082-4bfd-11e9-a41e-02420a0001bc-1-c20b"
    }
   },
   "source": [
    "# リストアの準備"
   ]
  },
  {
   "cell_type": "markdown",
   "metadata": {
    "lc_cell_meme": {
     "current": "92aa212c-4bfd-11e9-a41e-02420a0001bc-1-2d40",
     "history": [
      {
       "current": "92aa212c-4bfd-11e9-a41e-02420a0001bc-1-2d40",
       "next": "92aa2172-4bfd-11e9-a41e-02420a0001bc",
       "previous": "92aa20dc-4bfd-11e9-a41e-02420a0001bc"
      }
     ],
     "next": "92aa2172-4bfd-11e9-a41e-02420a0001bc-1-649d",
     "previous": "92aa20dc-4bfd-11e9-a41e-02420a0001bc-1-5a81"
    }
   },
   "source": [
    "このNotebookを実行すると、ホームディレクトリ直下の下記のフォルダを、バックアップファイルの内容で上書きコピーします。\n",
    "\n",
    "**上書きしたくないファイル/フォルダは、下記のフォルダから退避しておいて下さい。**\n",
    "\n",
    "* `textbook/`\n",
    "  + 教材Notebookおよび教材Notebookから呼び出すスクリプトなど\n",
    "* `info/`\n",
    "  + 受講者が参照する参考資料など\n",
    "* `draft/`\n",
    "  + 教材以外で保存して置きたいNotebook、その他ファイル\n",
    "  \n",
    "バックアップを作成する際に、上記以外のファイル/フォルダを `INCLUDES` で追加した場合、それらのファイル/フォルダも上書きコピーされます。"
   ]
  },
  {
   "cell_type": "markdown",
   "metadata": {
    "lc_cell_meme": {
     "current": "92aa2172-4bfd-11e9-a41e-02420a0001bc-1-649d",
     "history": [
      {
       "current": "92aa2172-4bfd-11e9-a41e-02420a0001bc-1-649d",
       "next": "92aa21c2-4bfd-11e9-a41e-02420a0001bc",
       "previous": "92aa212c-4bfd-11e9-a41e-02420a0001bc"
      }
     ],
     "next": "92aa21c2-4bfd-11e9-a41e-02420a0001bc-1-37ad",
     "previous": "92aa212c-4bfd-11e9-a41e-02420a0001bc-1-2d40"
    }
   },
   "source": [
    "# バックアップファイルを転送します"
   ]
  },
  {
   "cell_type": "markdown",
   "metadata": {
    "lc_cell_meme": {
     "current": "92aa21c2-4bfd-11e9-a41e-02420a0001bc-1-37ad",
     "history": [
      {
       "current": "92aa21c2-4bfd-11e9-a41e-02420a0001bc-1-37ad",
       "next": "92aa2208-4bfd-11e9-a41e-02420a0001bc",
       "previous": "92aa2172-4bfd-11e9-a41e-02420a0001bc"
      }
     ],
     "next": "92aa2208-4bfd-11e9-a41e-02420a0001bc-1-ffef",
     "previous": "92aa2172-4bfd-11e9-a41e-02420a0001bc-1-649d"
    }
   },
   "source": [
    "リストアする バックアップファイル（`*.tgz` または `*.tar.gz` 形式）を、Jupyter に転送して下さい。\n",
    "\n",
    "バックアップファイルがローカルマシンにある場合は、下記の手順でアップロードできます。\n",
    "  1. ブラウザのHome画面で、フォルダを開きます。\n",
    "  2. 画面右上の［Upload］ボタンを押します。ファイル選択ダイアログが開きます。\n",
    "  3. ファイルを選択して［開く］ボタンを押します。ファイル一覧最上部にアップロードファイル名が表示されます。\n",
    "  4. ファイル名を変更する場合にはファイル名を選択して編集します。\n",
    "  5. バックアップファイル名の行の右端の［Upload］ボタンを押すとアップロードされます。"
   ]
  },
  {
   "cell_type": "markdown",
   "metadata": {
    "lc_cell_meme": {
     "current": "92aa2208-4bfd-11e9-a41e-02420a0001bc-1-ffef",
     "history": [
      {
       "current": "92aa2208-4bfd-11e9-a41e-02420a0001bc-1-ffef",
       "next": "92aa224e-4bfd-11e9-a41e-02420a0001bc",
       "previous": "92aa21c2-4bfd-11e9-a41e-02420a0001bc"
      }
     ],
     "next": "92aa224e-4bfd-11e9-a41e-02420a0001bc-1-2b05",
     "previous": "92aa21c2-4bfd-11e9-a41e-02420a0001bc-1-37ad"
    }
   },
   "source": [
    "# バックアップファイル名を指定します"
   ]
  },
  {
   "cell_type": "markdown",
   "metadata": {
    "lc_cell_meme": {
     "current": "92aa224e-4bfd-11e9-a41e-02420a0001bc-1-2b05",
     "history": [
      {
       "current": "92aa224e-4bfd-11e9-a41e-02420a0001bc-1-2b05",
       "next": "92aa229e-4bfd-11e9-a41e-02420a0001bc",
       "previous": "92aa2208-4bfd-11e9-a41e-02420a0001bc"
      }
     ],
     "next": "92aa229e-4bfd-11e9-a41e-02420a0001bc-1-a131",
     "previous": "92aa2208-4bfd-11e9-a41e-02420a0001bc-1-ffef"
    }
   },
   "source": [
    "* ARCHIVE_FILE_NAME にリストアするバックアップファイル名を指定して下さい。\n",
    "```\n",
    "%env ARCHIVE_FILE_NAME=backup-course-01.tgz\n",
    "```\n",
    "* バックアップファイルは、ホームディレクトリからの相対パスで指定します。\n",
    "\n",
    "**次のセルでバックアップファイル名を指定して、セルを実行して下さい。**"
   ]
  },
  {
   "cell_type": "code",
   "execution_count": null,
   "metadata": {
    "deletable": false,
    "editable": false,
    "lc_cell_meme": {
     "current": "92aa229e-4bfd-11e9-a41e-02420a0001bc-1-a131",
     "history": [
      {
       "current": "92aa229e-4bfd-11e9-a41e-02420a0001bc-1-a131",
       "next": "92aa22e4-4bfd-11e9-a41e-02420a0001bc",
       "previous": "92aa224e-4bfd-11e9-a41e-02420a0001bc"
      }
     ],
     "next": "a09cf1c8-fe54-11ef-96fa-02420a640255-6-c795-8dcc-a674-acfd-7211-a7dc",
     "previous": "92aa224e-4bfd-11e9-a41e-02420a0001bc-1-2b05"
    },
    "run_through_control": {
     "frozen": false
    }
   },
   "outputs": [],
   "source": [
    "%env ARCHIVE_FILE_NAME=backup-course-01.tgz"
   ]
  },
  {
   "cell_type": "markdown",
   "metadata": {
    "lc_cell_meme": {
     "current": "a09cf1c8-fe54-11ef-96fa-02420a640255-6-c795-8dcc-a674-acfd-7211-a7dc",
     "history": [
      {
       "current": "a09cf1c8-fe54-11ef-96fa-02420a640255-2-c795-8dcc",
       "next": "64cc969c-fd8e-11ef-ac33-02420a64024e-1-3a7b",
       "previous": "91ef93c0-4bfd-11e9-ad24-02420a0001bc-1-1627"
      },
      {
       "current": "a09cf1c8-fe54-11ef-96fa-02420a640255-4-c795-8dcc-a674-acfd",
       "next": "64cc969c-fd8e-11ef-ac33-02420a64024e-3-3a7b-e4d3-8e14",
       "previous": "947105ac-4bfd-11e9-8c4f-02420a0001bc-1-da56"
      },
      {
       "current": "a09cf1c8-fe54-11ef-96fa-02420a640255-6-c795-8dcc-a674-acfd-7211-a7dc",
       "next": "64cc969c-fd8e-11ef-ac33-02420a64024e-5-3a7b-e4d3-8e14-9084-80c1",
       "previous": "924bfdc2-4bfd-11e9-bee0-02420a0001bc-1-1b9b"
      }
     ],
     "next": "64cc969c-fd8e-11ef-ac33-02420a64024e-7-3a7b-e4d3-8e14-9084-80c1-c439-34df",
     "previous": "92aa229e-4bfd-11e9-a41e-02420a0001bc-1-a131"
    }
   },
   "source": [
    "# コースの指定"
   ]
  },
  {
   "cell_type": "code",
   "execution_count": null,
   "metadata": {
    "deletable": false,
    "editable": false,
    "lc_cell_meme": {
     "current": "64cc969c-fd8e-11ef-ac33-02420a64024e-7-3a7b-e4d3-8e14-9084-80c1-c439-34df",
     "history": [
      {
       "current": "64cc969c-fd8e-11ef-ac33-02420a64024e-1-3a7b",
       "next": "9193b88e-4bfd-11e9-80f2-02420a0001bc-1-3d06",
       "previous": "9193b848-4bfd-11e9-80f2-02420a0001bc-1-0ae7"
      },
      {
       "current": "64cc969c-fd8e-11ef-ac33-02420a64024e-3-3a7b-e4d3-8e14",
       "next": "91ef9410-4bfd-11e9-ad24-02420a0001bc-1-9cb9",
       "previous": "a09cf1c8-fe54-11ef-96fa-02420a640255"
      },
      {
       "current": "64cc969c-fd8e-11ef-ac33-02420a64024e-5-3a7b-e4d3-8e14-9084-80c1",
       "next": "94710606-4bfd-11e9-8c4f-02420a0001bc-1-9c59",
       "previous": "a09cf1c8-fe54-11ef-96fa-02420a640255-2-c795-8dcc"
      },
      {
       "current": "64cc969c-fd8e-11ef-ac33-02420a64024e-7-3a7b-e4d3-8e14-9084-80c1-c439-34df",
       "next": "924bfe08-4bfd-11e9-bee0-02420a0001bc-1-ccc6",
       "previous": "a09cf1c8-fe54-11ef-96fa-02420a640255-4-c795-8dcc-a674-acfd"
      }
     ],
     "next": "92aa22e4-4bfd-11e9-a41e-02420a0001bc-1-d4e5",
     "previous": "a09cf1c8-fe54-11ef-96fa-02420a640255-6-c795-8dcc-a674-acfd-7211-a7dc"
    },
    "run_through_control": {
     "frozen": false
    }
   },
   "outputs": [],
   "source": [
    "import os\n",
    "\n",
    "# コース名の指定\n",
    "course_name = os.environ['CWH_COURSE_NAME']\n",
    "course_name"
   ]
  },
  {
   "cell_type": "markdown",
   "metadata": {
    "lc_cell_meme": {
     "current": "92aa22e4-4bfd-11e9-a41e-02420a0001bc-1-d4e5",
     "history": [
      {
       "current": "92aa22e4-4bfd-11e9-a41e-02420a0001bc-1-d4e5",
       "next": "92aa232a-4bfd-11e9-a41e-02420a0001bc",
       "previous": "92aa229e-4bfd-11e9-a41e-02420a0001bc"
      }
     ],
     "next": "92aa232a-4bfd-11e9-a41e-02420a0001bc-1-94e7",
     "previous": "64cc969c-fd8e-11ef-ac33-02420a64024e-7-3a7b-e4d3-8e14-9084-80c1-c439-34df"
    }
   },
   "source": [
    "# 次のセルを実行して、バックアップファイルを展開して下さい\n"
   ]
  },
  {
   "cell_type": "markdown",
   "metadata": {
    "lc_cell_meme": {
     "current": "92aa232a-4bfd-11e9-a41e-02420a0001bc-1-94e7",
     "history": [
      {
       "current": "92aa232a-4bfd-11e9-a41e-02420a0001bc-1-94e7",
       "next": "92aa237a-4bfd-11e9-a41e-02420a0001bc",
       "previous": "92aa22e4-4bfd-11e9-a41e-02420a0001bc"
      }
     ],
     "next": "92aa237a-4bfd-11e9-a41e-02420a0001bc-1-a58f",
     "previous": "92aa22e4-4bfd-11e9-a41e-02420a0001bc-1-d4e5"
    }
   },
   "source": [
    "バックアップファイルを展開して、ホームディレクトリに配置します。"
   ]
  },
  {
   "cell_type": "code",
   "execution_count": null,
   "metadata": {
    "deletable": false,
    "editable": false,
    "lc_cell_meme": {
     "current": "92aa237a-4bfd-11e9-a41e-02420a0001bc-1-a58f",
     "history": [
      {
       "current": "92aa237a-4bfd-11e9-a41e-02420a0001bc-1-a58f",
       "next": null,
       "previous": "92aa232a-4bfd-11e9-a41e-02420a0001bc"
      }
     ],
     "next": null,
     "previous": "92aa232a-4bfd-11e9-a41e-02420a0001bc-1-94e7"
    },
    "run_through_control": {
     "frozen": false
    }
   },
   "outputs": [],
   "source": [
    "%%bash\n",
    "set -e\n",
    "\n",
    "umask 0022\n",
    "cd ~/${CWH_COURSE_NAME}\n",
    "\n",
    "if [ ! -e \"${ARCHIVE_FILE_NAME}\" ]; then\n",
    "  echo \"${ARCHIVE_FILE_NAME}: No such file or directory\" 1>&2\n",
    "  exit 1\n",
    "fi\n",
    "\n",
    "# Test Archive\n",
    "tar -tz -f \"${ARCHIVE_FILE_NAME}\" >/dev/null\n",
    "if [ $? -ne 0 ]; then\n",
    "  echo \"${ARCHIVE_FILE_NAME}: Unexpected backup file format\" 1>&2\n",
    "  exit 1\n",
    "fi \n",
    "\n",
    "# Extract files\n",
    "tar -xz --overwrite -f \"${ARCHIVE_FILE_NAME}\"\n",
    "if [ $? -ne 0 ]; then\n",
    "  echo \"Error while extracting backup file\"\n",
    "  exit 1\n",
    "fi\n",
    "\n",
    "# Trust notebooks\n",
    "tar -tz -f \"${ARCHIVE_FILE_NAME}\" | while read -r path; do\n",
    "  if [ -f \"${path}\" -a \"${path: -6}\" = \".ipynb\" ]; then\n",
    "    jupyter-trust \"${path}\"\n",
    "  fi\n",
    "done\n",
    "\n",
    "echo\n",
    "echo \"Successfully restored.\""
   ]
  }
 ],
 "metadata": {
  "kernelspec": {
   "display_name": "Python 3",
   "language": "python",
   "name": "python3"
  },
  "language_info": {
   "file_extension": ".py",
   "mimetype": "text/x-python",
   "name": "python",
   "nbconvert_exporter": "python",
   "pygments_lexer": "ipython3",
   "version": "3.10.11"
  },
  "lc_notebook_meme": {
   "current": "92aa1ec0-4bfd-11e9-a41e-02420a0001bc",
   "history": [],
   "root_cells": [
    "92aa200a-4bfd-11e9-a41e-02420a0001bc",
    "92aa2082-4bfd-11e9-a41e-02420a0001bc",
    "92aa20dc-4bfd-11e9-a41e-02420a0001bc",
    "92aa212c-4bfd-11e9-a41e-02420a0001bc",
    "92aa2172-4bfd-11e9-a41e-02420a0001bc",
    "92aa21c2-4bfd-11e9-a41e-02420a0001bc",
    "92aa2208-4bfd-11e9-a41e-02420a0001bc",
    "92aa224e-4bfd-11e9-a41e-02420a0001bc",
    "92aa229e-4bfd-11e9-a41e-02420a0001bc",
    "92aa22e4-4bfd-11e9-a41e-02420a0001bc",
    "92aa232a-4bfd-11e9-a41e-02420a0001bc",
    "92aa237a-4bfd-11e9-a41e-02420a0001bc"
   ]
  },
  "toc": {
   "base_numbering": 1,
   "nav_menu": {},
   "number_sections": true,
   "sideBar": true,
   "skip_h1_title": false,
   "title_cell": "Table of Contents",
   "title_sidebar": "Contents",
   "toc_cell": false,
   "toc_position": {},
   "toc_section_display": true,
   "toc_window_display": true
  }
 },
 "nbformat": 4,
 "nbformat_minor": 2
}
