{
 "cells": [
  {
   "cell_type": "markdown",
   "metadata": {
    "lc_cell_meme": {
     "current": "92aa200a-4bfd-11e9-a41e-02420a0001bc",
     "history": [],
     "next": "92aa2082-4bfd-11e9-a41e-02420a0001bc",
     "previous": null
    }
   },
   "source": [
    "# 保存した教材バックアップをリストアします\n",
    "<HR>"
   ]
  },
  {
   "cell_type": "markdown",
   "metadata": {
    "lc_cell_meme": {
     "current": "92aa2082-4bfd-11e9-a41e-02420a0001bc",
     "history": [],
     "next": "92aa20dc-4bfd-11e9-a41e-02420a0001bc",
     "previous": "92aa200a-4bfd-11e9-a41e-02420a0001bc"
    }
   },
   "source": [
    "保存してある教材のバックアップファイルを展開して、指定された位置に配置します。"
   ]
  },
  {
   "cell_type": "markdown",
   "metadata": {
    "lc_cell_meme": {
     "current": "92aa20dc-4bfd-11e9-a41e-02420a0001bc",
     "history": [],
     "next": "92aa212c-4bfd-11e9-a41e-02420a0001bc",
     "previous": "92aa2082-4bfd-11e9-a41e-02420a0001bc"
    }
   },
   "source": [
    "# リストアの準備"
   ]
  },
  {
   "cell_type": "markdown",
   "metadata": {
    "lc_cell_meme": {
     "current": "92aa212c-4bfd-11e9-a41e-02420a0001bc",
     "history": [],
     "next": "92aa2172-4bfd-11e9-a41e-02420a0001bc",
     "previous": "92aa20dc-4bfd-11e9-a41e-02420a0001bc"
    }
   },
   "source": [
    "このNotebookを実行すると、ホームディレクトリ直下の下記のフォルダを、バックアップファイルの内容で上書きコピーします。\n",
    "\n",
    "**上書きしたくないファイル/フォルダは、下記のフォルダから退避しておいて下さい。**\n",
    "\n",
    "* `textbook/`\n",
    "  + 教材Notebookおよび教材Notebookから呼び出すスクリプトなど\n",
    "* `info/`\n",
    "  + 受講者が参照する参考資料など\n",
    "* `draft/`\n",
    "  + 教材以外で保存して置きたいNotebook、その他ファイル\n",
    "  \n",
    "バックアップを作成する際に、上記以外のファイル/フォルダを `INCLUDES` で追加した場合、それらのファイル/フォルダも上書きコピーされます。"
   ]
  },
  {
   "cell_type": "markdown",
   "metadata": {
    "lc_cell_meme": {
     "current": "92aa2172-4bfd-11e9-a41e-02420a0001bc",
     "history": [],
     "next": "92aa21c2-4bfd-11e9-a41e-02420a0001bc",
     "previous": "92aa212c-4bfd-11e9-a41e-02420a0001bc"
    }
   },
   "source": [
    "# バックアップファイルを転送します"
   ]
  },
  {
   "cell_type": "markdown",
   "metadata": {
    "lc_cell_meme": {
     "current": "92aa21c2-4bfd-11e9-a41e-02420a0001bc",
     "history": [],
     "next": "92aa2208-4bfd-11e9-a41e-02420a0001bc",
     "previous": "92aa2172-4bfd-11e9-a41e-02420a0001bc"
    }
   },
   "source": [
    "リストアする バックアップファイル（`*.tgz` または `*.tar.gz` 形式）を、Jupyter に転送して下さい。\n",
    "\n",
    "バックアップファイルがローカルマシンにある場合は、下記の手順でアップロードできます。\n",
    "  1. ブラウザのHome画面で、フォルダを開きます。\n",
    "  2. 画面右上の［Upload］ボタンを押します。ファイル選択ダイアログが開きます。\n",
    "  3. ファイルを選択して［開く］ボタンを押します。ファイル一覧最上部にアップロードファイル名が表示されます。\n",
    "  4. ファイル名を変更する場合にはファイル名を選択して編集します。\n",
    "  5. バックアップファイル名の行の右端の［Upload］ボタンを押すとアップロードされます。"
   ]
  },
  {
   "cell_type": "markdown",
   "metadata": {
    "lc_cell_meme": {
     "current": "92aa2208-4bfd-11e9-a41e-02420a0001bc",
     "history": [],
     "next": "92aa224e-4bfd-11e9-a41e-02420a0001bc",
     "previous": "92aa21c2-4bfd-11e9-a41e-02420a0001bc"
    }
   },
   "source": [
    "# バックアップファイル名を指定します"
   ]
  },
  {
   "cell_type": "markdown",
   "metadata": {
    "lc_cell_meme": {
     "current": "92aa224e-4bfd-11e9-a41e-02420a0001bc",
     "history": [],
     "next": "92aa229e-4bfd-11e9-a41e-02420a0001bc",
     "previous": "92aa2208-4bfd-11e9-a41e-02420a0001bc"
    }
   },
   "source": [
    "* ARCHIVE_FILE_NAME にリストアするバックアップファイル名を指定して下さい。\n",
    "```\n",
    "%env ARCHIVE_FILE_NAME=backup-course-01.tgz\n",
    "```\n",
    "* バックアップファイルは、ホームディレクトリからの相対パスで指定します。\n",
    "\n",
    "**次のセルでバックアップファイル名を指定して、セルを実行して下さい。**"
   ]
  },
  {
   "cell_type": "code",
   "execution_count": null,
   "metadata": {
    "lc_cell_meme": {
     "current": "92aa229e-4bfd-11e9-a41e-02420a0001bc",
     "history": [],
     "next": "92aa22e4-4bfd-11e9-a41e-02420a0001bc",
     "previous": "92aa224e-4bfd-11e9-a41e-02420a0001bc"
    }
   },
   "outputs": [],
   "source": [
    "%env ARCHIVE_FILE_NAME=backup-course-01.tgz"
   ]
  },
  {
   "cell_type": "markdown",
   "metadata": {
    "lc_cell_meme": {
     "current": "92aa22e4-4bfd-11e9-a41e-02420a0001bc",
     "history": [],
     "next": "92aa232a-4bfd-11e9-a41e-02420a0001bc",
     "previous": "92aa229e-4bfd-11e9-a41e-02420a0001bc"
    }
   },
   "source": [
    "# 次のセルを実行して、バックアップファイルを展開して下さい\n"
   ]
  },
  {
   "cell_type": "markdown",
   "metadata": {
    "lc_cell_meme": {
     "current": "92aa232a-4bfd-11e9-a41e-02420a0001bc",
     "history": [],
     "next": "92aa237a-4bfd-11e9-a41e-02420a0001bc",
     "previous": "92aa22e4-4bfd-11e9-a41e-02420a0001bc"
    }
   },
   "source": [
    "バックアップファイルを展開して、ホームディレクトリに配置します。"
   ]
  },
  {
   "cell_type": "code",
   "execution_count": null,
   "metadata": {
    "lc_cell_meme": {
     "current": "92aa237a-4bfd-11e9-a41e-02420a0001bc",
     "history": [],
     "next": null,
     "previous": "92aa232a-4bfd-11e9-a41e-02420a0001bc"
    }
   },
   "outputs": [],
   "source": [
    "%%bash\n",
    "set -e\n",
    "\n",
    "umask 0022\n",
    "cd\n",
    "\n",
    "if [ ! -e \"${ARCHIVE_FILE_NAME}\" ]; then\n",
    "  echo \"${ARCHIVE_FILE_NAME}: No such file or directory\" 1>&2\n",
    "  exit 1\n",
    "fi\n",
    "\n",
    "# Test Archive\n",
    "tar -tz -f \"${ARCHIVE_FILE_NAME}\" >/dev/null\n",
    "if [ $? -ne 0 ]; then\n",
    "  echo \"${ARCHIVE_FILE_NAME}: Unexpected backup file format\" 1>&2\n",
    "  exit 1\n",
    "fi \n",
    "\n",
    "# Extract files\n",
    "tar -xz --overwrite -f \"${ARCHIVE_FILE_NAME}\"\n",
    "if [ $? -ne 0 ]; then\n",
    "  echo \"Error while extracting backup file\"\n",
    "  exit 1\n",
    "fi\n",
    "\n",
    "# Trust notebooks\n",
    "tar -tz -f \"${ARCHIVE_FILE_NAME}\" | while read -r path; do\n",
    "  if [ -f \"${path}\" -a \"${path: -6}\" = \".ipynb\" ]; then\n",
    "    jupyter-trust \"${path}\"\n",
    "  fi\n",
    "done\n",
    "\n",
    "echo\n",
    "echo \"Successfully restored.\""
   ]
  }
 ],
 "metadata": {
  "kernelspec": {
   "display_name": "Python 3",
   "language": "python",
   "name": "python3"
  },
  "language_info": {
   "codemirror_mode": {
    "name": "ipython",
    "version": 3
   },
   "file_extension": ".py",
   "mimetype": "text/x-python",
   "name": "python",
   "nbconvert_exporter": "python",
   "pygments_lexer": "ipython3",
   "version": "3.6.8"
  },
  "lc_notebook_meme": {
   "current": "92aa1ec0-4bfd-11e9-a41e-02420a0001bc",
   "history": [],
   "root_cells": [
    "92aa200a-4bfd-11e9-a41e-02420a0001bc",
    "92aa2082-4bfd-11e9-a41e-02420a0001bc",
    "92aa20dc-4bfd-11e9-a41e-02420a0001bc",
    "92aa212c-4bfd-11e9-a41e-02420a0001bc",
    "92aa2172-4bfd-11e9-a41e-02420a0001bc",
    "92aa21c2-4bfd-11e9-a41e-02420a0001bc",
    "92aa2208-4bfd-11e9-a41e-02420a0001bc",
    "92aa224e-4bfd-11e9-a41e-02420a0001bc",
    "92aa229e-4bfd-11e9-a41e-02420a0001bc",
    "92aa22e4-4bfd-11e9-a41e-02420a0001bc",
    "92aa232a-4bfd-11e9-a41e-02420a0001bc",
    "92aa237a-4bfd-11e9-a41e-02420a0001bc"
   ]
  },
  "toc": {
   "base_numbering": 1,
   "nav_menu": {},
   "number_sections": true,
   "sideBar": true,
   "skip_h1_title": false,
   "title_cell": "Table of Contents",
   "title_sidebar": "Contents",
   "toc_cell": false,
   "toc_position": {},
   "toc_section_display": true,
   "toc_window_display": true
  }
 },
 "nbformat": 4,
 "nbformat_minor": 2
}
