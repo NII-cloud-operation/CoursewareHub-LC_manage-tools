{
 "cells": [
  {
   "cell_type": "markdown",
   "metadata": {
    "lc_cell_meme": {
     "current": "93b98170-4bfd-11e9-b161-02420a0001bc",
     "history": [],
     "next": "93b981e8-4bfd-11e9-b161-02420a0001bc",
     "previous": null
    }
   },
   "source": [
    "# My Server の Container イメージをバックアップする\n",
    "<HR>"
   ]
  },
  {
   "cell_type": "markdown",
   "metadata": {
    "lc_cell_meme": {
     "current": "93b981e8-4bfd-11e9-b161-02420a0001bc",
     "history": [],
     "next": "93b98242-4bfd-11e9-b161-02420a0001bc",
     "previous": "93b98170-4bfd-11e9-b161-02420a0001bc"
    }
   },
   "source": [
    "現在実行中の「My Server」 の Container イメージを取得して、ファイルに保存します。"
   ]
  },
  {
   "cell_type": "markdown",
   "metadata": {
    "lc_cell_meme": {
     "current": "93b98242-4bfd-11e9-b161-02420a0001bc",
     "history": [],
     "next": "93b9829c-4bfd-11e9-b161-02420a0001bc",
     "previous": "93b981e8-4bfd-11e9-b161-02420a0001bc"
    }
   },
   "source": [
    "# Container イメージのバックアップ"
   ]
  },
  {
   "cell_type": "markdown",
   "metadata": {
    "lc_cell_meme": {
     "current": "93b9829c-4bfd-11e9-b161-02420a0001bc",
     "history": [],
     "next": "93b982e2-4bfd-11e9-b161-02420a0001bc",
     "previous": "93b98242-4bfd-11e9-b161-02420a0001bc"
    }
   },
   "source": [
    "* バックアップファイルは、ディレクトリ `$HOME/images` に保存されます。\n",
    "* バックアップファイル名は、`server-container-YYYYMMDD-HHMMSS.tar` 形式で生成されます。"
   ]
  },
  {
   "cell_type": "code",
   "execution_count": null,
   "metadata": {
    "lc_cell_meme": {
     "current": "93b982e2-4bfd-11e9-b161-02420a0001bc",
     "history": [],
     "next": "93b98332-4bfd-11e9-b161-02420a0001bc",
     "previous": "93b9829c-4bfd-11e9-b161-02420a0001bc"
    }
   },
   "outputs": [],
   "source": [
    "import os\n",
    "target_hub = ['-i', os.path.expanduser('~/ansible/inventory'), 'ch-master']\n",
    "\n",
    "!ansible -m ping {' '.join(target_hub)}"
   ]
  },
  {
   "cell_type": "markdown",
   "metadata": {
    "lc_cell_meme": {
     "current": "93b98332-4bfd-11e9-b161-02420a0001bc",
     "history": [],
     "next": "93b98382-4bfd-11e9-b161-02420a0001bc",
     "previous": "93b982e2-4bfd-11e9-b161-02420a0001bc"
    }
   },
   "source": [
    "**上記セルが動作しない場合**\n",
    "\n",
    "```\n",
    "The authenticity of host 'xxx.xxx.205.128 (xxx.xxx.205.128)' can't be established.\n",
    "ECDSA key fingerprint is SHA256:qjPDx7y/926gHJL9+SgMGKpicRORzffk1/xiUyIP00w.\n",
    "Are you sure you want to continue connecting (yes/no)?\n",
    "```\n",
    "（IPアドレスと、fingerprintは例です）\n",
    "\n",
    "となり実行中のまま状態変化しなくなる場合は、JupyterのTerminalから、\n",
    "\n",
    "```\n",
    "$ ssh xxx.xxx.205.128\n",
    "```\n",
    "\n",
    "を実行し、ECDSA key fingerprintが `SHA256:qjPDx7y/926gHJL9+SgMGKpicRORzffk1/xiUyIP00w` であることを確認してyesを実行し、上記のセルを停止の上再実行してください。"
   ]
  },
  {
   "cell_type": "markdown",
   "metadata": {
    "lc_cell_meme": {
     "current": "93b98382-4bfd-11e9-b161-02420a0001bc",
     "history": [],
     "next": "93b983c8-4bfd-11e9-b161-02420a0001bc",
     "previous": "93b98332-4bfd-11e9-b161-02420a0001bc"
    }
   },
   "source": [
    "# 初期ユーザー名の設定\n",
    "\n",
    "JupyterHubのユーザー用のイメージには、初期ユーザーが存在している必要があります。\n",
    "初期ユーザーのユーザー名やユーザーIDは、コンテナ起動後に、実際のユーザーのものに変更されるため、実行中のコンテナ上には存在しません。\n",
    "\n",
    "このnotebookでは、イメージ保存前に初期ユーザーを復元する処理を行います。\n",
    "\n",
    "https://github.com/jupyter/docker-stacks をベースとしたイメージの場合は`jovyan`ユーザーが、https://github.com/NII-cloud-operation/Jupyter-LC_docker をベースとしたイメージの場合は、`bit_kun`ユーザーを指定します。\n",
    "\n",
    "以下のセルでは、ホームディレクトリの存在から初期ユーザーを判別して設定します。"
   ]
  },
  {
   "cell_type": "code",
   "execution_count": null,
   "metadata": {
    "lc_cell_meme": {
     "current": "93b983c8-4bfd-11e9-b161-02420a0001bc",
     "history": [],
     "next": "93b98418-4bfd-11e9-b161-02420a0001bc",
     "previous": "93b98382-4bfd-11e9-b161-02420a0001bc"
    }
   },
   "outputs": [],
   "source": [
    "import os.path\n",
    "\n",
    "if os.path.exists('/home/jovyan'):\n",
    "    init_user='jovyan'\n",
    "elif os.path.exists('/home/bit_kun'):\n",
    "    init_user='bit_kun'\n",
    "init_user"
   ]
  },
  {
   "cell_type": "markdown",
   "metadata": {
    "lc_cell_meme": {
     "current": "93b98418-4bfd-11e9-b161-02420a0001bc",
     "history": [],
     "next": "93b9845e-4bfd-11e9-b161-02420a0001bc",
     "previous": "93b983c8-4bfd-11e9-b161-02420a0001bc"
    }
   },
   "source": [
    "# バックアップの実行"
   ]
  },
  {
   "cell_type": "markdown",
   "metadata": {
    "lc_cell_meme": {
     "current": "93b9845e-4bfd-11e9-b161-02420a0001bc",
     "history": [],
     "next": "93b984ae-4bfd-11e9-b161-02420a0001bc",
     "previous": "93b98418-4bfd-11e9-b161-02420a0001bc"
    }
   },
   "source": [
    "このMy Serverを実行中のコンテナを特定します。"
   ]
  },
  {
   "cell_type": "code",
   "execution_count": null,
   "metadata": {
    "lc_cell_meme": {
     "current": "93b984ae-4bfd-11e9-b161-02420a0001bc",
     "history": [],
     "next": "93b984fe-4bfd-11e9-b161-02420a0001bc",
     "previous": "93b9845e-4bfd-11e9-b161-02420a0001bc"
    }
   },
   "outputs": [],
   "source": [
    "def get_container(name):\n",
    "    import subprocess\n",
    "    try:\n",
    "        sid = subprocess.check_output(['ansible', '-b', '-a', 'docker service ps {} -q'.format(name)] + target_hub)\n",
    "        sid = sid.decode('utf-8').split('\\n')[1].strip()\n",
    "        cinfo = subprocess.check_output(\n",
    "            ['ansible', '-b', '-a', \n",
    "             'docker inspect --format \"{% raw %} {{.NodeID}} {{.Status.ContainerStatus.ContainerID}} {% endraw %}\" ' + sid\n",
    "            ] + target_hub)\n",
    "        nodeid, cid = cinfo.decode('utf-8').split('\\n')[1].strip().split()\n",
    "        nodeip = subprocess.check_output(\n",
    "            ['ansible', '-b', '-a', \n",
    "             'docker node inspect --format \"{% raw %} {{.Status.Addr}} {% endraw %}\" ' + nodeid\n",
    "            ] + target_hub)\n",
    "        nodeip = nodeip.decode('utf-8').split('\\n')[1].split()[0]\n",
    "        return (nodeip, cid)\n",
    "    except subprocess.CalledProcessError as e:\n",
    "        print(e.output.decode('utf-8'))\n",
    "        raise\n",
    "\n",
    "container = get_container('jupyter-' + os.environ['JUPYTERHUB_USER'])\n",
    "container"
   ]
  },
  {
   "cell_type": "code",
   "execution_count": null,
   "metadata": {
    "lc_cell_meme": {
     "current": "93b984fe-4bfd-11e9-b161-02420a0001bc",
     "history": [],
     "next": "93b98544-4bfd-11e9-b161-02420a0001bc",
     "previous": "93b984ae-4bfd-11e9-b161-02420a0001bc"
    }
   },
   "outputs": [],
   "source": [
    "target_container = ['-i', os.path.expanduser('~/ansible/inventory'), container[0]]\n",
    "target_container"
   ]
  },
  {
   "cell_type": "markdown",
   "metadata": {
    "lc_cell_meme": {
     "current": "93b98544-4bfd-11e9-b161-02420a0001bc",
     "history": [],
     "next": "93b98594-4bfd-11e9-b161-02420a0001bc",
     "previous": "93b984fe-4bfd-11e9-b161-02420a0001bc"
    }
   },
   "source": [
    "コンテナのイメージを保存します。"
   ]
  },
  {
   "cell_type": "code",
   "execution_count": null,
   "metadata": {
    "lc_cell_meme": {
     "current": "93b98594-4bfd-11e9-b161-02420a0001bc",
     "history": [],
     "next": null,
     "previous": "93b98544-4bfd-11e9-b161-02420a0001bc"
    },
    "scrolled": true
   },
   "outputs": [],
   "source": [
    "import subprocess\n",
    "from datetime import datetime\n",
    "import getpass\n",
    "import re\n",
    "\n",
    "now = datetime.now()\n",
    "image_name = now.strftime('server-container-%Y%m%d-%H%M%S')\n",
    "filename = image_name + '.tar'\n",
    "\n",
    "!mkdir -p ~/images\n",
    "\n",
    "print('Committing the container to image')\n",
    "image_id = subprocess.check_output(['ansible', '-b', '-a', \n",
    "                                    'docker commit {}'.format(container[1])]\n",
    "                                   + target_container)\n",
    "\n",
    "base_image_id = image_id.decode('utf-8').split('\\n')[1].strip()\n",
    "print('Committed Image: {}'.format(base_image_id))\n",
    "\n",
    "dockerfile = '''FROM {base}\n",
    "USER root\n",
    "WORKDIR /\n",
    "RUN useradd -N -s /bin/bash {init_user} && \\\n",
    "    userdel {current_user} && rm -rf /home/{current_user}\n",
    "USER {init_user}\n",
    "'''.format(base=base_image_id, init_user=init_user, current_user=getpass.getuser()).replace('\\n', '\\\\n')\n",
    "\n",
    "print('Building image: {}'.format(image_name))\n",
    "build_result = subprocess.check_output(['ansible', '-b', '-m', 'shell', '-a',\n",
    "                                        'echo -e \"{}\" | docker build -t {} -'.format(dockerfile, image_name)]\n",
    "                                       + target_container)\n",
    "print(build_result.decode('utf-8'))\n",
    "image_id = None\n",
    "for l in build_result.decode('utf-8').split('\\n'):\n",
    "    m = re.match(r'^Successfully built ([0-9a-f]+)$', l)\n",
    "    if m:\n",
    "        image_id = m.group(1)\n",
    "\n",
    "assert image_id is not None\n",
    "\n",
    "print('Built image: {} ({})'.format(image_name, image_id))\n",
    "\n",
    "print('Saving the image to the file: ~/images/{}'.format(filename))\n",
    "subprocess.check_output(['ansible', '-b', '-a', \n",
    "                         'docker save -o /jupyter/users/{}/images/{} {}'.format(\n",
    "                             os.environ['JUPYTERHUB_USER'], filename, image_name\n",
    "                         )] + target_container)\n",
    "print('Completed')"
   ]
  }
 ],
 "metadata": {
  "kernelspec": {
   "display_name": "Python 3",
   "language": "python",
   "name": "python3"
  },
  "language_info": {
   "codemirror_mode": {
    "name": "ipython",
    "version": 3
   },
   "file_extension": ".py",
   "mimetype": "text/x-python",
   "name": "python",
   "nbconvert_exporter": "python",
   "pygments_lexer": "ipython3",
   "version": "3.6.8"
  },
  "lc_notebook_meme": {
   "current": "93b9801c-4bfd-11e9-b161-02420a0001bc",
   "history": [],
   "root_cells": [
    "93b98170-4bfd-11e9-b161-02420a0001bc",
    "93b981e8-4bfd-11e9-b161-02420a0001bc",
    "93b98242-4bfd-11e9-b161-02420a0001bc",
    "93b9829c-4bfd-11e9-b161-02420a0001bc",
    "93b982e2-4bfd-11e9-b161-02420a0001bc",
    "93b98332-4bfd-11e9-b161-02420a0001bc",
    "93b98382-4bfd-11e9-b161-02420a0001bc",
    "93b983c8-4bfd-11e9-b161-02420a0001bc",
    "93b98418-4bfd-11e9-b161-02420a0001bc",
    "93b9845e-4bfd-11e9-b161-02420a0001bc",
    "93b984ae-4bfd-11e9-b161-02420a0001bc",
    "93b984fe-4bfd-11e9-b161-02420a0001bc",
    "93b98544-4bfd-11e9-b161-02420a0001bc",
    "93b98594-4bfd-11e9-b161-02420a0001bc"
   ]
  },
  "toc": {
   "base_numbering": 1,
   "nav_menu": {},
   "number_sections": true,
   "sideBar": true,
   "skip_h1_title": false,
   "title_cell": "Table of Contents",
   "title_sidebar": "Contents",
   "toc_cell": false,
   "toc_position": {},
   "toc_section_display": true,
   "toc_window_display": true
  }
 },
 "nbformat": 4,
 "nbformat_minor": 2
}
