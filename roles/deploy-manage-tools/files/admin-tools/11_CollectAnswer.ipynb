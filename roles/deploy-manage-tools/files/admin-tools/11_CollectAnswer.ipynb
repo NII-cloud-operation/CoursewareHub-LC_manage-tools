{
 "cells": [
  {
   "cell_type": "markdown",
   "metadata": {
    "lc_cell_meme": {
     "current": "91ef8f56-4bfd-11e9-ad24-02420a0001bc-2-3e27-76f0",
     "history": [
      {
       "current": "91ef8f56-4bfd-11e9-ad24-02420a0001bc-1-3e27",
       "next": "91ef8fd8-4bfd-11e9-ad24-02420a0001bc",
       "previous": null
      },
      {
       "current": "91ef8f56-4bfd-11e9-ad24-02420a0001bc-2-3e27-76f0",
       "next": "91ef8fd8-4bfd-11e9-ad24-02420a0001bc-1-d503",
       "previous": null
      }
     ],
     "next": "91ef8fd8-4bfd-11e9-ad24-02420a0001bc-2-d503-eaf4",
     "previous": null
    }
   },
   "source": [
    "# 課題の回答を回収します\n",
    "---"
   ]
  },
  {
   "cell_type": "markdown",
   "metadata": {
    "lc_cell_meme": {
     "current": "91ef8fd8-4bfd-11e9-ad24-02420a0001bc-2-d503-eaf4",
     "history": [
      {
       "current": "91ef8fd8-4bfd-11e9-ad24-02420a0001bc-1-d503",
       "next": "91ef903c-4bfd-11e9-ad24-02420a0001bc",
       "previous": "91ef8f56-4bfd-11e9-ad24-02420a0001bc"
      },
      {
       "current": "91ef8fd8-4bfd-11e9-ad24-02420a0001bc-2-d503-eaf4",
       "next": "91ef903c-4bfd-11e9-ad24-02420a0001bc-1-c9c9",
       "previous": "91ef8f56-4bfd-11e9-ad24-02420a0001bc-1-3e27"
      }
     ],
     "next": "91ef903c-4bfd-11e9-ad24-02420a0001bc-2-c9c9-dd37",
     "previous": "91ef8f56-4bfd-11e9-ad24-02420a0001bc-2-3e27-76f0"
    }
   },
   "source": [
    "課題の回答を記述したnotebookなどの回答ファイルを回収します。\n",
    "* 回収したファイルは、`.tgz` ファイルにアーカイブして、指定されたフォルダに格納します。\n",
    "* notebookファイルは、HTML ファイルに変換して同梱します。"
   ]
  },
  {
   "cell_type": "markdown",
   "metadata": {
    "lc_cell_meme": {
     "current": "91ef903c-4bfd-11e9-ad24-02420a0001bc-2-c9c9-dd37",
     "history": [
      {
       "current": "91ef903c-4bfd-11e9-ad24-02420a0001bc-1-c9c9",
       "next": "91ef9096-4bfd-11e9-ad24-02420a0001bc",
       "previous": "91ef8fd8-4bfd-11e9-ad24-02420a0001bc"
      },
      {
       "current": "91ef903c-4bfd-11e9-ad24-02420a0001bc-2-c9c9-dd37",
       "next": "91ef9096-4bfd-11e9-ad24-02420a0001bc-1-d606",
       "previous": "91ef8fd8-4bfd-11e9-ad24-02420a0001bc-1-d503"
      }
     ],
     "next": "91ef9096-4bfd-11e9-ad24-02420a0001bc-2-d606-57e2",
     "previous": "91ef8fd8-4bfd-11e9-ad24-02420a0001bc-2-d503-eaf4"
    }
   },
   "source": [
    "## 回収対象ユーザのメールアドレスを指定します"
   ]
  },
  {
   "cell_type": "markdown",
   "metadata": {
    "lc_cell_meme": {
     "current": "91ef9096-4bfd-11e9-ad24-02420a0001bc-2-d606-57e2",
     "history": [
      {
       "current": "91ef9096-4bfd-11e9-ad24-02420a0001bc-1-d606",
       "next": "91ef90e6-4bfd-11e9-ad24-02420a0001bc",
       "previous": "91ef903c-4bfd-11e9-ad24-02420a0001bc"
      },
      {
       "current": "91ef9096-4bfd-11e9-ad24-02420a0001bc-2-d606-57e2",
       "next": "91ef90e6-4bfd-11e9-ad24-02420a0001bc-1-8f41",
       "previous": "91ef903c-4bfd-11e9-ad24-02420a0001bc-1-c9c9"
      }
     ],
     "next": "91ef90e6-4bfd-11e9-ad24-02420a0001bc-2-8f41-5668",
     "previous": "91ef903c-4bfd-11e9-ad24-02420a0001bc-2-c9c9-dd37"
    }
   },
   "source": [
    "`STUDENT_LIST` に、回答を回収する対象ユーザのメールアドレスを列挙します。\n",
    "```\n",
    "STUDENT_LIST = '''\n",
    "student-a01@example.com\n",
    "student-a02@example.com\n",
    "'''\n",
    "```\n",
    "\n",
    "** 次のセルを実行して、回答を回収する対象ユーザのメールアドレスを設定してください。**"
   ]
  },
  {
   "cell_type": "code",
   "execution_count": null,
   "metadata": {
    "lc_cell_meme": {
     "current": "91ef90e6-4bfd-11e9-ad24-02420a0001bc-2-8f41-5668",
     "history": [
      {
       "current": "91ef90e6-4bfd-11e9-ad24-02420a0001bc-1-8f41",
       "next": "91ef9136-4bfd-11e9-ad24-02420a0001bc",
       "previous": "91ef9096-4bfd-11e9-ad24-02420a0001bc"
      },
      {
       "current": "91ef90e6-4bfd-11e9-ad24-02420a0001bc-2-8f41-5668",
       "next": "91ef9136-4bfd-11e9-ad24-02420a0001bc-1-32f3",
       "previous": "91ef9096-4bfd-11e9-ad24-02420a0001bc-1-d606"
      }
     ],
     "next": "91ef9136-4bfd-11e9-ad24-02420a0001bc-2-32f3-5914",
     "previous": "91ef9096-4bfd-11e9-ad24-02420a0001bc-2-d606-57e2"
    }
   },
   "outputs": [],
   "source": [
    "# 以下に、回答を回収する対象ユーザのメールアドレスを列挙してください。\n",
    "STUDENT_LIST = '''#ここから#\n",
    "# GROUP A\n",
    "student-a01@example.com\n",
    "student-a02@example.com\n",
    "student-a03@example.com\n",
    "'''#ここまで#"
   ]
  },
  {
   "cell_type": "markdown",
   "metadata": {
    "lc_cell_meme": {
     "current": "91ef9136-4bfd-11e9-ad24-02420a0001bc-2-32f3-5914",
     "history": [
      {
       "current": "91ef9136-4bfd-11e9-ad24-02420a0001bc-1-32f3",
       "next": "91ef9186-4bfd-11e9-ad24-02420a0001bc",
       "previous": "91ef90e6-4bfd-11e9-ad24-02420a0001bc"
      },
      {
       "current": "91ef9136-4bfd-11e9-ad24-02420a0001bc-2-32f3-5914",
       "next": "91ef9186-4bfd-11e9-ad24-02420a0001bc-1-c5ef",
       "previous": "91ef90e6-4bfd-11e9-ad24-02420a0001bc-1-8f41"
      }
     ],
     "next": "91ef9186-4bfd-11e9-ad24-02420a0001bc-2-c5ef-9fdc",
     "previous": "91ef90e6-4bfd-11e9-ad24-02420a0001bc-2-8f41-5668"
    }
   },
   "source": [
    " "
   ]
  },
  {
   "cell_type": "markdown",
   "metadata": {
    "lc_cell_meme": {
     "current": "91ef9186-4bfd-11e9-ad24-02420a0001bc-2-c5ef-9fdc",
     "history": [
      {
       "current": "91ef9186-4bfd-11e9-ad24-02420a0001bc-1-c5ef",
       "next": "91ef91d6-4bfd-11e9-ad24-02420a0001bc",
       "previous": "91ef9136-4bfd-11e9-ad24-02420a0001bc"
      },
      {
       "current": "91ef9186-4bfd-11e9-ad24-02420a0001bc-2-c5ef-9fdc",
       "next": "91ef91d6-4bfd-11e9-ad24-02420a0001bc-1-9bda",
       "previous": "91ef9136-4bfd-11e9-ad24-02420a0001bc-1-32f3"
      }
     ],
     "next": "91ef91d6-4bfd-11e9-ad24-02420a0001bc-2-9bda-0429",
     "previous": "91ef9136-4bfd-11e9-ad24-02420a0001bc-2-32f3-5914"
    }
   },
   "source": [
    "## 回収するファイルおよびフォルダを指定します"
   ]
  },
  {
   "cell_type": "markdown",
   "metadata": {
    "lc_cell_meme": {
     "current": "91ef91d6-4bfd-11e9-ad24-02420a0001bc-2-9bda-0429",
     "history": [
      {
       "current": "91ef91d6-4bfd-11e9-ad24-02420a0001bc-1-9bda",
       "next": "91ef9230-4bfd-11e9-ad24-02420a0001bc",
       "previous": "91ef9186-4bfd-11e9-ad24-02420a0001bc"
      },
      {
       "current": "91ef91d6-4bfd-11e9-ad24-02420a0001bc-2-9bda-0429",
       "next": "91ef9230-4bfd-11e9-ad24-02420a0001bc-1-00c5",
       "previous": "91ef9186-4bfd-11e9-ad24-02420a0001bc-1-c5ef"
      }
     ],
     "next": "91ef9230-4bfd-11e9-ad24-02420a0001bc-2-00c5-e6ad",
     "previous": "91ef9186-4bfd-11e9-ad24-02420a0001bc-2-c5ef-9fdc"
    }
   },
   "source": [
    "`ANSWER_LIST` に、回収するファイルおよびフォルダを、改行区切りで列挙して下さい。\n",
    "```\n",
    "ANSWER_LIST = '''\n",
    "answer1.ipynb\n",
    "answer2.ipynb\n",
    "answers-folder/\n",
    "user-folder/answer-data.txt\n",
    "'''\n",
    "```\n",
    "\n",
    "** 次のセルで回収対象のファイル/フォルダを設定して、セルを実行して下さい。**"
   ]
  },
  {
   "cell_type": "code",
   "execution_count": null,
   "metadata": {
    "lc_cell_meme": {
     "current": "91ef9230-4bfd-11e9-ad24-02420a0001bc-2-00c5-e6ad",
     "history": [
      {
       "current": "91ef9230-4bfd-11e9-ad24-02420a0001bc-1-00c5",
       "next": "91ef9280-4bfd-11e9-ad24-02420a0001bc",
       "previous": "91ef91d6-4bfd-11e9-ad24-02420a0001bc"
      },
      {
       "current": "91ef9230-4bfd-11e9-ad24-02420a0001bc-2-00c5-e6ad",
       "next": "91ef9280-4bfd-11e9-ad24-02420a0001bc-1-10cf",
       "previous": "91ef91d6-4bfd-11e9-ad24-02420a0001bc-1-9bda"
      }
     ],
     "next": "91ef9280-4bfd-11e9-ad24-02420a0001bc-2-10cf-7f90",
     "previous": "91ef91d6-4bfd-11e9-ad24-02420a0001bc-2-9bda-0429"
    }
   },
   "outputs": [],
   "source": [
    "ANSWER_LIST = '''\n",
    "./StudentCreated01.ipynb\n",
    "StudentCreatedFolder//StudentCreated02.ipynb\n",
    "StudentCreatedFolder/\n",
    "./././TestTextbook-0625.ipynb\n",
    "NotFound.ipynb\n",
    "NotFound/NotFound/not-found/notexist.ipynb\n",
    "'''"
   ]
  },
  {
   "cell_type": "markdown",
   "metadata": {
    "lc_cell_meme": {
     "current": "91ef9280-4bfd-11e9-ad24-02420a0001bc-2-10cf-7f90",
     "history": [
      {
       "current": "91ef9280-4bfd-11e9-ad24-02420a0001bc-1-10cf",
       "next": "91ef92d0-4bfd-11e9-ad24-02420a0001bc",
       "previous": "91ef9230-4bfd-11e9-ad24-02420a0001bc"
      },
      {
       "current": "91ef9280-4bfd-11e9-ad24-02420a0001bc-2-10cf-7f90",
       "next": "91ef92d0-4bfd-11e9-ad24-02420a0001bc-1-3d06",
       "previous": "91ef9230-4bfd-11e9-ad24-02420a0001bc-1-00c5"
      }
     ],
     "next": "91ef92d0-4bfd-11e9-ad24-02420a0001bc-2-3d06-b50a",
     "previous": "91ef9230-4bfd-11e9-ad24-02420a0001bc-2-00c5-e6ad"
    }
   },
   "source": [
    " "
   ]
  },
  {
   "cell_type": "markdown",
   "metadata": {
    "lc_cell_meme": {
     "current": "91ef92d0-4bfd-11e9-ad24-02420a0001bc-2-3d06-b50a",
     "history": [
      {
       "current": "91ef92d0-4bfd-11e9-ad24-02420a0001bc-1-3d06",
       "next": "91ef9320-4bfd-11e9-ad24-02420a0001bc",
       "previous": "91ef9280-4bfd-11e9-ad24-02420a0001bc"
      },
      {
       "current": "91ef92d0-4bfd-11e9-ad24-02420a0001bc-2-3d06-b50a",
       "next": "91ef9320-4bfd-11e9-ad24-02420a0001bc-1-3332",
       "previous": "91ef9280-4bfd-11e9-ad24-02420a0001bc-1-10cf"
      }
     ],
     "next": "91ef9320-4bfd-11e9-ad24-02420a0001bc-2-3332-0423",
     "previous": "91ef9280-4bfd-11e9-ad24-02420a0001bc-2-10cf-7f90"
    }
   },
   "source": [
    "## 回収したファイルのアーカイブ先を指定します"
   ]
  },
  {
   "cell_type": "markdown",
   "metadata": {
    "lc_cell_meme": {
     "current": "91ef9320-4bfd-11e9-ad24-02420a0001bc-2-3332-0423",
     "history": [
      {
       "current": "91ef9320-4bfd-11e9-ad24-02420a0001bc-1-3332",
       "next": "91ef9370-4bfd-11e9-ad24-02420a0001bc",
       "previous": "91ef92d0-4bfd-11e9-ad24-02420a0001bc"
      },
      {
       "current": "91ef9320-4bfd-11e9-ad24-02420a0001bc-2-3332-0423",
       "next": "91ef9370-4bfd-11e9-ad24-02420a0001bc-1-d2c5",
       "previous": "91ef92d0-4bfd-11e9-ad24-02420a0001bc-1-3d06"
      }
     ],
     "next": "91ef9370-4bfd-11e9-ad24-02420a0001bc-2-d2c5-f1f8",
     "previous": "91ef92d0-4bfd-11e9-ad24-02420a0001bc-2-3d06-b50a"
    }
   },
   "source": [
    "回収したファイルをアーカイブする先のフォルダ名/ファイル名を `ARCHIVE_FILE` に設定して下さい。\n",
    "```\n",
    "ARCHIVE_FILE='student-answers/0123/answers.tgz'\n",
    "```\n",
    "- ホームディレクトリ直下からの相対パスで指定します。\n",
    "- フォルダを指定した場合には、フォルダ以下に格納されます。\n",
    "- フォルダが存在しない場合には、自動的に作成されます。\n",
    "\n",
    "** 次のセルでアーカイブファイル名を指定して、セルを実行して下さい。**"
   ]
  },
  {
   "cell_type": "code",
   "execution_count": null,
   "metadata": {
    "lc_cell_meme": {
     "current": "91ef9370-4bfd-11e9-ad24-02420a0001bc-2-d2c5-f1f8",
     "history": [
      {
       "current": "91ef9370-4bfd-11e9-ad24-02420a0001bc-1-d2c5",
       "next": "91ef93c0-4bfd-11e9-ad24-02420a0001bc",
       "previous": "91ef9320-4bfd-11e9-ad24-02420a0001bc"
      },
      {
       "current": "91ef9370-4bfd-11e9-ad24-02420a0001bc-2-d2c5-f1f8",
       "next": "91ef93c0-4bfd-11e9-ad24-02420a0001bc-1-1627",
       "previous": "91ef9320-4bfd-11e9-ad24-02420a0001bc-1-3332"
      }
     ],
     "next": "91ef93c0-4bfd-11e9-ad24-02420a0001bc-2-1627-1930",
     "previous": "91ef9320-4bfd-11e9-ad24-02420a0001bc-2-3332-0423"
    }
   },
   "outputs": [],
   "source": [
    "ARCHIVE_FILE='student-answers/0123/answers.tgz'"
   ]
  },
  {
   "cell_type": "markdown",
   "metadata": {
    "lc_cell_meme": {
     "current": "91ef93c0-4bfd-11e9-ad24-02420a0001bc-2-1627-1930",
     "history": [
      {
       "current": "91ef93c0-4bfd-11e9-ad24-02420a0001bc-1-1627",
       "next": "91ef9410-4bfd-11e9-ad24-02420a0001bc",
       "previous": "91ef9370-4bfd-11e9-ad24-02420a0001bc"
      },
      {
       "current": "91ef93c0-4bfd-11e9-ad24-02420a0001bc-1-1627",
       "next": "91ef9410-4bfd-11e9-ad24-02420a0001bc-1-9cb9",
       "previous": "91ef9370-4bfd-11e9-ad24-02420a0001bc-1-d2c5"
      },
      {
       "current": "91ef93c0-4bfd-11e9-ad24-02420a0001bc-2-1627-1930",
       "next": "a09cf1c8-fe54-11ef-96fa-02420a640255",
       "previous": "91ef9370-4bfd-11e9-ad24-02420a0001bc-1-d2c5"
      }
     ],
     "next": "a09cf1c8-fe54-11ef-96fa-02420a640255-1-0da6",
     "previous": "91ef9370-4bfd-11e9-ad24-02420a0001bc-2-d2c5-f1f8"
    }
   },
   "source": [
    " "
   ]
  },
  {
   "cell_type": "markdown",
   "metadata": {
    "lc_cell_meme": {
     "current": "a09cf1c8-fe54-11ef-96fa-02420a640255-1-0da6",
     "history": [
      {
       "current": "a09cf1c8-fe54-11ef-96fa-02420a640255-1-0da6",
       "next": "64cc969c-fd8e-11ef-ac33-02420a64024e-1-3a7b",
       "previous": "91ef93c0-4bfd-11e9-ad24-02420a0001bc-1-1627"
      }
     ],
     "next": "64cc969c-fd8e-11ef-ac33-02420a64024e-2-3a7b-b112",
     "previous": "91ef93c0-4bfd-11e9-ad24-02420a0001bc-2-1627-1930"
    }
   },
   "source": [
    "## コースの指定"
   ]
  },
  {
   "cell_type": "code",
   "execution_count": null,
   "metadata": {
    "lc_cell_meme": {
     "current": "64cc969c-fd8e-11ef-ac33-02420a64024e-2-3a7b-b112",
     "history": [
      {
       "current": "64cc969c-fd8e-11ef-ac33-02420a64024e-1-3a7b",
       "next": "9193b88e-4bfd-11e9-80f2-02420a0001bc-1-3d06",
       "previous": "9193b848-4bfd-11e9-80f2-02420a0001bc-1-0ae7"
      },
      {
       "current": "64cc969c-fd8e-11ef-ac33-02420a64024e-2-3a7b-b112",
       "next": "91ef9410-4bfd-11e9-ad24-02420a0001bc-1-9cb9",
       "previous": "a09cf1c8-fe54-11ef-96fa-02420a640255"
      }
     ],
     "next": "91ef9410-4bfd-11e9-ad24-02420a0001bc-2-9cb9-c3e7",
     "previous": "a09cf1c8-fe54-11ef-96fa-02420a640255-1-0da6"
    }
   },
   "outputs": [],
   "source": [
    "import os\n",
    "\n",
    "# コース名の指定\n",
    "course_name = os.environ['CWH_COURSE_NAME']\n",
    "course_name"
   ]
  },
  {
   "cell_type": "markdown",
   "metadata": {
    "lc_cell_meme": {
     "current": "91ef9410-4bfd-11e9-ad24-02420a0001bc-2-9cb9-c3e7",
     "history": [
      {
       "current": "91ef9410-4bfd-11e9-ad24-02420a0001bc-1-9cb9",
       "next": "91ef9460-4bfd-11e9-ad24-02420a0001bc",
       "previous": "91ef93c0-4bfd-11e9-ad24-02420a0001bc"
      },
      {
       "current": "91ef9410-4bfd-11e9-ad24-02420a0001bc-1-9cb9",
       "next": "91ef9460-4bfd-11e9-ad24-02420a0001bc-1-1874",
       "previous": "91ef93c0-4bfd-11e9-ad24-02420a0001bc-1-1627"
      },
      {
       "current": "91ef9410-4bfd-11e9-ad24-02420a0001bc-2-9cb9-c3e7",
       "next": "91ef9460-4bfd-11e9-ad24-02420a0001bc-1-1874",
       "previous": "64cc969c-fd8e-11ef-ac33-02420a64024e-1-3a7b"
      }
     ],
     "next": "91ef9460-4bfd-11e9-ad24-02420a0001bc-2-1874-f830",
     "previous": "64cc969c-fd8e-11ef-ac33-02420a64024e-2-3a7b-b112"
    }
   },
   "source": [
    "## 次のセルを実行して、回答を回収して下さい"
   ]
  },
  {
   "cell_type": "markdown",
   "metadata": {
    "lc_cell_meme": {
     "current": "91ef9460-4bfd-11e9-ad24-02420a0001bc-2-1874-f830",
     "history": [
      {
       "current": "91ef9460-4bfd-11e9-ad24-02420a0001bc-1-1874",
       "next": "91ef94b0-4bfd-11e9-ad24-02420a0001bc",
       "previous": "91ef9410-4bfd-11e9-ad24-02420a0001bc"
      },
      {
       "current": "91ef9460-4bfd-11e9-ad24-02420a0001bc-2-1874-f830",
       "next": "91ef94b0-4bfd-11e9-ad24-02420a0001bc-1-0c8f",
       "previous": "91ef9410-4bfd-11e9-ad24-02420a0001bc-1-9cb9"
      }
     ],
     "next": "91ef94b0-4bfd-11e9-ad24-02420a0001bc-2-0c8f-5e63",
     "previous": "91ef9410-4bfd-11e9-ad24-02420a0001bc-2-9cb9-c3e7"
    }
   },
   "source": [
    "* 回答アーカイブファイルは、上記で指定したファイルとして格納されます。"
   ]
  },
  {
   "cell_type": "code",
   "execution_count": null,
   "metadata": {
    "lc_cell_meme": {
     "current": "91ef94b0-4bfd-11e9-ad24-02420a0001bc-2-0c8f-5e63",
     "history": [
      {
       "current": "91ef94b0-4bfd-11e9-ad24-02420a0001bc-1-0c8f",
       "next": "91ef9500-4bfd-11e9-ad24-02420a0001bc",
       "previous": "91ef9460-4bfd-11e9-ad24-02420a0001bc"
      },
      {
       "current": "91ef94b0-4bfd-11e9-ad24-02420a0001bc-2-0c8f-5e63",
       "next": "91ef9500-4bfd-11e9-ad24-02420a0001bc-1-41da",
       "previous": "91ef9460-4bfd-11e9-ad24-02420a0001bc-1-1874"
      }
     ],
     "next": "91ef9500-4bfd-11e9-ad24-02420a0001bc-2-41da-2fa2",
     "previous": "91ef9460-4bfd-11e9-ad24-02420a0001bc-2-1874-f830"
    }
   },
   "outputs": [],
   "source": [
    "import os, sys, re, hashlib, string, tempfile, shutil, subprocess\n",
    "\n",
    "assert course_name != '', \"コース用のサーバー上で実行するか、コース名を指定してください\"\n",
    "\n",
    "def get_username_from_mail_address(mail_address):\n",
    "    # Convert to lower and remove characters except for alphabets and digits\n",
    "    wk = mail_address.split('@')\n",
    "    local_part = wk[0].lower()\n",
    "    result = re.sub(r'[^a-zA-Z0-9]', '', local_part)\n",
    "    # Add top 6bytes of hash string\n",
    "    md5 = hashlib.md5()\n",
    "    md5.update(mail_address.encode('us-ascii'))\n",
    "    h = md5.hexdigest()[0:6]\n",
    "    result += 'x'\n",
    "    result += h;\n",
    "    return result;\n",
    "\n",
    "def ignore_files(path, names):\n",
    "    ignore_set=set()\n",
    "    for name in names:\n",
    "        if name.startswith('.'):\n",
    "            ignore_set.add(name)\n",
    "    return ignore_set\n",
    "        \n",
    "\n",
    "#\n",
    "target_students=set()\n",
    "for line in STUDENT_LIST.splitlines():\n",
    "    s = re.sub(r'#.*$', '', line).strip()\n",
    "    if(0 < len(s)):\n",
    "        target_students.add(s)\n",
    "\n",
    "#\n",
    "target_files=set()\n",
    "for line in ANSWER_LIST.splitlines():\n",
    "    s = re.sub(r'#.*$', '', line).strip()\n",
    "    if(0 < len(s)):\n",
    "        target_files.add(os.path.normpath(s))\n",
    "\n",
    "#\n",
    "archive_file_path = os.path.expanduser(\n",
    "    os.path.join('~/', course_name, os.path.normpath(ARCHIVE_FILE)))\n",
    "archive_file_dir = os.path.dirname(archive_file_path)\n",
    "if not os.path.exists(archive_file_dir):\n",
    "    os.makedirs(archive_file_dir)\n",
    "\n",
    "#\n",
    "with tempfile.TemporaryDirectory() as tmp_dir:\n",
    "    for student in target_students:\n",
    "        print('STUDENT[{}]の回答を回収します'.format(student))\n",
    "        user_name = get_username_from_mail_address(student)\n",
    "        user_dir = os.path.join('/home/jupyter/workspace', user_name, course_name)\n",
    "        print(user_dir)\n",
    "        if not os.path.isdir(user_dir):\n",
    "            print('WARNING: {}: 生徒フォルダが見つかりません'.format(student), file=sys.stderr)\n",
    "            print('-> 失敗')\n",
    "            continue\n",
    "        for file in sorted(target_files, key=len):\n",
    "            basename = os.path.basename(file)\n",
    "            dirname = os.path.dirname(file)\n",
    "            srcdir = user_dir\n",
    "            dstdir = '{}/{}'.format(tmp_dir, user_name)\n",
    "            if dirname: # with directory name(s)\n",
    "                srcdir = '{}/{}'.format(srcdir, dirname)\n",
    "                dstdir = '{}/{}'.format(dstdir, dirname)\n",
    "            srcfile = '{}/{}'.format(srcdir, basename)\n",
    "            dstfile = '{}/{}'.format(dstdir, basename)\n",
    "            if not os.path.exists(srcfile):\n",
    "                print('WARNING: {}: {}: 回答が見つかりません'.format(student, file), file=sys.stderr)\n",
    "                continue\n",
    "            if os.path.isdir(srcfile):\n",
    "                shutil.copytree(srcfile, dstfile, ignore=ignore_files)\n",
    "            else:\n",
    "                os.makedirs(dstdir, exist_ok=True)\n",
    "                shutil.copy2(srcfile, dstfile)\n",
    "        print('-> 完了')\n",
    "    try:\n",
    "        tarcmd = 'tar -cz -C \"{}\" -f \"{}\" ./*'.format(tmp_dir, archive_file_path)\n",
    "        cp = subprocess.run(tarcmd, shell=True, cwd=tmp_dir )\n",
    "        if cp.returncode == 0:\n",
    "            print('')\n",
    "            print('回答アーカイブファイルの作成に成功しました：{}'.format(archive_file_path))\n",
    "        else:\n",
    "            print('ERROR: tar コマンドが失敗しました', file=sys.stderr)\n",
    "    except OSError as e:\n",
    "        print('ERROR: tar コマンドが実行できません：{}'.format(e), file=sys.stderr)"
   ]
  },
  {
   "cell_type": "code",
   "execution_count": null,
   "metadata": {
    "lc_cell_meme": {
     "current": "91ef9500-4bfd-11e9-ad24-02420a0001bc-2-41da-2fa2",
     "history": [
      {
       "current": "91ef9500-4bfd-11e9-ad24-02420a0001bc-1-41da",
       "next": null,
       "previous": "91ef94b0-4bfd-11e9-ad24-02420a0001bc"
      },
      {
       "current": "91ef9500-4bfd-11e9-ad24-02420a0001bc-2-41da-2fa2",
       "next": null,
       "previous": "91ef94b0-4bfd-11e9-ad24-02420a0001bc-1-0c8f"
      }
     ],
     "next": null,
     "previous": "91ef94b0-4bfd-11e9-ad24-02420a0001bc-2-0c8f-5e63"
    }
   },
   "outputs": [],
   "source": []
  }
 ],
 "metadata": {
  "kernelspec": {
   "display_name": "Python 3",
   "language": "python",
   "name": "python3"
  },
  "language_info": {
   "file_extension": ".py",
   "mimetype": "text/x-python",
   "name": "python",
   "nbconvert_exporter": "python",
   "pygments_lexer": "ipython3",
   "version": "3.10.11"
  },
  "lc_notebook_meme": {
   "current": "91ef8e0c-4bfd-11e9-ad24-02420a0001bc",
   "history": [],
   "root_cells": [
    "91ef8f56-4bfd-11e9-ad24-02420a0001bc",
    "91ef8fd8-4bfd-11e9-ad24-02420a0001bc",
    "91ef903c-4bfd-11e9-ad24-02420a0001bc",
    "91ef9096-4bfd-11e9-ad24-02420a0001bc",
    "91ef90e6-4bfd-11e9-ad24-02420a0001bc",
    "91ef9136-4bfd-11e9-ad24-02420a0001bc",
    "91ef9186-4bfd-11e9-ad24-02420a0001bc",
    "91ef91d6-4bfd-11e9-ad24-02420a0001bc",
    "91ef9230-4bfd-11e9-ad24-02420a0001bc",
    "91ef9280-4bfd-11e9-ad24-02420a0001bc",
    "91ef92d0-4bfd-11e9-ad24-02420a0001bc",
    "91ef9320-4bfd-11e9-ad24-02420a0001bc",
    "91ef9370-4bfd-11e9-ad24-02420a0001bc",
    "91ef93c0-4bfd-11e9-ad24-02420a0001bc",
    "91ef9410-4bfd-11e9-ad24-02420a0001bc",
    "91ef9460-4bfd-11e9-ad24-02420a0001bc",
    "91ef94b0-4bfd-11e9-ad24-02420a0001bc",
    "91ef9500-4bfd-11e9-ad24-02420a0001bc"
   ]
  },
  "toc": {
   "base_numbering": 1,
   "nav_menu": {},
   "number_sections": true,
   "sideBar": true,
   "skip_h1_title": false,
   "title_cell": "Table of Contents",
   "title_sidebar": "Contents",
   "toc_cell": false,
   "toc_position": {},
   "toc_section_display": true,
   "toc_window_display": true
  }
 },
 "nbformat": 4,
 "nbformat_minor": 2
}
