{
 "cells": [
  {
   "cell_type": "markdown",
   "metadata": {
    "lc_cell_meme": {
     "current": "f67f71fa-7d8a-11eb-b28e-02420a01004f",
     "history": [],
     "next": "f67f73d0-7d8a-11eb-b28e-02420a01004f",
     "previous": null
    }
   },
   "source": [
    "# ユーザーの属するグループの確認\n",
    "\n",
    "ユーザーが属するグループを確認します。JupyterHub上にユーザーが作成済みである必要があります。\n",
    "\n",
    "グループは、所属グループに応じたリソース制限設定に使用します。"
   ]
  },
  {
   "cell_type": "markdown",
   "metadata": {
    "lc_cell_meme": {
     "current": "f67f73d0-7d8a-11eb-b28e-02420a01004f",
     "history": [],
     "next": "f67f7538-7d8a-11eb-b28e-02420a01004f",
     "previous": "f67f71fa-7d8a-11eb-b28e-02420a01004f"
    }
   },
   "source": [
    "# グループの定義"
   ]
  },
  {
   "cell_type": "markdown",
   "metadata": {
    "lc_cell_meme": {
     "current": "f67f7538-7d8a-11eb-b28e-02420a01004f",
     "history": [],
     "next": "f67f77b8-7d8a-11eb-b28e-02420a01004f",
     "previous": "f67f73d0-7d8a-11eb-b28e-02420a01004f"
    }
   },
   "source": [
    "グループを調べるユーザーのメールアドレス"
   ]
  },
  {
   "cell_type": "code",
   "execution_count": null,
   "metadata": {
    "lc_cell_meme": {
     "current": "f67f77b8-7d8a-11eb-b28e-02420a01004f",
     "history": [],
     "next": "f67f7934-7d8a-11eb-b28e-02420a01004f",
     "previous": "f67f7538-7d8a-11eb-b28e-02420a01004f"
    }
   },
   "outputs": [],
   "source": [
    "import re\n",
    "user_emails = user_email_list.splitlines()\n",
    "user_emails = [x.strip() for x in user_emails \n",
    "               if re.sub(r'#.*$', '', x).strip()]\n",
    "user_emails"
   ]
  },
  {
   "cell_type": "code",
   "execution_count": null,
   "metadata": {
    "lc_cell_meme": {
     "current": "f67f7a74-7d8a-11eb-b28e-02420a01004f",
     "history": [],
     "next": "f67f7bb4-7d8a-11eb-b28e-02420a01004f",
     "previous": "f67f7934-7d8a-11eb-b28e-02420a01004f"
    }
   },
   "outputs": [],
   "source": [
    "import hashlib\n",
    "\n",
    "def get_username_from_mail_address(mail_address):\n",
    "    # Convert to lower and remove characters except for alphabets and digits\n",
    "    wk = mail_address.split('@')\n",
    "    local_part = wk[0].lower()\n",
    "    result = re.sub(r'[^a-zA-Z0-9]', '', local_part)\n",
    "    # Add top 6bytes of hash string\n",
    "    md5 = hashlib.md5()\n",
    "    md5.update(mail_address.encode('us-ascii'))\n",
    "    h = md5.hexdigest()[0:6]\n",
    "    result += 'x'\n",
    "    result += h;\n",
    "    return result;\n",
    "\n",
    "user_names = [get_username_from_mail_address(x) for x in user_emails]\n",
    "user_names"
   ]
  },
  {
   "cell_type": "markdown",
   "metadata": {
    "lc_cell_meme": {
     "current": "f67f7bb4-7d8a-11eb-b28e-02420a01004f",
     "history": [],
     "next": "f67f7cf4-7d8a-11eb-b28e-02420a01004f",
     "previous": "f67f7a74-7d8a-11eb-b28e-02420a01004f"
    }
   },
   "source": [
    "# グループの確認"
   ]
  },
  {
   "cell_type": "code",
   "execution_count": null,
   "metadata": {
    "lc_cell_meme": {
     "current": "f67f7cf4-7d8a-11eb-b28e-02420a01004f",
     "history": [],
     "next": "f67f7e2a-7d8a-11eb-b28e-02420a01004f",
     "previous": "f67f7bb4-7d8a-11eb-b28e-02420a01004f"
    }
   },
   "outputs": [],
   "source": [
    "import os\n",
    "apitoken = os.environ['JUPYTERHUB_API_TOKEN']\n",
    "api_url = os.environ['JUPYTERHUB_API_URL']"
   ]
  },
  {
   "cell_type": "markdown",
   "metadata": {
    "lc_cell_meme": {
     "current": "f67f7e2a-7d8a-11eb-b28e-02420a01004f",
     "history": [],
     "next": "f67f7f6a-7d8a-11eb-b28e-02420a01004f",
     "previous": "f67f7cf4-7d8a-11eb-b28e-02420a01004f"
    }
   },
   "source": [
    "グループの作成（必要な場合）"
   ]
  },
  {
   "cell_type": "code",
   "execution_count": null,
   "metadata": {
    "lc_cell_meme": {
     "current": "f67f7f6a-7d8a-11eb-b28e-02420a01004f",
     "history": [],
     "next": "f67f80a0-7d8a-11eb-b28e-02420a01004f",
     "previous": "f67f7e2a-7d8a-11eb-b28e-02420a01004f"
    }
   },
   "outputs": [],
   "source": [
    "headers = {\n",
    "    'Authorization': 'token %s' % apitoken,\n",
    "}"
   ]
  },
  {
   "cell_type": "code",
   "execution_count": null,
   "metadata": {
    "lc_cell_meme": {
     "current": "f67f80a0-7d8a-11eb-b28e-02420a01004f",
     "history": [],
     "next": null,
     "previous": "f67f7f6a-7d8a-11eb-b28e-02420a01004f"
    }
   },
   "outputs": [],
   "source": [
    "import requests\n",
    "import json\n",
    "\n",
    "user2mail = dict(zip(user_names, user_emails))\n",
    "\n",
    "for username in user_names:\n",
    "    r = requests.get(api_url + '/users/{}'.format(username),\n",
    "                 headers=headers)\n",
    "    assert r.status_code == 200\n",
    "    user = r.json()\n",
    "    print('{}({}){}: {}'.format(user2mail[username], username, \n",
    "                                ' [admin]' if user['admin'] else '',\n",
    "                                ', '.join(user['groups'])))"
   ]
  }
 ],
 "metadata": {
  "kernelspec": {
   "display_name": "Python 3",
   "language": "python",
   "name": "python3"
  },
  "language_info": {
   "file_extension": ".py",
   "mimetype": "text/x-python",
   "name": "python",
   "nbconvert_exporter": "python",
   "pygments_lexer": "ipython3",
   "version": "3.8.6"
  },
  "lc_notebook_meme": {
   "current": "f67f6db8-7d8a-11eb-b28e-02420a01004f",
   "history": [],
   "root_cells": [
    "f67f71fa-7d8a-11eb-b28e-02420a01004f",
    "f67f73d0-7d8a-11eb-b28e-02420a01004f",
    "f67f7538-7d8a-11eb-b28e-02420a01004f",
    "f67f77b8-7d8a-11eb-b28e-02420a01004f",
    "f67f7934-7d8a-11eb-b28e-02420a01004f",
    "f67f7a74-7d8a-11eb-b28e-02420a01004f",
    "f67f7bb4-7d8a-11eb-b28e-02420a01004f",
    "f67f7cf4-7d8a-11eb-b28e-02420a01004f",
    "f67f7e2a-7d8a-11eb-b28e-02420a01004f",
    "f67f7f6a-7d8a-11eb-b28e-02420a01004f",
    "f67f80a0-7d8a-11eb-b28e-02420a01004f"
   ]
  },
  "toc": {
   "base_numbering": 1,
   "nav_menu": {},
   "number_sections": true,
   "sideBar": true,
   "skip_h1_title": false,
   "title_cell": "Table of Contents",
   "title_sidebar": "Contents",
   "toc_cell": false,
   "toc_position": {},
   "toc_section_display": true,
   "toc_window_display": true
  }
 },
 "nbformat": 4,
 "nbformat_minor": 4
}
