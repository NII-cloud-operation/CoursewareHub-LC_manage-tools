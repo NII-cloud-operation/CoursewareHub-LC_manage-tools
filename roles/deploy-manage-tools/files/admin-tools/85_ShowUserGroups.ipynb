{
 "cells": [
  {
   "cell_type": "markdown",
   "metadata": {
    "lc_cell_meme": {
     "current": "f67f71fa-7d8a-11eb-b28e-02420a01004f-1-fb8b",
     "history": [
      {
       "current": "f67f71fa-7d8a-11eb-b28e-02420a01004f-1-fb8b",
       "next": "f67f73d0-7d8a-11eb-b28e-02420a01004f",
       "previous": null
      }
     ],
     "next": "f67f73d0-7d8a-11eb-b28e-02420a01004f-1-3c08",
     "previous": null
    }
   },
   "source": [
    "# ユーザーの属するグループの確認\n",
    "\n",
    "ユーザーが属するグループを確認します。JupyterHub上にユーザーが作成済みである必要があります。\n",
    "\n",
    "グループは、所属グループに応じたリソース制限設定に使用します。"
   ]
  },
  {
   "cell_type": "markdown",
   "metadata": {
    "lc_cell_meme": {
     "current": "f67f73d0-7d8a-11eb-b28e-02420a01004f-1-3c08",
     "history": [
      {
       "current": "f67f73d0-7d8a-11eb-b28e-02420a01004f-1-3c08",
       "next": "f67f7538-7d8a-11eb-b28e-02420a01004f",
       "previous": "f67f71fa-7d8a-11eb-b28e-02420a01004f"
      }
     ],
     "next": "f67f7538-7d8a-11eb-b28e-02420a01004f-1-0f83",
     "previous": "f67f71fa-7d8a-11eb-b28e-02420a01004f-1-fb8b"
    }
   },
   "source": [
    "# グループの定義"
   ]
  },
  {
   "cell_type": "markdown",
   "metadata": {
    "lc_cell_meme": {
     "current": "f67f7538-7d8a-11eb-b28e-02420a01004f-1-0f83",
     "history": [
      {
       "current": "f67f7538-7d8a-11eb-b28e-02420a01004f-1-0f83",
       "next": "f67f77b8-7d8a-11eb-b28e-02420a01004f",
       "previous": "f67f73d0-7d8a-11eb-b28e-02420a01004f"
      }
     ],
     "next": "f67f77b8-7d8a-11eb-b28e-02420a01004f-1-486d",
     "previous": "f67f73d0-7d8a-11eb-b28e-02420a01004f-1-3c08"
    }
   },
   "source": [
    "グループを調べるユーザーのメールアドレス"
   ]
  },
  {
   "cell_type": "code",
   "execution_count": null,
   "metadata": {
    "lc_cell_meme": {
     "current": "f67f77b8-7d8a-11eb-b28e-02420a01004f-1-486d",
     "history": [
      {
       "current": "f67f77b8-7d8a-11eb-b28e-02420a01004f-1-486d",
       "next": "f67f7934-7d8a-11eb-b28e-02420a01004f",
       "previous": "f67f7538-7d8a-11eb-b28e-02420a01004f"
      }
     ],
     "next": "f67f7a74-7d8a-11eb-b28e-02420a01004f-1-0af3",
     "previous": "f67f7538-7d8a-11eb-b28e-02420a01004f-1-0f83"
    }
   },
   "outputs": [],
   "source": [
    "import re\n",
    "user_emails = user_email_list.splitlines()\n",
    "user_emails = [x.strip() for x in user_emails \n",
    "               if re.sub(r'#.*$', '', x).strip()]\n",
    "user_emails"
   ]
  },
  {
   "cell_type": "code",
   "execution_count": null,
   "metadata": {
    "lc_cell_meme": {
     "current": "f67f7a74-7d8a-11eb-b28e-02420a01004f-1-0af3",
     "history": [
      {
       "current": "f67f7a74-7d8a-11eb-b28e-02420a01004f-1-0af3",
       "next": "f67f7bb4-7d8a-11eb-b28e-02420a01004f",
       "previous": "f67f7934-7d8a-11eb-b28e-02420a01004f"
      }
     ],
     "next": "f67f7bb4-7d8a-11eb-b28e-02420a01004f-1-ba17",
     "previous": "f67f77b8-7d8a-11eb-b28e-02420a01004f-1-486d"
    }
   },
   "outputs": [],
   "source": [
    "import hashlib\n",
    "\n",
    "def get_username_from_mail_address(mail_address):\n",
    "    # Convert to lower and remove characters except for alphabets and digits\n",
    "    wk = mail_address.split('@')\n",
    "    local_part = wk[0].lower()\n",
    "    result = re.sub(r'[^a-zA-Z0-9]', '', local_part)\n",
    "    # Add top 6bytes of hash string\n",
    "    md5 = hashlib.md5()\n",
    "    md5.update(mail_address.encode('us-ascii'))\n",
    "    h = md5.hexdigest()[0:6]\n",
    "    result += 'x'\n",
    "    result += h;\n",
    "    return result;\n",
    "\n",
    "user_names = [get_username_from_mail_address(x) for x in user_emails]\n",
    "user_names"
   ]
  },
  {
   "cell_type": "markdown",
   "metadata": {
    "lc_cell_meme": {
     "current": "f67f7bb4-7d8a-11eb-b28e-02420a01004f-1-ba17",
     "history": [
      {
       "current": "f67f7bb4-7d8a-11eb-b28e-02420a01004f-1-ba17",
       "next": "f67f7cf4-7d8a-11eb-b28e-02420a01004f",
       "previous": "f67f7a74-7d8a-11eb-b28e-02420a01004f"
      }
     ],
     "next": "feba8ca8-d0a0-11ee-a40c-02420a640143-4-b18e-b902-eb3e-0b05",
     "previous": "f67f7a74-7d8a-11eb-b28e-02420a01004f-1-0af3"
    }
   },
   "source": [
    "# グループの確認"
   ]
  },
  {
   "cell_type": "markdown",
   "metadata": {
    "lc_cell_meme": {
     "current": "feba8ca8-d0a0-11ee-a40c-02420a640143-4-b18e-b902-eb3e-0b05",
     "history": [
      {
       "current": "feba8ca8-d0a0-11ee-a40c-02420a640143-2-b18e-b902",
       "next": "feba9248-d0a0-11ee-a40c-02420a640143",
       "previous": "952ac744-4bfd-11e9-845a-02420a0001bc-1-4ad7"
      },
      {
       "current": "feba8ca8-d0a0-11ee-a40c-02420a640143-4-b18e-b902-eb3e-0b05",
       "next": "feba9248-d0a0-11ee-a40c-02420a640143-2-36f9-b12d",
       "previous": "952ac744-4bfd-11e9-845a-02420a0001bc-1-65df"
      }
     ],
     "next": "feba9248-d0a0-11ee-a40c-02420a640143-4-36f9-b12d-d25b-6b47",
     "previous": "f67f7bb4-7d8a-11eb-b28e-02420a01004f-1-ba17"
    }
   },
   "source": [
    "[API Tokens](/hub/token)のページで、tokenを作成して以下に入力してください。"
   ]
  },
  {
   "cell_type": "code",
   "execution_count": null,
   "metadata": {
    "lc_cell_meme": {
     "current": "feba9248-d0a0-11ee-a40c-02420a640143-4-36f9-b12d-d25b-6b47",
     "history": [
      {
       "current": "feba9248-d0a0-11ee-a40c-02420a640143-2-36f9-b12d",
       "next": "952ac794-4bfd-11e9-845a-02420a0001bc-1-21a4",
       "previous": "feba8ca8-d0a0-11ee-a40c-02420a640143"
      },
      {
       "current": "feba9248-d0a0-11ee-a40c-02420a640143-4-36f9-b12d-d25b-6b47",
       "next": "952ac794-4bfd-11e9-845a-02420a0001bc-1-2b6f",
       "previous": "feba8ca8-d0a0-11ee-a40c-02420a640143-2-b18e-b902"
      }
     ],
     "next": "f67f7cf4-7d8a-11eb-b28e-02420a01004f-1-0941",
     "previous": "feba8ca8-d0a0-11ee-a40c-02420a640143-4-b18e-b902-eb3e-0b05"
    }
   },
   "outputs": [],
   "source": [
    "import getpass\n",
    "apitoken = getpass.getpass('JupyterHub API token')"
   ]
  },
  {
   "cell_type": "code",
   "execution_count": null,
   "metadata": {
    "lc_cell_meme": {
     "current": "f67f7cf4-7d8a-11eb-b28e-02420a01004f-1-0941",
     "history": [
      {
       "current": "f67f7cf4-7d8a-11eb-b28e-02420a01004f-1-0941",
       "next": "f67f7e2a-7d8a-11eb-b28e-02420a01004f",
       "previous": "f67f7bb4-7d8a-11eb-b28e-02420a01004f"
      }
     ],
     "next": "f67f7e2a-7d8a-11eb-b28e-02420a01004f-1-1663",
     "previous": "feba9248-d0a0-11ee-a40c-02420a640143-4-36f9-b12d-d25b-6b47"
    }
   },
   "outputs": [],
   "source": [
    "import os\n",
    "api_url = os.environ['JUPYTERHUB_API_URL']"
   ]
  },
  {
   "cell_type": "markdown",
   "metadata": {
    "lc_cell_meme": {
     "current": "f67f7e2a-7d8a-11eb-b28e-02420a01004f-1-1663",
     "history": [
      {
       "current": "f67f7e2a-7d8a-11eb-b28e-02420a01004f-1-1663",
       "next": "f67f7f6a-7d8a-11eb-b28e-02420a01004f",
       "previous": "f67f7cf4-7d8a-11eb-b28e-02420a01004f"
      }
     ],
     "next": "f67f7f6a-7d8a-11eb-b28e-02420a01004f-1-2c1f",
     "previous": "f67f7cf4-7d8a-11eb-b28e-02420a01004f-1-0941"
    }
   },
   "source": [
    "グループの作成（必要な場合）"
   ]
  },
  {
   "cell_type": "code",
   "execution_count": null,
   "metadata": {
    "lc_cell_meme": {
     "current": "f67f7f6a-7d8a-11eb-b28e-02420a01004f-1-2c1f",
     "history": [
      {
       "current": "f67f7f6a-7d8a-11eb-b28e-02420a01004f-1-2c1f",
       "next": "f67f80a0-7d8a-11eb-b28e-02420a01004f",
       "previous": "f67f7e2a-7d8a-11eb-b28e-02420a01004f"
      }
     ],
     "next": "f67f80a0-7d8a-11eb-b28e-02420a01004f-1-a78c",
     "previous": "f67f7e2a-7d8a-11eb-b28e-02420a01004f-1-1663"
    }
   },
   "outputs": [],
   "source": [
    "headers = {\n",
    "    'Authorization': 'token %s' % apitoken,\n",
    "}"
   ]
  },
  {
   "cell_type": "code",
   "execution_count": null,
   "metadata": {
    "lc_cell_meme": {
     "current": "f67f80a0-7d8a-11eb-b28e-02420a01004f-1-a78c",
     "history": [
      {
       "current": "f67f80a0-7d8a-11eb-b28e-02420a01004f-1-a78c",
       "next": null,
       "previous": "f67f7f6a-7d8a-11eb-b28e-02420a01004f"
      }
     ],
     "next": null,
     "previous": "f67f7f6a-7d8a-11eb-b28e-02420a01004f-1-2c1f"
    }
   },
   "outputs": [],
   "source": [
    "import requests\n",
    "import json\n",
    "\n",
    "user2mail = dict(zip(user_names, user_emails))\n",
    "\n",
    "for username in user_names:\n",
    "    r = requests.get(api_url + '/users/{}'.format(username),\n",
    "                 headers=headers)\n",
    "    assert r.status_code == 200\n",
    "    user = r.json()\n",
    "    print('{}({}){}: {}'.format(user2mail[username], username, \n",
    "                                ' [admin]' if user['admin'] else '',\n",
    "                                ', '.join(user['groups'])))"
   ]
  }
 ],
 "metadata": {
  "kernelspec": {
   "display_name": "Python 3",
   "language": "python",
   "name": "python3"
  },
  "language_info": {
   "file_extension": ".py",
   "mimetype": "text/x-python",
   "name": "python",
   "nbconvert_exporter": "python",
   "pygments_lexer": "ipython3",
   "version": "3.10.11"
  },
  "lc_notebook_meme": {
   "current": "f67f6db8-7d8a-11eb-b28e-02420a01004f",
   "history": [],
   "root_cells": [
    "f67f71fa-7d8a-11eb-b28e-02420a01004f",
    "f67f73d0-7d8a-11eb-b28e-02420a01004f",
    "f67f7538-7d8a-11eb-b28e-02420a01004f",
    "f67f77b8-7d8a-11eb-b28e-02420a01004f",
    "f67f7934-7d8a-11eb-b28e-02420a01004f",
    "f67f7a74-7d8a-11eb-b28e-02420a01004f",
    "f67f7bb4-7d8a-11eb-b28e-02420a01004f",
    "f67f7cf4-7d8a-11eb-b28e-02420a01004f",
    "f67f7e2a-7d8a-11eb-b28e-02420a01004f",
    "f67f7f6a-7d8a-11eb-b28e-02420a01004f",
    "f67f80a0-7d8a-11eb-b28e-02420a01004f"
   ]
  },
  "toc": {
   "base_numbering": 1,
   "nav_menu": {},
   "number_sections": true,
   "sideBar": true,
   "skip_h1_title": false,
   "title_cell": "Table of Contents",
   "title_sidebar": "Contents",
   "toc_cell": false,
   "toc_position": {},
   "toc_section_display": true,
   "toc_window_display": true
  }
 },
 "nbformat": 4,
 "nbformat_minor": 4
}
