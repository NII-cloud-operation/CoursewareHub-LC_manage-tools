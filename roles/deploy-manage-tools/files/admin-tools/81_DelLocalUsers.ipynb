{
 "cells": [
  {
   "cell_type": "markdown",
   "metadata": {
    "lc_cell_meme": {
     "current": "95865046-4bfd-11e9-805e-02420a0001bc",
     "history": [],
     "next": "958650be-4bfd-11e9-805e-02420a0001bc",
     "previous": null
    }
   },
   "source": [
    "# ローカルユーザを削除します\n",
    "<HR>"
   ]
  },
  {
   "cell_type": "markdown",
   "metadata": {
    "lc_cell_meme": {
     "current": "958650be-4bfd-11e9-805e-02420a0001bc",
     "history": [],
     "next": "95865122-4bfd-11e9-805e-02420a0001bc",
     "previous": "95865046-4bfd-11e9-805e-02420a0001bc"
    }
   },
   "source": [
    "ローカルユーザとして登録済みのユーザを削除します。<br/>\n",
    "\n",
    "次のセルで、下記のように削除するユーザのメールアドレスを配列`LOCAL_USERS_DELETE_LIST`に設定して、セルを実行して下さい。\n",
    "```\n",
    "LOCAL_USERS_DELETE_LIST = '''\n",
    "student-a01@example.com\n",
    "student-a02@example.com\n",
    "student-a03@example.com\n",
    "'''\n",
    "```"
   ]
  },
  {
   "cell_type": "code",
   "execution_count": null,
   "metadata": {
    "lc_cell_meme": {
     "current": "95865122-4bfd-11e9-805e-02420a0001bc",
     "history": [],
     "next": "95865172-4bfd-11e9-805e-02420a0001bc",
     "previous": "958650be-4bfd-11e9-805e-02420a0001bc"
    }
   },
   "outputs": [],
   "source": [
    "# 以下に、削除するローカルユーザのメールアドレスを列挙してください。\n",
    "LOCAL_USERS_DELETE_LIST = '''#ここから#\n",
    "# GROUP A\n",
    "student-a01@example.com\n",
    "student-a02@example.com\n",
    "student-a03@example.com\n",
    "'''#ここまで#"
   ]
  },
  {
   "cell_type": "markdown",
   "metadata": {
    "lc_cell_meme": {
     "current": "95865172-4bfd-11e9-805e-02420a0001bc",
     "history": [],
     "next": "958651c2-4bfd-11e9-805e-02420a0001bc",
     "previous": "95865122-4bfd-11e9-805e-02420a0001bc"
    }
   },
   "source": [
    "# ローカルユーザーの削除"
   ]
  },
  {
   "cell_type": "code",
   "execution_count": null,
   "metadata": {
    "lc_cell_meme": {
     "current": "958651c2-4bfd-11e9-805e-02420a0001bc",
     "history": [],
     "next": "95865212-4bfd-11e9-805e-02420a0001bc",
     "previous": "95865172-4bfd-11e9-805e-02420a0001bc"
    }
   },
   "outputs": [],
   "source": [
    "import os\n",
    "target_hub = ['-i', os.path.expanduser('~/ansible/inventory'), 'ch-master']\n",
    "\n",
    "!ansible -m ping {' '.join(target_hub)}"
   ]
  },
  {
   "cell_type": "code",
   "execution_count": null,
   "metadata": {
    "lc_cell_meme": {
     "current": "95865212-4bfd-11e9-805e-02420a0001bc",
     "history": [],
     "next": "95865262-4bfd-11e9-805e-02420a0001bc",
     "previous": "958651c2-4bfd-11e9-805e-02420a0001bc"
    }
   },
   "outputs": [],
   "source": [
    "import subprocess\n",
    "\n",
    "default_user = !whoami\n",
    "default_user = default_user[0]\n",
    "\n",
    "result = subprocess.check_output(['ansible', '-m', 'ping'] + target_hub)\n",
    "print(result.decode('utf8'))"
   ]
  },
  {
   "cell_type": "code",
   "execution_count": null,
   "metadata": {
    "lc_cell_meme": {
     "current": "95865262-4bfd-11e9-805e-02420a0001bc",
     "history": [],
     "next": "958652b2-4bfd-11e9-805e-02420a0001bc",
     "previous": "95865212-4bfd-11e9-805e-02420a0001bc"
    }
   },
   "outputs": [],
   "source": [
    "import re\n",
    "\n",
    "student_mails = []\n",
    "for line in LOCAL_USERS_DELETE_LIST.splitlines():\n",
    "    s = re.sub(r'#.*$', '', line).strip()\n",
    "    if 0 < len(s):\n",
    "        student_mails.append(line)\n",
    "student_mails"
   ]
  },
  {
   "cell_type": "markdown",
   "metadata": {
    "lc_cell_meme": {
     "current": "958652b2-4bfd-11e9-805e-02420a0001bc",
     "history": [],
     "next": "95865302-4bfd-11e9-805e-02420a0001bc",
     "previous": "95865262-4bfd-11e9-805e-02420a0001bc"
    }
   },
   "source": [
    "ユーザをDBから削除します。"
   ]
  },
  {
   "cell_type": "code",
   "execution_count": null,
   "metadata": {
    "lc_cell_meme": {
     "current": "95865302-4bfd-11e9-805e-02420a0001bc",
     "history": [],
     "next": "95865352-4bfd-11e9-805e-02420a0001bc",
     "previous": "958652b2-4bfd-11e9-805e-02420a0001bc"
    }
   },
   "outputs": [],
   "source": [
    "def get_auth_proxy():\n",
    "    import subprocess\n",
    "    try:\n",
    "        sid = subprocess.check_output(['ansible', '-b', '-a', 'docker service ps auth-proxy -q'] + target_hub)\n",
    "        sid = sid.decode('utf-8').split('\\n')[1].strip()\n",
    "        cinfo = subprocess.check_output(\n",
    "            ['ansible', '-b', '-a', \n",
    "             'docker inspect --format \"{% raw %} {{.NodeID}} {{.Status.ContainerStatus.ContainerID}} {% endraw %}\" ' + sid\n",
    "            ] + target_hub)\n",
    "        nodeid, cid = cinfo.decode('utf-8').split('\\n')[1].strip().split()\n",
    "        nodeip = subprocess.check_output(\n",
    "            ['ansible', '-b', '-a', \n",
    "             'docker node inspect --format \"{% raw %} {{.Status.Addr}} {% endraw %}\" ' + nodeid\n",
    "            ] + target_hub)\n",
    "        nodeip = nodeip.decode('utf-8').split('\\n')[1].split()[0]\n",
    "        return (nodeip, cid)\n",
    "    except subprocess.CalledProcessError as e:\n",
    "        print(e.output.decode('utf-8'))\n",
    "        raise\n",
    "\n",
    "auth_proxy = get_auth_proxy()\n",
    "auth_proxy"
   ]
  },
  {
   "cell_type": "code",
   "execution_count": null,
   "metadata": {
    "lc_cell_meme": {
     "current": "95865352-4bfd-11e9-805e-02420a0001bc",
     "history": [],
     "next": "958653a2-4bfd-11e9-805e-02420a0001bc",
     "previous": "95865302-4bfd-11e9-805e-02420a0001bc"
    }
   },
   "outputs": [],
   "source": [
    "target_auth_proxy = ['-i', os.path.expanduser('~/ansible/inventory'), auth_proxy[0]]\n",
    "\n",
    "local_user_infos = []\n",
    "for student_mail in student_mails:\n",
    "    local_user_info = subprocess.check_output(['ansible', '-b', '-a',\n",
    "                                               'docker exec -i {} php /var/www/bin/del-local-user.php \"{}\"'.format(auth_proxy[1], student_mail)] + target_auth_proxy)\n",
    "    local_user_infos.append(local_user_info.decode('utf8'))\n",
    "local_user_infos[0]"
   ]
  },
  {
   "cell_type": "markdown",
   "metadata": {
    "lc_cell_meme": {
     "current": "958653a2-4bfd-11e9-805e-02420a0001bc",
     "history": [],
     "next": "958653f2-4bfd-11e9-805e-02420a0001bc",
     "previous": "95865352-4bfd-11e9-805e-02420a0001bc"
    }
   },
   "source": [
    "講師環境の `admin_tools/data/students.tsv` に控えてあるユーザー情報を削除します。"
   ]
  },
  {
   "cell_type": "code",
   "execution_count": null,
   "metadata": {
    "lc_cell_meme": {
     "current": "958653f2-4bfd-11e9-805e-02420a0001bc",
     "history": [],
     "next": null,
     "previous": "958653a2-4bfd-11e9-805e-02420a0001bc"
    }
   },
   "outputs": [],
   "source": [
    "import re\n",
    "\n",
    "for local_user_info in local_user_infos:\n",
    "    local_user_info = local_user_info.split('\\n')[1]\n",
    "    email = local_user_info\n",
    "    print(email)\n",
    "    print(subprocess.check_output(['ansible', '-m', 'lineinfile', '-a',\n",
    "                             'path=/jupyter/admin/admin_tools/data/students.tsv regexp=\"^{}.+\" state=absent'.format(\n",
    "                                 re.escape(email)\n",
    "                             )] + target_hub).decode('utf-8'))\n"
   ]
  }
 ],
 "metadata": {
  "kernelspec": {
   "display_name": "Python 3",
   "language": "python",
   "name": "python3"
  },
  "language_info": {
   "codemirror_mode": {
    "name": "ipython",
    "version": 3
   },
   "file_extension": ".py",
   "mimetype": "text/x-python",
   "name": "python",
   "nbconvert_exporter": "python",
   "pygments_lexer": "ipython3",
   "version": "3.6.8"
  },
  "lc_notebook_meme": {
   "current": "95864f06-4bfd-11e9-805e-02420a0001bc",
   "history": [],
   "root_cells": [
    "95865046-4bfd-11e9-805e-02420a0001bc",
    "958650be-4bfd-11e9-805e-02420a0001bc",
    "95865122-4bfd-11e9-805e-02420a0001bc",
    "95865172-4bfd-11e9-805e-02420a0001bc",
    "958651c2-4bfd-11e9-805e-02420a0001bc",
    "95865212-4bfd-11e9-805e-02420a0001bc",
    "95865262-4bfd-11e9-805e-02420a0001bc",
    "958652b2-4bfd-11e9-805e-02420a0001bc",
    "95865302-4bfd-11e9-805e-02420a0001bc",
    "95865352-4bfd-11e9-805e-02420a0001bc",
    "958653a2-4bfd-11e9-805e-02420a0001bc",
    "958653f2-4bfd-11e9-805e-02420a0001bc"
   ]
  },
  "toc": {
   "base_numbering": 1,
   "nav_menu": {},
   "number_sections": true,
   "sideBar": true,
   "skip_h1_title": false,
   "title_cell": "Table of Contents",
   "title_sidebar": "Contents",
   "toc_cell": false,
   "toc_position": {},
   "toc_section_display": true,
   "toc_window_display": true
  }
 },
 "nbformat": 4,
 "nbformat_minor": 2
}
