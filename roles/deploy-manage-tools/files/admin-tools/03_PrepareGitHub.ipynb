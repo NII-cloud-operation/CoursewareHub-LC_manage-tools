{
 "cells": [
  {
   "cell_type": "markdown",
   "metadata": {
    "lc_cell_meme": {
     "current": "9138c690-4bfd-11e9-916e-02420a0001bc",
     "history": [],
     "next": "9138c708-4bfd-11e9-916e-02420a0001bc",
     "previous": null
    }
   },
   "source": [
    "# GitHubリポジトリの準備\n",
    "---"
   ]
  },
  {
   "cell_type": "markdown",
   "metadata": {
    "lc_cell_meme": {
     "current": "9138c708-4bfd-11e9-916e-02420a0001bc",
     "history": [],
     "next": "9138c762-4bfd-11e9-916e-02420a0001bc",
     "previous": "9138c690-4bfd-11e9-916e-02420a0001bc"
    }
   },
   "source": [
    "教材のバックアップにGitHubを利用する場合の、GitHubリポジトリ作成・操作に関わる手順です。"
   ]
  },
  {
   "cell_type": "markdown",
   "metadata": {
    "lc_cell_meme": {
     "current": "9138c762-4bfd-11e9-916e-02420a0001bc",
     "history": [],
     "next": "9138c7b2-4bfd-11e9-916e-02420a0001bc",
     "previous": "9138c708-4bfd-11e9-916e-02420a0001bc"
    }
   },
   "source": [
    "\n"
   ]
  },
  {
   "cell_type": "markdown",
   "metadata": {
    "lc_cell_meme": {
     "current": "9138c7b2-4bfd-11e9-916e-02420a0001bc",
     "history": [],
     "next": "9138c802-4bfd-11e9-916e-02420a0001bc",
     "previous": "9138c762-4bfd-11e9-916e-02420a0001bc"
    }
   },
   "source": [
    "## GitHubで新しいリポジトリを作成"
   ]
  },
  {
   "cell_type": "markdown",
   "metadata": {
    "lc_cell_meme": {
     "current": "9138c802-4bfd-11e9-916e-02420a0001bc",
     "history": [],
     "next": "9138c852-4bfd-11e9-916e-02420a0001bc",
     "previous": "9138c7b2-4bfd-11e9-916e-02420a0001bc"
    }
   },
   "source": [
    "### リポジトリの作成\n",
    "次の手順にしたがって、バックアップ用のリポジトリを作成して下さい。"
   ]
  },
  {
   "cell_type": "markdown",
   "metadata": {
    "lc_cell_meme": {
     "current": "9138c852-4bfd-11e9-916e-02420a0001bc",
     "history": [],
     "next": "9138c898-4bfd-11e9-916e-02420a0001bc",
     "previous": "9138c802-4bfd-11e9-916e-02420a0001bc"
    }
   },
   "source": [
    "1. GitHubにログインします。\n",
    "  * GitHubアカウントをお持ちでない場合は作成して下さい。\n",
    "2. 画面上のメニューから[Repositories]を選択します。\n",
    "3. 画面右上の[New]ボタンをクリックします。下記の要領で入力します。\n",
    "  * Repository name: 作成するリポジトリの名前を入力します。（必須）\n",
    "  * Description: リポジトリ関する説明を入力します。（任意）\n",
    "  * Public/Private: 作成したリポジトリを公開する場合は「Public」、非公開とする場合は「Private」を選択します。「Private」は有償契約の場合のみ利用できます。\n",
    "  * Initialize this repository with a README: `README` を作成する場合はチェックします。`README` は後から作成できます。\n",
    "  * Add .gitignore: [None]を選択。\n",
    "  * Add a license: [None]を選択。\n",
    "4. [Create repository]ボタンをクリックします。"
   ]
  },
  {
   "cell_type": "markdown",
   "metadata": {
    "lc_cell_meme": {
     "current": "9138c898-4bfd-11e9-916e-02420a0001bc",
     "history": [],
     "next": "9138c8e8-4bfd-11e9-916e-02420a0001bc",
     "previous": "9138c852-4bfd-11e9-916e-02420a0001bc"
    }
   },
   "source": [
    "## SSHキーの登録"
   ]
  },
  {
   "cell_type": "markdown",
   "metadata": {
    "lc_cell_meme": {
     "current": "9138c8e8-4bfd-11e9-916e-02420a0001bc",
     "history": [],
     "next": "9138c938-4bfd-11e9-916e-02420a0001bc",
     "previous": "9138c898-4bfd-11e9-916e-02420a0001bc"
    }
   },
   "source": [
    "次の手順にしたがって、リポジトリにアクセスするためのSSHキーを登録して下さい。既に登録済みのキーをお持ちに場合は、そちらをお使い頂いても構いません。\n",
    "\n",
    "登録済みのキーを使用する場合には、`$HOME/.ssh/id_rsa` に `mode=0600` で秘密鍵を格納してください。"
   ]
  },
  {
   "cell_type": "markdown",
   "metadata": {
    "lc_cell_meme": {
     "current": "9138c938-4bfd-11e9-916e-02420a0001bc",
     "history": [],
     "next": "9138c97e-4bfd-11e9-916e-02420a0001bc",
     "previous": "9138c8e8-4bfd-11e9-916e-02420a0001bc"
    }
   },
   "source": [
    "### SSHキーの生成\n",
    "\n",
    "**次のセルを実行して、SSHキーペアを作成して下さい。キーペアは `$HOME/.ssh/` 以下に作成されます**\n",
    "- 秘密鍵： `$HOME/.ssh/id_rsa`\n",
    "- 公開鍵： `$HOME/.ssh/id_rsa.pub`"
   ]
  },
  {
   "cell_type": "code",
   "execution_count": null,
   "metadata": {
    "lc_cell_meme": {
     "current": "9138c97e-4bfd-11e9-916e-02420a0001bc",
     "history": [],
     "next": "9138c9ce-4bfd-11e9-916e-02420a0001bc",
     "previous": "9138c938-4bfd-11e9-916e-02420a0001bc"
    }
   },
   "outputs": [],
   "source": [
    "%%bash\n",
    "export LANG=\n",
    "EMAIL=\"your-email@example.com\"\n",
    "# rm ~/.ssh/id_rsa{,.pub}\n",
    "if [ -f ~/.ssh/id_rsa ]; then\n",
    "  echo 'Private key already exists.' 1>&2\n",
    "else\n",
    "  ssh-keygen -t rsa -b 4096 -P \"\" -C \"${EMAIL}\" -f ~/.ssh/id_rsa\n",
    "  echo 'Key pair generated.'\n",
    "fi"
   ]
  },
  {
   "cell_type": "markdown",
   "metadata": {
    "lc_cell_meme": {
     "current": "9138c9ce-4bfd-11e9-916e-02420a0001bc",
     "history": [],
     "next": "9138ca1e-4bfd-11e9-916e-02420a0001bc",
     "previous": "9138c97e-4bfd-11e9-916e-02420a0001bc"
    }
   },
   "source": [
    "**次のセルを実行して、作成した公開鍵を表示してください。コピーして GitHub に登録します。**"
   ]
  },
  {
   "cell_type": "code",
   "execution_count": null,
   "metadata": {
    "lc_cell_meme": {
     "current": "9138ca1e-4bfd-11e9-916e-02420a0001bc",
     "history": [],
     "next": "9138ca64-4bfd-11e9-916e-02420a0001bc",
     "previous": "9138c9ce-4bfd-11e9-916e-02420a0001bc"
    }
   },
   "outputs": [],
   "source": [
    "%pycat ~/.ssh/id_rsa.pub"
   ]
  },
  {
   "cell_type": "markdown",
   "metadata": {
    "lc_cell_meme": {
     "current": "9138ca64-4bfd-11e9-916e-02420a0001bc",
     "history": [],
     "next": "9138cab4-4bfd-11e9-916e-02420a0001bc",
     "previous": "9138ca1e-4bfd-11e9-916e-02420a0001bc"
    }
   },
   "source": [
    "### GitHubに生成したキーを登録"
   ]
  },
  {
   "cell_type": "markdown",
   "metadata": {
    "lc_cell_meme": {
     "current": "9138cab4-4bfd-11e9-916e-02420a0001bc",
     "history": [],
     "next": "9138cafa-4bfd-11e9-916e-02420a0001bc",
     "previous": "9138ca64-4bfd-11e9-916e-02420a0001bc"
    }
   },
   "source": [
    "1. GitHubにログインします。\n",
    "2. 画面右上の[View profile and more]プルダウンから、[Settings]を選択します。\n",
    "3. 画面左のメニューから[SSH and GPG keys]を選択します。「SSH Keys」画面が表示されます。\n",
    "4. 画面右上の[New SSH key]ボタンをクリックします。\n",
    "5. キー登録フォームが表示されますので、下記の要領で入力して下さい。\n",
    "  * Title: キーの名前を入力します。\n",
    "  * Key: 「2.1 SSHキーの生成」作成したキーペアの「公開鍵」をコピー&ペーストします。\n",
    "3. [Add SSH key]ボタンをクリックします。"
   ]
  },
  {
   "cell_type": "markdown",
   "metadata": {
    "lc_cell_meme": {
     "current": "9138cafa-4bfd-11e9-916e-02420a0001bc",
     "history": [],
     "next": "9138cb4a-4bfd-11e9-916e-02420a0001bc",
     "previous": "9138cab4-4bfd-11e9-916e-02420a0001bc"
    }
   },
   "source": [
    " "
   ]
  },
  {
   "cell_type": "markdown",
   "metadata": {
    "lc_cell_meme": {
     "current": "9138cb4a-4bfd-11e9-916e-02420a0001bc",
     "history": [],
     "next": "9138cb90-4bfd-11e9-916e-02420a0001bc",
     "previous": "9138cafa-4bfd-11e9-916e-02420a0001bc"
    }
   },
   "source": [
    "# GitHubリポジトリ接続情報の設定"
   ]
  },
  {
   "cell_type": "markdown",
   "metadata": {
    "lc_cell_meme": {
     "current": "9138cb90-4bfd-11e9-916e-02420a0001bc",
     "history": [],
     "next": "9138cbe0-4bfd-11e9-916e-02420a0001bc",
     "previous": "9138cb4a-4bfd-11e9-916e-02420a0001bc"
    }
   },
   "source": [
    "## 接続情報の入力"
   ]
  },
  {
   "cell_type": "markdown",
   "metadata": {
    "lc_cell_meme": {
     "current": "9138cbe0-4bfd-11e9-916e-02420a0001bc",
     "history": [],
     "next": "9138cc26-4bfd-11e9-916e-02420a0001bc",
     "previous": "9138cb90-4bfd-11e9-916e-02420a0001bc"
    }
   },
   "source": [
    "* バックアップ先のGitHubリポジトリへの接続情報を設定します。\n",
    "\n",
    "  + GIT_REPO: GitHubリポジトリのcloneパス。\n",
    "  ```\n",
    "   GIT_REPO=git@github.com:****/course-a.git\n",
    "  ```\n",
    "  + GIT_USER_NAME: GitHubのユーザ名\n",
    "  ```\n",
    "  GIT_USER_NAME=user\n",
    "  ```\n",
    "  + GIT_USER_EMAIL: コミットログに記載されるe-mailアドレス\n",
    "  ```\n",
    "  GIT_USER_EMAIL=user@example.com\n",
    "  ```\n",
    " \n",
    "**次のセルで接続情報パラメータを設定して、セルを実行して下さい。**"
   ]
  },
  {
   "cell_type": "code",
   "execution_count": null,
   "metadata": {
    "lc_cell_meme": {
     "current": "9138cc26-4bfd-11e9-916e-02420a0001bc",
     "history": [],
     "next": "9138cc76-4bfd-11e9-916e-02420a0001bc",
     "previous": "9138cbe0-4bfd-11e9-916e-02420a0001bc"
    }
   },
   "outputs": [],
   "source": [
    "%env GIT_REPO=git@github.com:****/course-a.git\n",
    "%env GIT_USER_NAME=UserName\n",
    "%env GIT_USER_EMAIL=user@example.com"
   ]
  },
  {
   "cell_type": "markdown",
   "metadata": {
    "lc_cell_meme": {
     "current": "9138cc76-4bfd-11e9-916e-02420a0001bc",
     "history": [],
     "next": "9138ccbc-4bfd-11e9-916e-02420a0001bc",
     "previous": "9138cc26-4bfd-11e9-916e-02420a0001bc"
    }
   },
   "source": [
    "## 接続情報の設定"
   ]
  },
  {
   "cell_type": "markdown",
   "metadata": {
    "lc_cell_meme": {
     "current": "9138ccbc-4bfd-11e9-916e-02420a0001bc",
     "history": [],
     "next": "9138cd0c-4bfd-11e9-916e-02420a0001bc",
     "previous": "9138cc76-4bfd-11e9-916e-02420a0001bc"
    }
   },
   "source": [
    "**次のセルを実行して、GitHubリポジトリの接続情報を設定して下さい。**"
   ]
  },
  {
   "cell_type": "code",
   "execution_count": null,
   "metadata": {
    "lc_cell_meme": {
     "current": "9138cd0c-4bfd-11e9-916e-02420a0001bc",
     "history": [],
     "next": null,
     "previous": "9138ccbc-4bfd-11e9-916e-02420a0001bc"
    }
   },
   "outputs": [],
   "source": [
    "%%bash\n",
    "\n",
    "cd\n",
    "\n",
    "comm -13 <(sort ~/.ssh/known_hosts) <(ssh-keyscan github.com 2>/dev/null | sort) >>~/.ssh/known_hosts \n",
    "\n",
    "IS_INSIDE_REPO=0\n",
    "S=\"$(git rev-parse --is-inside-work-tree 2>/dev/null)\"\n",
    "[ $? -eq 0 -a \"${S}\" = \"true\" ] && IS_INSIDE_REPO=1\n",
    "\n",
    "if [ ${IS_INSIDE_REPO} -ne 1 ]; then\n",
    "  git init\n",
    "fi\n",
    "\n",
    "git remote get-url origin >/dev/null 2>&1\n",
    "if [ $? -eq 0 ]; then\n",
    "  git remote rm origin\n",
    "\n",
    "fi\n",
    "git remote add origin \"${GIT_REPO}\"\n",
    "\n",
    "git config user.name \"${GIT_USER_NAME}\"\n",
    "git config user.email \"${GIT_USER_EMAIL}\"\n",
    "git config push.default simple\n",
    "\n",
    "git fetch --force origin\n",
    "\n",
    "git status"
   ]
  }
 ],
 "metadata": {
  "kernelspec": {
   "display_name": "Python 3",
   "language": "python",
   "name": "python3"
  },
  "language_info": {
   "codemirror_mode": {
    "name": "ipython",
    "version": 3
   },
   "file_extension": ".py",
   "mimetype": "text/x-python",
   "name": "python",
   "nbconvert_exporter": "python",
   "pygments_lexer": "ipython3",
   "version": "3.6.8"
  },
  "lc_notebook_meme": {
   "current": "9138c546-4bfd-11e9-916e-02420a0001bc",
   "history": [],
   "root_cells": [
    "9138c690-4bfd-11e9-916e-02420a0001bc",
    "9138c708-4bfd-11e9-916e-02420a0001bc",
    "9138c762-4bfd-11e9-916e-02420a0001bc",
    "9138c7b2-4bfd-11e9-916e-02420a0001bc",
    "9138c802-4bfd-11e9-916e-02420a0001bc",
    "9138c852-4bfd-11e9-916e-02420a0001bc",
    "9138c898-4bfd-11e9-916e-02420a0001bc",
    "9138c8e8-4bfd-11e9-916e-02420a0001bc",
    "9138c938-4bfd-11e9-916e-02420a0001bc",
    "9138c97e-4bfd-11e9-916e-02420a0001bc",
    "9138c9ce-4bfd-11e9-916e-02420a0001bc",
    "9138ca1e-4bfd-11e9-916e-02420a0001bc",
    "9138ca64-4bfd-11e9-916e-02420a0001bc",
    "9138cab4-4bfd-11e9-916e-02420a0001bc",
    "9138cafa-4bfd-11e9-916e-02420a0001bc",
    "9138cb4a-4bfd-11e9-916e-02420a0001bc",
    "9138cb90-4bfd-11e9-916e-02420a0001bc",
    "9138cbe0-4bfd-11e9-916e-02420a0001bc",
    "9138cc26-4bfd-11e9-916e-02420a0001bc",
    "9138cc76-4bfd-11e9-916e-02420a0001bc",
    "9138ccbc-4bfd-11e9-916e-02420a0001bc",
    "9138cd0c-4bfd-11e9-916e-02420a0001bc"
   ]
  },
  "toc": {
   "base_numbering": 1,
   "nav_menu": {},
   "number_sections": true,
   "sideBar": true,
   "skip_h1_title": false,
   "title_cell": "Table of Contents",
   "title_sidebar": "Contents",
   "toc_cell": false,
   "toc_position": {},
   "toc_section_display": true,
   "toc_window_display": true
  }
 },
 "nbformat": 4,
 "nbformat_minor": 2
}
