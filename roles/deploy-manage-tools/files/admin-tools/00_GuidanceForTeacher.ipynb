{
 "cells": [
  {
   "cell_type": "markdown",
   "metadata": {
    "lc_cell_meme": {
     "current": "901afed6-4bfd-11e9-a5b6-02420a0001bc",
     "history": [],
     "next": "901aff58-4bfd-11e9-a5b6-02420a0001bc",
     "previous": null
    }
   },
   "source": [
    "---\n",
    "# 先生向けガイダンス\n",
    "---\n",
    "## はじめに\n",
    "---\n",
    "このガイダンスでは、Jupyterを利用した講義・演習のための教材作りについて説明します。\n",
    "\n",
    "Jupyterは、 Webブラウザからアクセスできる「notebook」と呼ばれるインタラクティブなインターフェイスを提供するツールです。 <br/>\n",
    "notebookは、Markdown形式のドキュメントの表示と任意の言語（コード）を埋め込みが可能で、埋め込んだコードの表示、実行、結果の表示が行えます。\n",
    "\n",
    "なお、Jupyterの概要については、[こちら](./01_JupyterOverview.ipynb)を参考にして下さい。\n"
   ]
  },
  {
   "cell_type": "markdown",
   "metadata": {
    "lc_cell_meme": {
     "current": "901aff58-4bfd-11e9-a5b6-02420a0001bc",
     "history": [],
     "next": "901affbc-4bfd-11e9-a5b6-02420a0001bc",
     "previous": "901afed6-4bfd-11e9-a5b6-02420a0001bc"
    }
   },
   "source": [
    "## 教材の作成から講義・演習の実施までの流れ\n",
    "---\n",
    "講義・演習用の教材の作成から演習の実施までは以下のように進めます。さらに、講義で課題を設けた場合、受講者が作成した回答ファイルを一括回収することができます。\n",
    "\n",
    "1. 教材の作成\n",
    "2. 教材のリリース\n",
    "3. 教材の動作を確認する\n",
    "4. 講義・演習の実施\n",
    "5. 回答ファイルの回収"
   ]
  },
  {
   "cell_type": "markdown",
   "metadata": {
    "lc_cell_meme": {
     "current": "901affbc-4bfd-11e9-a5b6-02420a0001bc",
     "history": [],
     "next": "901b0016-4bfd-11e9-a5b6-02420a0001bc",
     "previous": "901aff58-4bfd-11e9-a5b6-02420a0001bc"
    }
   },
   "source": [
    "![documentflowteacher](https://cloud.githubusercontent.com/assets/1156894/20779650/1ff53ade-b7b9-11e6-9d39-057555b81d61.png)"
   ]
  },
  {
   "cell_type": "markdown",
   "metadata": {
    "lc_cell_meme": {
     "current": "901b0016-4bfd-11e9-a5b6-02420a0001bc",
     "history": [],
     "next": "901b0070-4bfd-11e9-a5b6-02420a0001bc",
     "previous": "901affbc-4bfd-11e9-a5b6-02420a0001bc"
    }
   },
   "source": [
    " ## 1. 教材を作成する"
   ]
  },
  {
   "cell_type": "markdown",
   "metadata": {
    "lc_cell_meme": {
     "current": "901b0070-4bfd-11e9-a5b6-02420a0001bc",
     "history": [],
     "next": "901b00ca-4bfd-11e9-a5b6-02420a0001bc",
     "previous": "901b0016-4bfd-11e9-a5b6-02420a0001bc"
    }
   },
   "source": [
    "### 教材の作成場所について\n",
    "---\n",
    "Jupyterにログインすると、ダッシュボード画面が表示されます。<br/>\n",
    "Filesタブを選択するとHomeディレクトリが表示されます。教材は、このHomeディレクトリ直下で作成して下さい。Homeディレクトリにフォルダを作成して、その下に配置しても構いません。\n",
    "\n",
    "[フォルダを作成する](02_JupyterOperationTips.ipynb#folder)"
   ]
  },
  {
   "cell_type": "markdown",
   "metadata": {
    "lc_cell_meme": {
     "current": "901b00ca-4bfd-11e9-a5b6-02420a0001bc",
     "history": [],
     "next": "901b011a-4bfd-11e9-a5b6-02420a0001bc",
     "previous": "901b0070-4bfd-11e9-a5b6-02420a0001bc"
    }
   },
   "source": [
    "### 教材ファイルの作成\n",
    "---\n",
    "notebookやテキストファイルは、WebブラウザからJupyterの画面で作成、編集します。<br/>\n",
    "\n",
    "[notebookを作成する](02_JupyterOperationTips.ipynb#create_note) / [テキストファイルを作成する](02_JupyterOperationTips.ipynb#create_textfile) / [ファイルを保存する](02_JupyterOperationTips.ipynb#save_notebook) / [notebookの名前を変更する](02_JupyterOperationTips.ipynb#rename_notebook) / [notebook以外のファイル/フォルダの名前を変更する](02_JupyterOperationTips.ipynb#rename_file) / [ファイルをコピーする](02_JupyterOperationTips.ipynb#copy_file)"
   ]
  },
  {
   "cell_type": "markdown",
   "metadata": {
    "lc_cell_meme": {
     "current": "901b011a-4bfd-11e9-a5b6-02420a0001bc",
     "history": [],
     "next": "901b0174-4bfd-11e9-a5b6-02420a0001bc",
     "previous": "901b00ca-4bfd-11e9-a5b6-02420a0001bc"
    }
   },
   "source": [
    "### ファイル/フォルダの移動\n",
    "---\n",
    "教材ファイルや教材ファイルを格納するフォルダは、Jupyterの画面上で移動が可能です。<br/>\n",
    "\n",
    "[notebookを移動する](02_JupyterOperationTips.ipynb#move_note) / [notebook以外のファイル/フォルダを移動する](02_JupyterOperationTips.ipynb#move_file)"
   ]
  },
  {
   "cell_type": "markdown",
   "metadata": {
    "lc_cell_meme": {
     "current": "901b0174-4bfd-11e9-a5b6-02420a0001bc",
     "history": [],
     "next": "901b01ce-4bfd-11e9-a5b6-02420a0001bc",
     "previous": "901b011a-4bfd-11e9-a5b6-02420a0001bc"
    }
   },
   "source": [
    "### ファイルのアップロード/ダウンロード\n",
    "---\n",
    "PDFや画像ファイルなどのファイルをアップロードして教材に含めることができます。アップロードした教材は手元にダウンロードすることもできます。\n",
    "\n",
    "[ファイルをアップロードする](02_JupyterOperationTips.ipynb#upload_file) / [notebookをダウンロードする](02_JupyterOperationTips.ipynb#download_note) / [notebook以外のファイルをダウンロードする](02_JupyterOperationTips.ipynb#download_file)"
   ]
  },
  {
   "cell_type": "markdown",
   "metadata": {
    "lc_cell_meme": {
     "current": "901b01ce-4bfd-11e9-a5b6-02420a0001bc",
     "history": [],
     "next": "901b021e-4bfd-11e9-a5b6-02420a0001bc",
     "previous": "901b0174-4bfd-11e9-a5b6-02420a0001bc"
    }
   },
   "source": [
    "### 参考 : ターミナルの利用\n",
    "---\n",
    "Jupyterは、Webブラウザにターミナル画面を表示できます。<br />\n",
    "通常のターミナルと同様、このターミナルからLinuxコマンドを実行できます。\n",
    "\n",
    "[ターミナルを開く](02_JupyterOperationTips.ipynb#terminal_open) / [ターミナルを閉じる](02_JupyterOperationTips.ipynb#terminal_close)"
   ]
  },
  {
   "cell_type": "markdown",
   "metadata": {
    "lc_cell_meme": {
     "current": "901b021e-4bfd-11e9-a5b6-02420a0001bc",
     "history": [],
     "next": "901b0278-4bfd-11e9-a5b6-02420a0001bc",
     "previous": "901b01ce-4bfd-11e9-a5b6-02420a0001bc"
    }
   },
   "source": [
    "## 2. 教材をリリースする\n",
    "教材の準備が整ったら、リリースします。\n",
    "リリースする教材は、HOME直下にある下記の\n",
    "  * textbook : 演習Notebookおよび演習Notebook実行に関わるスクリプト、設定ファイルなどを格納します\n",
    "  * info : 受講者全員が参照する資料などを格納します\n",
    "  \n",
    "リリースすると、受講者のJupyter Homeから参照できる「textbook」「info」に格納され、以後、受講者がこれをコピーして利用できるようになります。<br/>\n",
    "教材のリリース作業はnotebook [10_ReleaseMaterials.ipynb](10_ReleaseMaterials.ipynb) で行って下さい。"
   ]
  },
  {
   "cell_type": "markdown",
   "metadata": {
    "lc_cell_meme": {
     "current": "901b0278-4bfd-11e9-a5b6-02420a0001bc",
     "history": [],
     "next": "901b02d2-4bfd-11e9-a5b6-02420a0001bc",
     "previous": "901b021e-4bfd-11e9-a5b6-02420a0001bc"
    }
   },
   "source": [
    "## 3. 教材の動作を確認する\n",
    "リリースした教材が問題なく動作するかを確認します。<br/>\n",
    "動作確認は、動作確認用ユーザを追加して実施します。"
   ]
  },
  {
   "cell_type": "markdown",
   "metadata": {
    "lc_cell_meme": {
     "current": "901b02d2-4bfd-11e9-a5b6-02420a0001bc",
     "history": [],
     "next": "901b0322-4bfd-11e9-a5b6-02420a0001bc",
     "previous": "901b0278-4bfd-11e9-a5b6-02420a0001bc"
    }
   },
   "source": [
    "### 動作確認用ユーザを追加する\n",
    "---\n",
    "1. ダッシュボード画面右上の [Control Panel] ボタンをクリックします。Jupyterの管理画面が表示されます。\n",
    "2. Jupyter管理画面左上の [Add User] ボタンをクリックします。「Add User」ダイアログが表示されます。\n",
    "3. 動作確認用ユーザ名を入力して、[Add User] ボタンをクリックします。この時、[Admin] チェックボックスは「OFF」にして下さい。\n",
    "4. Jupyter管理画面に追加した動作確認用ユーザが表示されます。"
   ]
  },
  {
   "cell_type": "markdown",
   "metadata": {
    "lc_cell_meme": {
     "current": "901b0322-4bfd-11e9-a5b6-02420a0001bc",
     "history": [],
     "next": "901b037c-4bfd-11e9-a5b6-02420a0001bc",
     "previous": "901b02d2-4bfd-11e9-a5b6-02420a0001bc"
    }
   },
   "source": [
    "### 動作確認用ユーザのJupyterへアクセスする\n",
    "---\n",
    "1. Jupyter管理画面で、動作確認用ユーザの [start server] ボタンをクリックします。\n",
    "2. 動作確認用ユーザのサーバが起動すると、[access server] ボタンが表示されます。\n",
    "3. [access server] ボタンをクリックします。動作確認用ユーザのダッシュボード画面が表示されます。"
   ]
  },
  {
   "cell_type": "markdown",
   "metadata": {
    "lc_cell_meme": {
     "current": "901b037c-4bfd-11e9-a5b6-02420a0001bc",
     "history": [],
     "next": "901b03d6-4bfd-11e9-a5b6-02420a0001bc",
     "previous": "901b0322-4bfd-11e9-a5b6-02420a0001bc"
    }
   },
   "source": [
    "### 動作確認\n",
    "---\n",
    "1. 動作確認用ユーザのダッシュボード画面で、Filesタブ画面を開きます。\n",
    "2. 教材を取得して動作を確認します。教材の取得方法は、受講者向けガイダンス（tools/00_GuidanceForStudent.ipynb)を参照して下さい。"
   ]
  },
  {
   "cell_type": "markdown",
   "metadata": {
    "lc_cell_meme": {
     "current": "901b03d6-4bfd-11e9-a5b6-02420a0001bc",
     "history": [],
     "next": null,
     "previous": "901b037c-4bfd-11e9-a5b6-02420a0001bc"
    }
   },
   "source": [
    "## 4. 課題の回答を回収する\n",
    "---\n",
    "講義で課題を設けた場合、受講者が作成した回答ファイル（notebook、その他ファイル）を一括回収できます。<br/>\n",
    "回答の回収作業はnotebook [11_CollectAnswer.ipynb](11_CollectAnswer.ipynb) で行って下さい。"
   ]
  }
 ],
 "metadata": {
  "kernelspec": {
   "display_name": "Python 3",
   "language": "python",
   "name": "python3"
  },
  "language_info": {
   "codemirror_mode": {
    "name": "ipython",
    "version": 3
   },
   "file_extension": ".py",
   "mimetype": "text/x-python",
   "name": "python",
   "nbconvert_exporter": "python",
   "pygments_lexer": "ipython3",
   "version": "3.6.8"
  },
  "lc_notebook_meme": {
   "current": "901afd64-4bfd-11e9-a5b6-02420a0001bc",
   "history": [],
   "root_cells": [
    "901afed6-4bfd-11e9-a5b6-02420a0001bc",
    "901aff58-4bfd-11e9-a5b6-02420a0001bc",
    "901affbc-4bfd-11e9-a5b6-02420a0001bc",
    "901b0016-4bfd-11e9-a5b6-02420a0001bc",
    "901b0070-4bfd-11e9-a5b6-02420a0001bc",
    "901b00ca-4bfd-11e9-a5b6-02420a0001bc",
    "901b011a-4bfd-11e9-a5b6-02420a0001bc",
    "901b0174-4bfd-11e9-a5b6-02420a0001bc",
    "901b01ce-4bfd-11e9-a5b6-02420a0001bc",
    "901b021e-4bfd-11e9-a5b6-02420a0001bc",
    "901b0278-4bfd-11e9-a5b6-02420a0001bc",
    "901b02d2-4bfd-11e9-a5b6-02420a0001bc",
    "901b0322-4bfd-11e9-a5b6-02420a0001bc",
    "901b037c-4bfd-11e9-a5b6-02420a0001bc",
    "901b03d6-4bfd-11e9-a5b6-02420a0001bc"
   ]
  },
  "toc": {
   "base_numbering": 1,
   "nav_menu": {
    "height": "264px",
    "width": "252px"
   },
   "number_sections": true,
   "sideBar": true,
   "skip_h1_title": false,
   "title_cell": "Table of Contents",
   "title_sidebar": "Contents",
   "toc_cell": false,
   "toc_position": {},
   "toc_section_display": "block",
   "toc_window_display": false
  }
 },
 "nbformat": 4,
 "nbformat_minor": 1
}
