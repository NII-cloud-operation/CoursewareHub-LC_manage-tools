{
 "cells": [
  {
   "cell_type": "markdown",
   "metadata": {
    "lc_cell_meme": {
     "current": "930494a4-4bfd-11e9-9f74-02420a0001bc",
     "history": [],
     "next": "9304954e-4bfd-11e9-9f74-02420a0001bc",
     "previous": null
    }
   },
   "source": [
    "# 作成した教材をGitHubへバックアップします\n",
    "---"
   ]
  },
  {
   "cell_type": "markdown",
   "metadata": {
    "lc_cell_meme": {
     "current": "9304954e-4bfd-11e9-9f74-02420a0001bc",
     "history": [],
     "next": "930495b2-4bfd-11e9-9f74-02420a0001bc",
     "previous": "930494a4-4bfd-11e9-9f74-02420a0001bc"
    }
   },
   "source": [
    "ホームディレクトリで作成した教材をGitHubリポジトリへバックアップします。"
   ]
  },
  {
   "cell_type": "markdown",
   "metadata": {
    "lc_cell_meme": {
     "current": "930495b2-4bfd-11e9-9f74-02420a0001bc",
     "history": [],
     "next": "93049602-4bfd-11e9-9f74-02420a0001bc",
     "previous": "9304954e-4bfd-11e9-9f74-02420a0001bc"
    }
   },
   "source": [
    "# バックアップ用GitHubリポジトリの準備"
   ]
  },
  {
   "cell_type": "markdown",
   "metadata": {
    "lc_cell_meme": {
     "current": "93049602-4bfd-11e9-9f74-02420a0001bc",
     "history": [],
     "next": "93049652-4bfd-11e9-9f74-02420a0001bc",
     "previous": "930495b2-4bfd-11e9-9f74-02420a0001bc"
    }
   },
   "source": [
    "* 既にバックアップ用GitHubリポジトリが作成済みの場合は、この項を読み飛ばして結構です。\n",
    "* 初めて教材をGitHubリポジトリへバックアップする場合は、[GitHubリポジトリの準備/1. GitHubで新しいリポジトリを作成](03_PrepareGitHub.ipynb#create_github_repo) にしたがって、バックアップ用のGitHubリポジトリを作成して下さい。"
   ]
  },
  {
   "cell_type": "markdown",
   "metadata": {
    "lc_cell_meme": {
     "current": "93049652-4bfd-11e9-9f74-02420a0001bc",
     "history": [],
     "next": "930496a2-4bfd-11e9-9f74-02420a0001bc",
     "previous": "93049602-4bfd-11e9-9f74-02420a0001bc"
    }
   },
   "source": [
    "# GitHubリポジトリへの接続情報を設定します"
   ]
  },
  {
   "cell_type": "markdown",
   "metadata": {
    "lc_cell_meme": {
     "current": "930496a2-4bfd-11e9-9f74-02420a0001bc",
     "history": [],
     "next": "930496f2-4bfd-11e9-9f74-02420a0001bc",
     "previous": "93049652-4bfd-11e9-9f74-02420a0001bc"
    }
   },
   "source": [
    "バックアップ先のGitHubリポジトリへの接続情報を設定します。\n",
    "1. GitHubに接続するSSHキーを新たに登録する場合は、 [GitHubリポジトリの準備/2. SSHキーの登録](03_PrepareGitHub.ipynb#create_ssh_key)を使って作成して下さい。\n",
    "2. [GitHubリポジトリの準備/3. GitHubリポジトリ接続情報の設定](03_PrepareGitHub.ipynb#connect_github_repo)を使って、バックアップ用のGitHubリポジトリの接続情報を設定して下さい。"
   ]
  },
  {
   "cell_type": "markdown",
   "metadata": {
    "lc_cell_meme": {
     "current": "930496f2-4bfd-11e9-9f74-02420a0001bc",
     "history": [],
     "next": "93049738-4bfd-11e9-9f74-02420a0001bc",
     "previous": "930496a2-4bfd-11e9-9f74-02420a0001bc"
    }
   },
   "source": [
    "# バックアップの準備"
   ]
  },
  {
   "cell_type": "markdown",
   "metadata": {
    "lc_cell_meme": {
     "current": "93049738-4bfd-11e9-9f74-02420a0001bc",
     "history": [],
     "next": "93049788-4bfd-11e9-9f74-02420a0001bc",
     "previous": "930496f2-4bfd-11e9-9f74-02420a0001bc"
    }
   },
   "source": [
    "このNotebookを実行すると、ホームディレクトリ直下の下記のフォルダをGitHubリポジトリに保存します。<br/>\n",
    "**バックアップしたいファイル/フォルダは、下記のフォルダに移動してください。**\n",
    "* `textbook`\n",
    "  + 教材Notebookおよび教材Notebookから呼び出すスクリプトなど\n",
    "* `info`\n",
    "  + 受講者が参照する参考資料など\n",
    "* `draft`\n",
    "  + 教材以外で保存して置きたいNotebook、その他ファイル\n",
    "\n",
    "注） GitHubには `test` フォルダも保存されます。\n",
    "* `test` フォルダは、この教材の自動テストに必要なファイルを保存するフォルダです。\n",
    "* **`test` フォルダにはその他のファイルを格納しないで下さい。**"
   ]
  },
  {
   "cell_type": "markdown",
   "metadata": {
    "lc_cell_meme": {
     "current": "93049788-4bfd-11e9-9f74-02420a0001bc",
     "history": [],
     "next": "930497ce-4bfd-11e9-9f74-02420a0001bc",
     "previous": "93049738-4bfd-11e9-9f74-02420a0001bc"
    }
   },
   "source": [
    "# その他にバックアップしたいファイル/フォルダがある場合"
   ]
  },
  {
   "cell_type": "markdown",
   "metadata": {
    "lc_cell_meme": {
     "current": "930497ce-4bfd-11e9-9f74-02420a0001bc",
     "history": [],
     "next": "9304981e-4bfd-11e9-9f74-02420a0001bc",
     "previous": "93049788-4bfd-11e9-9f74-02420a0001bc"
    }
   },
   "source": [
    "もし、`textbook`、`info`、`draft` 以外に保存したいファイルまたはフォルダがある場合は、`INCLUDES` にスペース区切りで列挙して下さい。\n",
    "* `textbook`、`info`、`draft`、`test` フォルダは必ずバックアップに保存されます。\n",
    "* 管理用Notebookフォルダ `tools` はバックアップに保存されません\n",
    "```\n",
    "%env INCLUDES=ext-textbook ext-data Sample.ipynb\n",
    "```\n",
    "\n",
    "**次のセルでバックアップに含めたいファイル/フォルダを指定して、セルを実行して下さい。**"
   ]
  },
  {
   "cell_type": "code",
   "execution_count": null,
   "metadata": {
    "lc_cell_meme": {
     "current": "9304981e-4bfd-11e9-9f74-02420a0001bc",
     "history": [],
     "next": "9304986e-4bfd-11e9-9f74-02420a0001bc",
     "previous": "930497ce-4bfd-11e9-9f74-02420a0001bc"
    }
   },
   "outputs": [],
   "source": [
    "%env INCLUDES="
   ]
  },
  {
   "cell_type": "markdown",
   "metadata": {
    "lc_cell_meme": {
     "current": "9304986e-4bfd-11e9-9f74-02420a0001bc",
     "history": [],
     "next": "930498b4-4bfd-11e9-9f74-02420a0001bc",
     "previous": "9304981e-4bfd-11e9-9f74-02420a0001bc"
    }
   },
   "source": [
    "# GitHubにpushします"
   ]
  },
  {
   "cell_type": "markdown",
   "metadata": {
    "lc_cell_meme": {
     "current": "930498b4-4bfd-11e9-9f74-02420a0001bc",
     "history": [],
     "next": "93049904-4bfd-11e9-9f74-02420a0001bc",
     "previous": "9304986e-4bfd-11e9-9f74-02420a0001bc"
    }
   },
   "source": [
    "指定したGitHub repositoryに保存します。\n",
    "\n",
    "```\n",
    "%env COMMIT_MESSAGE=Add special notebook.\n",
    "```\n",
    "\n",
    "**次のセルで、commitメッセージを設定して下さい。**"
   ]
  },
  {
   "cell_type": "code",
   "execution_count": null,
   "metadata": {
    "lc_cell_meme": {
     "current": "93049904-4bfd-11e9-9f74-02420a0001bc",
     "history": [],
     "next": "9304994a-4bfd-11e9-9f74-02420a0001bc",
     "previous": "930498b4-4bfd-11e9-9f74-02420a0001bc"
    }
   },
   "outputs": [],
   "source": [
    "%env COMMIT_MESSAGE="
   ]
  },
  {
   "cell_type": "markdown",
   "metadata": {
    "lc_cell_meme": {
     "current": "9304994a-4bfd-11e9-9f74-02420a0001bc",
     "history": [],
     "next": "9304999a-4bfd-11e9-9f74-02420a0001bc",
     "previous": "93049904-4bfd-11e9-9f74-02420a0001bc"
    }
   },
   "source": [
    "**次のセルを実行して、GitHubに保存して下さい。**"
   ]
  },
  {
   "cell_type": "code",
   "execution_count": null,
   "metadata": {
    "lc_cell_meme": {
     "current": "9304999a-4bfd-11e9-9f74-02420a0001bc",
     "history": [],
     "next": null,
     "previous": "9304994a-4bfd-11e9-9f74-02420a0001bc"
    }
   },
   "outputs": [],
   "source": [
    "%%bash\n",
    "\n",
    "cd\n",
    "comm -13 <(sort ~/.ssh/known_hosts) <(ssh-keyscan github.com 2>/dev/null | sort) >>~/.ssh/known_hosts \n",
    "\n",
    "IS_INSIDE_REPO=0\n",
    "S=\"$(git rev-parse --is-inside-work-tree 2>/dev/null)\"\n",
    "[ $? -eq 0 -a \"${S}\" = \"true\" ] && IS_INSIDE_REPO=1\n",
    "\n",
    "if [ ${IS_INSIDE_REPO} -ne 1 ]; then\n",
    "  echo \"ERROR: git repository not initialized.\" 1>&2\n",
    "  exit 1\n",
    "fi\n",
    "\n",
    "if [ ! -z \"${INCLUDES}\" ]; then\n",
    "  for item in ${INCLUDES}; do\n",
    "    git add -A \"${item}\"\n",
    "  done\n",
    "fi\n",
    "\n",
    "if [ -z \"${COMMIT_MESSAGE}\" ]; then\n",
    "  COMMIT_MESSAGE=\"Backup of $(< /etc/courseware.configmap/fqdn).\"\n",
    "fi\n",
    "\n",
    "git add -A ./textbook/ ./info/ ./draft/\n",
    "git fetch --force origin\n",
    "git merge -s recursive -X ours origin/master\n",
    "git commit -m \"${COMMIT_MESSAGE}\"\n",
    "git push --set-upstream origin master"
   ]
  }
 ],
 "metadata": {
  "kernelspec": {
   "display_name": "Python 3",
   "language": "python",
   "name": "python3"
  },
  "language_info": {
   "codemirror_mode": {
    "name": "ipython",
    "version": 3
   },
   "file_extension": ".py",
   "mimetype": "text/x-python",
   "name": "python",
   "nbconvert_exporter": "python",
   "pygments_lexer": "ipython3",
   "version": "3.6.8"
  },
  "lc_notebook_meme": {
   "current": "930492c4-4bfd-11e9-9f74-02420a0001bc",
   "history": [],
   "root_cells": [
    "930494a4-4bfd-11e9-9f74-02420a0001bc",
    "9304954e-4bfd-11e9-9f74-02420a0001bc",
    "930495b2-4bfd-11e9-9f74-02420a0001bc",
    "93049602-4bfd-11e9-9f74-02420a0001bc",
    "93049652-4bfd-11e9-9f74-02420a0001bc",
    "930496a2-4bfd-11e9-9f74-02420a0001bc",
    "930496f2-4bfd-11e9-9f74-02420a0001bc",
    "93049738-4bfd-11e9-9f74-02420a0001bc",
    "93049788-4bfd-11e9-9f74-02420a0001bc",
    "930497ce-4bfd-11e9-9f74-02420a0001bc",
    "9304981e-4bfd-11e9-9f74-02420a0001bc",
    "9304986e-4bfd-11e9-9f74-02420a0001bc",
    "930498b4-4bfd-11e9-9f74-02420a0001bc",
    "93049904-4bfd-11e9-9f74-02420a0001bc",
    "9304994a-4bfd-11e9-9f74-02420a0001bc",
    "9304999a-4bfd-11e9-9f74-02420a0001bc"
   ]
  },
  "toc": {
   "base_numbering": 1,
   "nav_menu": {},
   "number_sections": true,
   "sideBar": true,
   "skip_h1_title": false,
   "title_cell": "Table of Contents",
   "title_sidebar": "Contents",
   "toc_cell": false,
   "toc_position": {},
   "toc_section_display": true,
   "toc_window_display": true
  }
 },
 "nbformat": 4,
 "nbformat_minor": 2
}
