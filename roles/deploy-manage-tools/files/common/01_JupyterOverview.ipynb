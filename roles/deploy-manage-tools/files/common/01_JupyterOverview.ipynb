{
 "cells": [
  {
   "cell_type": "markdown",
   "metadata": {
    "lc_cell_meme": {
     "current": "907db35a-4bfd-11e9-b98e-02420a0001bc",
     "history": [],
     "next": "907db3dc-4bfd-11e9-b98e-02420a0001bc",
     "previous": null
    }
   },
   "source": [
    "---\n",
    "# 演習ドキュメントの提供環境Jupyterの概要\n",
    "---"
   ]
  },
  {
   "cell_type": "markdown",
   "metadata": {
    "lc_cell_meme": {
     "current": "907db3dc-4bfd-11e9-b98e-02420a0001bc",
     "history": [],
     "next": "907db440-4bfd-11e9-b98e-02420a0001bc",
     "previous": "907db35a-4bfd-11e9-b98e-02420a0001bc"
    }
   },
   "source": [
    "## Jupyterは…\n",
    "---\n",
    "\n",
    "* Webブラウザを用いてアクセスでき、\n",
    "* Markdown形式で記述されたドキュメントの表示と、\n",
    "* 部分的に任意の言語(コード)を埋め込み可能で、\u000b",
    "そのコードの表示、その場での実行、結果の表示が行える\n",
    "* インタラクティブなインターフェイスを提供するツール\n",
    "* PDFよりもインタラクティブ性が高く、Eラーニングシステムとして利用できる側面がある\n",
    "\n",
    "![jupyteroverview-1](https://cloud.githubusercontent.com/assets/1156894/20752911/230fa406-b747-11e6-94f1-83966a550c74.png)\n"
   ]
  },
  {
   "cell_type": "markdown",
   "metadata": {
    "lc_cell_meme": {
     "current": "907db440-4bfd-11e9-b98e-02420a0001bc",
     "history": [],
     "next": "907db490-4bfd-11e9-b98e-02420a0001bc",
     "previous": "907db3dc-4bfd-11e9-b98e-02420a0001bc"
    }
   },
   "source": [
    "## Jupyterの構造\n",
    "---\n",
    "Jupyterは、ドキュメントを開くと同時に、対になるBashなどのプロセスを起動し、それと相互通信を行う。Jupyter ServerとブラウザはWebSocketで接続されている。<br/>\n",
    "※ ipynb ... iPython Notebookの略。Jupyterの旧称\n",
    "\n",
    "![jupyteroverview-2](https://cloud.githubusercontent.com/assets/1156894/20753127/43192ef6-b748-11e6-9f57-417e06a687c2.png)\n"
   ]
  },
  {
   "cell_type": "markdown",
   "metadata": {
    "lc_cell_meme": {
     "current": "907db490-4bfd-11e9-b98e-02420a0001bc",
     "history": [],
     "next": "907db4e0-4bfd-11e9-b98e-02420a0001bc",
     "previous": "907db440-4bfd-11e9-b98e-02420a0001bc"
    }
   },
   "source": [
    "## Bash Kernelを使う\n",
    "---\n",
    "![jupyteroverview-3](https://cloud.githubusercontent.com/assets/1156894/20754341/d8b6e6b0-b74d-11e6-85e7-fe5a1510ec63.png)"
   ]
  },
  {
   "cell_type": "markdown",
   "metadata": {
    "lc_cell_meme": {
     "current": "907db4e0-4bfd-11e9-b98e-02420a0001bc",
     "history": [],
     "next": "907db530-4bfd-11e9-b98e-02420a0001bc",
     "previous": "907db490-4bfd-11e9-b98e-02420a0001bc"
    }
   },
   "source": [
    "## Bash Kernelでコマンドを実行する\n",
    "---\n",
    "![jupyteroverview-4](https://cloud.githubusercontent.com/assets/1156894/20754344/db2d362e-b74d-11e6-947f-500c06ca24a7.png)"
   ]
  },
  {
   "cell_type": "markdown",
   "metadata": {
    "lc_cell_meme": {
     "current": "907db530-4bfd-11e9-b98e-02420a0001bc",
     "history": [],
     "next": "907db58a-4bfd-11e9-b98e-02420a0001bc",
     "previous": "907db4e0-4bfd-11e9-b98e-02420a0001bc"
    }
   },
   "source": [
    "## Kernelが起動している状態\n",
    "---\n",
    "![jupyteroverview-5](https://cloud.githubusercontent.com/assets/1156894/20754345/dd95ce44-b74d-11e6-9aaf-d3168d431690.png)"
   ]
  },
  {
   "cell_type": "markdown",
   "metadata": {
    "lc_cell_meme": {
     "current": "907db58a-4bfd-11e9-b98e-02420a0001bc",
     "history": [],
     "next": "907db5da-4bfd-11e9-b98e-02420a0001bc",
     "previous": "907db530-4bfd-11e9-b98e-02420a0001bc"
    }
   },
   "source": [
    "## Kernelが起動している間は状態が維持される\n",
    "---\n",
    "![jupyteroverview-6](https://cloud.githubusercontent.com/assets/1156894/20754350/e02da442-b74d-11e6-9adb-8eb5d29b2fc9.png)\n",
    "Jupyterは、Kernelとして起動したプロセスがある限り、そのプロセスと通信を続ける。<br/>\n",
    "プロセスの状態が変化すれば、それは次に実行されるCellの中から参照ができる。"
   ]
  },
  {
   "cell_type": "markdown",
   "metadata": {
    "lc_cell_meme": {
     "current": "907db5da-4bfd-11e9-b98e-02420a0001bc",
     "history": [],
     "next": "907db62a-4bfd-11e9-b98e-02420a0001bc",
     "previous": "907db58a-4bfd-11e9-b98e-02420a0001bc"
    }
   },
   "source": [
    "## Kernel終了と再起動\n",
    "---\n",
    "![jupyteroverview-7](https://cloud.githubusercontent.com/assets/1156894/20754355/e49df18a-b74d-11e6-84f6-0de98fb144be.png)"
   ]
  },
  {
   "cell_type": "markdown",
   "metadata": {
    "lc_cell_meme": {
     "current": "907db62a-4bfd-11e9-b98e-02420a0001bc",
     "history": [],
     "next": "907db67a-4bfd-11e9-b98e-02420a0001bc",
     "previous": "907db5da-4bfd-11e9-b98e-02420a0001bc"
    }
   },
   "source": [
    "## 便利なターミナル機能\n",
    "---\n",
    "従来通り、ターミナルから色々と試したい場合は、Jupyter上で新規にターミナルウインドウを開くことができます。\n",
    "Cellの中で確認しづらい事は、こちらを利用すると便利です。\n",
    "![jupyteroverview-8](https://cloud.githubusercontent.com/assets/1156894/20754362/e85383bc-b74d-11e6-93e5-8f5d7339d304.png)\n",
    "上記のように、Wakame-vdcで起動したインスタンスにもssh接続できます。"
   ]
  },
  {
   "cell_type": "markdown",
   "metadata": {
    "lc_cell_meme": {
     "current": "907db67a-4bfd-11e9-b98e-02420a0001bc",
     "history": [],
     "next": null,
     "previous": "907db62a-4bfd-11e9-b98e-02420a0001bc"
    }
   },
   "source": [
    "## 【参考】Jupyterからpingのような処理が継続するコマンドを打つ\n",
    "---\n",
    "![jupyteroverview-9](https://cloud.githubusercontent.com/assets/1156894/20754371/ebc78980-b74d-11e6-9d0a-988755543aa1.png)\n"
   ]
  }
 ],
 "metadata": {
  "kernelspec": {
   "display_name": "Python 3",
   "language": "python",
   "name": "python3"
  },
  "language_info": {
   "codemirror_mode": {
    "name": "ipython",
    "version": 3
   },
   "file_extension": ".py",
   "mimetype": "text/x-python",
   "name": "python",
   "nbconvert_exporter": "python",
   "pygments_lexer": "ipython3",
   "version": "3.6.8"
  },
  "lc_notebook_meme": {
   "current": "907db1f2-4bfd-11e9-b98e-02420a0001bc",
   "history": [],
   "root_cells": [
    "907db35a-4bfd-11e9-b98e-02420a0001bc",
    "907db3dc-4bfd-11e9-b98e-02420a0001bc",
    "907db440-4bfd-11e9-b98e-02420a0001bc",
    "907db490-4bfd-11e9-b98e-02420a0001bc",
    "907db4e0-4bfd-11e9-b98e-02420a0001bc",
    "907db530-4bfd-11e9-b98e-02420a0001bc",
    "907db58a-4bfd-11e9-b98e-02420a0001bc",
    "907db5da-4bfd-11e9-b98e-02420a0001bc",
    "907db62a-4bfd-11e9-b98e-02420a0001bc",
    "907db67a-4bfd-11e9-b98e-02420a0001bc"
   ]
  },
  "toc": {
   "base_numbering": 1,
   "nav_menu": {},
   "number_sections": true,
   "sideBar": true,
   "skip_h1_title": false,
   "title_cell": "Table of Contents",
   "title_sidebar": "Contents",
   "toc_cell": false,
   "toc_position": {},
   "toc_section_display": true,
   "toc_window_display": false
  }
 },
 "nbformat": 4,
 "nbformat_minor": 1
}
