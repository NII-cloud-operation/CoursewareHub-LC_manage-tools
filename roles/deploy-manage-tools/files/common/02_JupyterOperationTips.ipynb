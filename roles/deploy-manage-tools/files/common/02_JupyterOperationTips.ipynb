{
 "cells": [
  {
   "cell_type": "markdown",
   "metadata": {
    "lc_cell_meme": {
     "current": "90d94f30-4bfd-11e9-b582-02420a0001bc",
     "history": [],
     "next": "90d95084-4bfd-11e9-b582-02420a0001bc",
     "previous": null
    }
   },
   "source": [
    "# Jupyterの画面操作Tips\n",
    "<HR>"
   ]
  },
  {
   "cell_type": "markdown",
   "metadata": {
    "lc_cell_meme": {
     "current": "90d95084-4bfd-11e9-b582-02420a0001bc",
     "history": [],
     "next": "90d950fc-4bfd-11e9-b582-02420a0001bc",
     "previous": "90d94f30-4bfd-11e9-b582-02420a0001bc"
    }
   },
   "source": [
    "ここでは、Jupyterの主な画面操作を簡単に説明します。<br/>\n",
    "Jupyterの概要については、[こちら](./01_JupyterOverview.ipynb)をご覧下さい。"
   ]
  },
  {
   "cell_type": "markdown",
   "metadata": {
    "lc_cell_meme": {
     "current": "90d950fc-4bfd-11e9-b582-02420a0001bc",
     "history": [],
     "next": "90d95156-4bfd-11e9-b582-02420a0001bc",
     "previous": "90d95084-4bfd-11e9-b582-02420a0001bc"
    }
   },
   "source": [
    "## 1. ファイル/フォルダの操作"
   ]
  },
  {
   "cell_type": "markdown",
   "metadata": {
    "lc_cell_meme": {
     "current": "90d95156-4bfd-11e9-b582-02420a0001bc",
     "history": [],
     "next": "90d951a6-4bfd-11e9-b582-02420a0001bc",
     "previous": "90d950fc-4bfd-11e9-b582-02420a0001bc"
    }
   },
   "source": [
    "### notebookを作成する<a name=\"create_note\" />\n",
    "---\n",
    "1. 利用する Kernel を決めます。Bash、Python2、Python3から選択します。\n",
    "2. ダッシュボード画面右上のプルダウンメニュー [New] から選択したKernelをクリックします。「Untitled.ipynb」が表示されます。"
   ]
  },
  {
   "cell_type": "markdown",
   "metadata": {
    "lc_cell_meme": {
     "current": "90d951a6-4bfd-11e9-b582-02420a0001bc",
     "history": [],
     "next": "90d95200-4bfd-11e9-b582-02420a0001bc",
     "previous": "90d95156-4bfd-11e9-b582-02420a0001bc"
    }
   },
   "source": [
    "### テキストファイルを作成する<a name=\"create_textfile\" />\n",
    "---\n",
    "1. Jupyterのダッシュボード画面でFilesタブを表示します。\n",
    "2. 画面右上のプルダウンメニュー [New] から [Text File] を選択します。編集画面が表示されます。\n",
    "3. ファイルを保存するには、画面上の [Files] メニューから [Save] を選択します。"
   ]
  },
  {
   "cell_type": "markdown",
   "metadata": {
    "lc_cell_meme": {
     "current": "90d95200-4bfd-11e9-b582-02420a0001bc",
     "history": [],
     "next": "90d9525a-4bfd-11e9-b582-02420a0001bc",
     "previous": "90d951a6-4bfd-11e9-b582-02420a0001bc"
    }
   },
   "source": [
    "### ファイルを保存する<a name=\"save_file\" />\n",
    "---\n",
    "notebookやその他のファイルを保存します。２つの方法があります。\n",
    "* notebook画面上部の　[ディスク] アイコン をクリックします。\n",
    "* notebook画面上部のメニューから [File][Save and Checkpoint] をクリックします。"
   ]
  },
  {
   "cell_type": "markdown",
   "metadata": {
    "lc_cell_meme": {
     "current": "90d9525a-4bfd-11e9-b582-02420a0001bc",
     "history": [],
     "next": "90d952aa-4bfd-11e9-b582-02420a0001bc",
     "previous": "90d95200-4bfd-11e9-b582-02420a0001bc"
    }
   },
   "source": [
    "### ファイルをコピーする<a name=\"copy_file\" />\n",
    "---\n",
    "1. Jupyterのダッシュボード画面でFilesタブへ移動します。\n",
    "2. コピーするするファイル先頭のチェックボックスをクリックします。\n",
    "4. 画面上部の [Duplicate] ボタンをクリックします。確認ダイアログが表示されます。\n",
    "5. 確認ダイアログで[Duplicate] ボタンをクリックします。「選択したファイル名-Copy」という名称のファイルが作成されます。\n",
    "6. 必要があれば<a href=\"#rename_note\">notebookの名前を変更する</a>及び<a href=\"#rename_file\">ファイル/フォルダの名前を変更する</a>にしたがって、ファイル名を変更して下さい。"
   ]
  },
  {
   "cell_type": "markdown",
   "metadata": {
    "lc_cell_meme": {
     "current": "90d952aa-4bfd-11e9-b582-02420a0001bc",
     "history": [],
     "next": "90d95304-4bfd-11e9-b582-02420a0001bc",
     "previous": "90d9525a-4bfd-11e9-b582-02420a0001bc"
    }
   },
   "source": [
    "### フォルダを作成する<a name=\"folder\" />\n",
    "---\n",
    "1. Jupyterのダッシュボード画面でFilesタブを表示します。\n",
    "2. 画面右上のプルダウンメニュー [New] から [Folder] をクリックします。「Untitled Folder」が作成されます。\n",
    "3. 「Untitled Folder」先頭のチェックボックスをクリックします。\n",
    "4. 画面上部の [Rename] ボタンをクリックします。「Rename directory」ダイアログが表示されます。\n",
    "5. 名前に変更して、[Rename] ボタンをクリックします。"
   ]
  },
  {
   "cell_type": "markdown",
   "metadata": {
    "lc_cell_meme": {
     "current": "90d95304-4bfd-11e9-b582-02420a0001bc",
     "history": [],
     "next": "90d95354-4bfd-11e9-b582-02420a0001bc",
     "previous": "90d952aa-4bfd-11e9-b582-02420a0001bc"
    }
   },
   "source": [
    "### notebookの名前を変更する <a name=\"rename_note\" />\n",
    "---\n",
    "1. 名前を変更するnotebookが表示されている場合は、notebookを保存してブラウザのタブを閉じます。\n",
    "2. Jupyterのダッシュボード画面でFilesタブへ移動します。\n",
    "3. 名前を変更するnotebooke先頭のチェックボックスをクリックします。\n",
    "4. 画面上部の [Shutdown] ボタンをクリックします。Kernelが終了します。\n",
    "5. 再度、名前を変更するnotebooke先頭のチェックボックスをクリックします。\n",
    "6. 画面上部の [Rename] ボタンをクリックします。「Rename directory」ダイアログが表示されます。\n",
    "7. 名前を変更して、[Rename] ボタンをクリックします。"
   ]
  },
  {
   "cell_type": "markdown",
   "metadata": {
    "lc_cell_meme": {
     "current": "90d95354-4bfd-11e9-b582-02420a0001bc",
     "history": [],
     "next": "90d953ae-4bfd-11e9-b582-02420a0001bc",
     "previous": "90d95304-4bfd-11e9-b582-02420a0001bc"
    }
   },
   "source": [
    "### notebook以外のファイル/フォルダの名前を変更する<a name=\"rename_file\" />\n",
    "---\n",
    "1. Jupyterのダッシュボード画面でFilesタブへ移動します。\n",
    "2. 名前を変更するファイル/フォルダ先頭のチェックボックスをクリックします。\n",
    "3. 画面上部の[Rename] ボタンをクリックします。「Rename directory」ダイアログが表示されます。\n",
    "4. 名前を変更して、[Rename] ボタンをクリックします。"
   ]
  },
  {
   "cell_type": "markdown",
   "metadata": {
    "lc_cell_meme": {
     "current": "90d953ae-4bfd-11e9-b582-02420a0001bc",
     "history": [],
     "next": "90d953fe-4bfd-11e9-b582-02420a0001bc",
     "previous": "90d95354-4bfd-11e9-b582-02420a0001bc"
    }
   },
   "source": [
    "### notebookを移動する <a name=\"move_note\" />\n",
    "---\n",
    "notebookを他のフォルダへ移動します。\n",
    "1. 名前を変更するnotebookが表示されている場合は、notebookを保存してブラウザのタブを閉じます。\n",
    "2. Jupyterのダッシュボード画面でFilesタブへ移動します。\n",
    "3. 移動するnotebooke先頭のチェックボックスをクリックします。\n",
    "4. 画面上部の [Shutdown] ボタンをクリックします。Kernelが終了します。\n",
    "5. 再度、移動するnotebooke先頭のチェックボックスをクリックします。\n",
    "6. 画面上部の [Move] をクリックします。「Move」ダイアログが表示されます。\n",
    "7. 移動先フォルダを指定して、[Move] ボタンをクリックします。\n",
    "  + 移動先フォルダを指定しない場合は、ホームディレクトリ直下が移動先になります。"
   ]
  },
  {
   "cell_type": "markdown",
   "metadata": {
    "lc_cell_meme": {
     "current": "90d953fe-4bfd-11e9-b582-02420a0001bc",
     "history": [],
     "next": "90d95458-4bfd-11e9-b582-02420a0001bc",
     "previous": "90d953ae-4bfd-11e9-b582-02420a0001bc"
    }
   },
   "source": [
    "### notebook以外のファイル/フォルダを移動する <a name=\"move_file\" />\n",
    "---\n",
    "notebook以外のファイル/フォルダを他のフォルダへ移動します。\n",
    "1. Jupyterのダッシュボード画面でFilesタブへ移動します。\n",
    "2. 移動するファイル/フォルダ先頭のチェックボックスをクリックします。\n",
    "3. 画面上部の[Move] ボタンをクリックします。「Move」ダイアログが表示されます。\n",
    "4. 移動先フォルダを指定して、[Move] ボタンをクリックします。\n",
    "  + 移動先フォルダを指定しない場合は、ホームディレクトリ直下が移動先になります。"
   ]
  },
  {
   "cell_type": "markdown",
   "metadata": {
    "lc_cell_meme": {
     "current": "90d95458-4bfd-11e9-b582-02420a0001bc",
     "history": [],
     "next": "90d954a8-4bfd-11e9-b582-02420a0001bc",
     "previous": "90d953fe-4bfd-11e9-b582-02420a0001bc"
    }
   },
   "source": [
    "## 2. ファイルのアップロードとダウンロード"
   ]
  },
  {
   "cell_type": "markdown",
   "metadata": {
    "lc_cell_meme": {
     "current": "90d954a8-4bfd-11e9-b582-02420a0001bc",
     "history": [],
     "next": "90d954f8-4bfd-11e9-b582-02420a0001bc",
     "previous": "90d95458-4bfd-11e9-b582-02420a0001bc"
    }
   },
   "source": [
    "### ファイルをアップロードする<a name=\"upload_file\" />\n",
    "---\n",
    "1. Jupyterのダッシュボード画面でFilesタブを表示します。\n",
    "2. 画面右上の[Upload]ボタンをクリックします。ファイル選択ダイアログが表示されます。\n",
    "3. ファイル選択ダイアログでアップロードしたいファイルを選択します。（複数選択できます）\n",
    "4. [開く]ボタンをクリックします。選択したファイルが一覧に表示されます。\n",
    "5. 表示されたファイルの右にある[Upload]ボタンをクリックします。"
   ]
  },
  {
   "cell_type": "markdown",
   "metadata": {
    "lc_cell_meme": {
     "current": "90d954f8-4bfd-11e9-b582-02420a0001bc",
     "history": [],
     "next": "90d95548-4bfd-11e9-b582-02420a0001bc",
     "previous": "90d954a8-4bfd-11e9-b582-02420a0001bc"
    }
   },
   "source": [
    "### notebookをダウンロードする <a name=\"download_note\" />\n",
    "---\n",
    "notebookをローカルマシンへダウンロードします。\n",
    "1. 名前を変更するnotebookが表示されている場合は、notebookを保存してブラウザのタブを閉じます。\n",
    "2. Jupyterのダッシュボード画面でFilesタブへ移動します。\n",
    "3. ダウンロードするnotebooke先頭のチェックボックスをクリックします。\n",
    "4. 画面上部の [Shutdown] ボタンをクリックします。Kernelが終了します。\n",
    "5. 再度、ダウンロードするnotebooke先頭のチェックボックスをクリックします。\n",
    "6. 画面上部の [Download] をクリックします。"
   ]
  },
  {
   "cell_type": "markdown",
   "metadata": {
    "lc_cell_meme": {
     "current": "90d95548-4bfd-11e9-b582-02420a0001bc",
     "history": [],
     "next": "90d95598-4bfd-11e9-b582-02420a0001bc",
     "previous": "90d954f8-4bfd-11e9-b582-02420a0001bc"
    }
   },
   "source": [
    "### notebook以外のファイルをダウンロードする <a name=\"download_file\" />\n",
    "---\n",
    "notebook以外のファイルを、ローカルマシンへダウンロードします。\n",
    "1. Jupyterのダッシュボード画面でFilesタブへ移動します。\n",
    "3. ダウンロードするnotebooke先頭のチェックボックスをクリックします。\n",
    "2. 画面上部の [Download] をクリックします。"
   ]
  },
  {
   "cell_type": "markdown",
   "metadata": {
    "lc_cell_meme": {
     "current": "90d95598-4bfd-11e9-b582-02420a0001bc",
     "history": [],
     "next": "90d955f2-4bfd-11e9-b582-02420a0001bc",
     "previous": "90d95548-4bfd-11e9-b582-02420a0001bc"
    }
   },
   "source": [
    "## 3. Notebookの操作"
   ]
  },
  {
   "cell_type": "markdown",
   "metadata": {
    "lc_cell_meme": {
     "current": "90d955f2-4bfd-11e9-b582-02420a0001bc",
     "history": [],
     "next": "90d95642-4bfd-11e9-b582-02420a0001bc",
     "previous": "90d95598-4bfd-11e9-b582-02420a0001bc"
    }
   },
   "source": [
    "### セルを実行する\n",
    "---\n",
    "notebookでコードを記述したセルは、その場で実行でき、実行結果はセルの直下に出力されます。<br/>\n",
    "セルは次の方法で実行します。\n",
    "* ショートカットキーで実行する\n",
    "  + セルを選択して、キーボードから shift+Enter を入力する。セルを実行して、次のセルが選択されます。\n",
    "  + セルを選択して、キーボードから ctrl+Enter を入力する。セルを実行して、実行したセルの選択を保持します。\n",
    "* notebook画面上のメニュー [Cell] から [Run Cells] を選択する。\n",
    "  + [Cell] メニューには、全セルを実行する、選択しているセルの後を全部実行する、などの機能が用意されています。"
   ]
  },
  {
   "cell_type": "markdown",
   "metadata": {
    "lc_cell_meme": {
     "current": "90d95642-4bfd-11e9-b582-02420a0001bc",
     "history": [],
     "next": "90d95692-4bfd-11e9-b582-02420a0001bc",
     "previous": "90d955f2-4bfd-11e9-b582-02420a0001bc"
    }
   },
   "source": [
    "## 4. ターミナルを利用する<a name=\"terminal\" />\n"
   ]
  },
  {
   "cell_type": "markdown",
   "metadata": {
    "lc_cell_meme": {
     "current": "90d95692-4bfd-11e9-b582-02420a0001bc",
     "history": [],
     "next": "90d956e2-4bfd-11e9-b582-02420a0001bc",
     "previous": "90d95642-4bfd-11e9-b582-02420a0001bc"
    }
   },
   "source": [
    "### ターミナルを開く<a name=\"terminal_open\" />\n",
    "---\n",
    "1. Jupyterのダッシュボード画面でFilesタブを表示します。\n",
    "2. 画面右上のプルダウンメニュー [New] から [Terminal] を選択します。ターミナル画面が表示されます。"
   ]
  },
  {
   "cell_type": "markdown",
   "metadata": {
    "lc_cell_meme": {
     "current": "90d956e2-4bfd-11e9-b582-02420a0001bc",
     "history": [],
     "next": null,
     "previous": "90d95692-4bfd-11e9-b582-02420a0001bc"
    }
   },
   "source": [
    "### ターミナルを閉じる<a name=\"terminal_close\" />\n",
    "---\n",
    "1. 閉じるターミナルのURLの最後尾にある番号を記録しておきます。\n",
    "2. ターミナルを表示しているWebブラウザ画面（またはタブ）を閉じます。\n",
    "2. Jupyterのダッシュボード画面でRunningタブを表示します。\n",
    "3. Terminals欄で、記録しておいた番号のターミナルの [Shutdown] ボタンをクリックします。"
   ]
  }
 ],
 "metadata": {
  "kernelspec": {
   "display_name": "Python 3",
   "language": "python",
   "name": "python3"
  },
  "language_info": {
   "codemirror_mode": {
    "name": "ipython",
    "version": 3
   },
   "file_extension": ".py",
   "mimetype": "text/x-python",
   "name": "python",
   "nbconvert_exporter": "python",
   "pygments_lexer": "ipython3",
   "version": "3.6.8"
  },
  "lc_notebook_meme": {
   "current": "90d94de6-4bfd-11e9-b582-02420a0001bc",
   "history": [],
   "root_cells": [
    "90d94f30-4bfd-11e9-b582-02420a0001bc",
    "90d95084-4bfd-11e9-b582-02420a0001bc",
    "90d950fc-4bfd-11e9-b582-02420a0001bc",
    "90d95156-4bfd-11e9-b582-02420a0001bc",
    "90d951a6-4bfd-11e9-b582-02420a0001bc",
    "90d95200-4bfd-11e9-b582-02420a0001bc",
    "90d9525a-4bfd-11e9-b582-02420a0001bc",
    "90d952aa-4bfd-11e9-b582-02420a0001bc",
    "90d95304-4bfd-11e9-b582-02420a0001bc",
    "90d95354-4bfd-11e9-b582-02420a0001bc",
    "90d953ae-4bfd-11e9-b582-02420a0001bc",
    "90d953fe-4bfd-11e9-b582-02420a0001bc",
    "90d95458-4bfd-11e9-b582-02420a0001bc",
    "90d954a8-4bfd-11e9-b582-02420a0001bc",
    "90d954f8-4bfd-11e9-b582-02420a0001bc",
    "90d95548-4bfd-11e9-b582-02420a0001bc",
    "90d95598-4bfd-11e9-b582-02420a0001bc",
    "90d955f2-4bfd-11e9-b582-02420a0001bc",
    "90d95642-4bfd-11e9-b582-02420a0001bc",
    "90d95692-4bfd-11e9-b582-02420a0001bc",
    "90d956e2-4bfd-11e9-b582-02420a0001bc"
   ]
  },
  "toc": {
   "base_numbering": 1,
   "nav_menu": {},
   "number_sections": true,
   "sideBar": true,
   "skip_h1_title": false,
   "title_cell": "Table of Contents",
   "title_sidebar": "Contents",
   "toc_cell": false,
   "toc_position": {},
   "toc_section_display": true,
   "toc_window_display": false
  }
 },
 "nbformat": 4,
 "nbformat_minor": 1
}
