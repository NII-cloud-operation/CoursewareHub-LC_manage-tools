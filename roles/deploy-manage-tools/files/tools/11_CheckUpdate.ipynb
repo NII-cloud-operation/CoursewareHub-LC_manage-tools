{
 "cells": [
  {
   "cell_type": "markdown",
   "metadata": {
    "lc_cell_meme": {
     "current": "9d9c7912-fe6d-11ef-9b05-02420a640257",
     "next": "9d9c794e-fe6d-11ef-9b05-02420a640257",
     "previous": null
    }
   },
   "source": [
    "# 教材の更新確認\n",
    "---"
   ]
  },
  {
   "cell_type": "markdown",
   "metadata": {
    "lc_cell_meme": {
     "current": "9d9c794e-fe6d-11ef-9b05-02420a640257",
     "next": "9d9c7976-fe6d-11ef-9b05-02420a640257",
     "previous": "9d9c7912-fe6d-11ef-9b05-02420a640257"
    }
   },
   "source": [
    "ホームディレクトリと `textbook` フォルダの教材を比較して、変更された教材ファイルの一覧を表示します。\n",
    "\n",
    "次のセルを実行して教材の更新の有無を確認してください。"
   ]
  },
  {
   "cell_type": "code",
   "execution_count": null,
   "metadata": {
    "lc_cell_meme": {
     "current": "9d9c7976-fe6d-11ef-9b05-02420a640257",
     "next": "9d9c799e-fe6d-11ef-9b05-02420a640257",
     "previous": "9d9c794e-fe6d-11ef-9b05-02420a640257"
    }
   },
   "outputs": [],
   "source": [
    "import os, sys, urllib.parse, IPython.display, subprocess\n",
    "\n",
    "course_name = os.environ['CWH_COURSE_NAME']\n",
    "server_name = os.environ['JUPYTERHUB_SERVER_NAME']\n",
    "\n",
    "assert course_name != '', \"コース用のサーバー上で実行してください\"\n",
    "\n",
    "HOME_DIR = os.path.expanduser('~')\n",
    "TEXTBOOK_DIR = os.path.join(HOME_DIR, course_name, 'textbook')\n",
    "\n",
    "def get_released_files():\n",
    "    for root, dirs, files in os.walk(TEXTBOOK_DIR):\n",
    "        for file in files:\n",
    "            yield os.path.relpath(os.path.join(root, file), start=TEXTBOOK_DIR)\n",
    "\n",
    "rows = []\n",
    "for file in sorted(get_released_files()):\n",
    "    my_file = os.path.join(HOME_DIR, course_name, file)\n",
    "    if os.path.isfile(my_file):\n",
    "        try:\n",
    "            cmd = './notebook-diff {} {}'.format(os.path.join(TEXTBOOK_DIR, file), my_file)\n",
    "            diff = subprocess.run(cmd, shell=True)\n",
    "            if diff.returncode == 0:\n",
    "                rows.append((0, file, None))\n",
    "            else:\n",
    "                u = None\n",
    "                if file.endswith('.ipynb'):\n",
    "                    p1 = urllib.parse.quote(file, safe='')\n",
    "                    p2 = urllib.parse.quote('/'.join(('textbook', file)), safe='')\n",
    "                    u = '/user-redirect/{}/tree?diffpath1={}&amp;diffpath2={}#notebook_diff'.format(server_name, p2, p1)\n",
    "                rows.append((1, file, u))\n",
    "        except OSError as e:\n",
    "            print('ERROR: notebook-diff failed: {}'.format(e), file=sys.stderr)\n",
    "    else:\n",
    "        rows.append((2, file, None))\n",
    "\n",
    "html = [\n",
    "    '<h3>',\n",
    "    '更新があります' if [r for r in rows if r[0]] else '更新はありません',\n",
    "    '</h3>',\n",
    "    '<table>'\n",
    "]\n",
    "for row in rows:\n",
    "    html.extend([\n",
    "        '<tr style=\"color:{};\">'.format(['#999', '#66c', '#c66'][row[0]]),\n",
    "        '<td style=\"text-align:center;\">',\n",
    "        ['変更なし', '変更あり', '新規'][row[0]],\n",
    "        '<td style=\"text-align:left;\">',\n",
    "        '<code style=\"color:inherit;background-color:transparent;\">',\n",
    "        row[1],\n",
    "        '</code>',\n",
    "        '<td>'\n",
    "    ])\n",
    "    if row[2] is not None:\n",
    "        html.append('<a href=\"{}\" target=\"nbdiff\">差分表示</a>'.format(row[2]))\n",
    "html.append('</table>')\n",
    "\n",
    "IPython.display.display(IPython.display.HTML(''.join(html)))"
   ]
  },
  {
   "cell_type": "markdown",
   "metadata": {
    "lc_cell_meme": {
     "current": "9d9c799e-fe6d-11ef-9b05-02420a640257",
     "next": "9d9c79c6-fe6d-11ef-9b05-02420a640257",
     "previous": "9d9c7976-fe6d-11ef-9b05-02420a640257"
    }
   },
   "source": [
    " "
   ]
  },
  {
   "cell_type": "markdown",
   "metadata": {
    "lc_cell_meme": {
     "current": "9d9c79c6-fe6d-11ef-9b05-02420a640257",
     "next": "9d9c79ee-fe6d-11ef-9b05-02420a640257",
     "previous": "9d9c799e-fe6d-11ef-9b05-02420a640257"
    }
   },
   "source": [
    "---\n",
    "# 教材の更新"
   ]
  },
  {
   "cell_type": "markdown",
   "metadata": {
    "lc_cell_meme": {
     "current": "9d9c79ee-fe6d-11ef-9b05-02420a640257",
     "next": "9d9c7a0c-fe6d-11ef-9b05-02420a640257",
     "previous": "9d9c79c6-fe6d-11ef-9b05-02420a640257"
    }
   },
   "source": [
    "上のセルを実行した結果、「変更あり」もしくは「新規」の教材を取得して更新します。\n",
    "対象となる Notebook に対して行なっている編集や、実行結果は、全て上書きされ破棄されますのでご注意ください。\n",
    "\n",
    "次のセルを実行すると、教材が更新されます。"
   ]
  },
  {
   "cell_type": "code",
   "execution_count": null,
   "metadata": {
    "deletable": false,
    "editable": false,
    "lc_cell_meme": {
     "current": "9d9c7a0c-fe6d-11ef-9b05-02420a640257",
     "next": null,
     "previous": "9d9c79ee-fe6d-11ef-9b05-02420a640257"
    },
    "run_through_control": {
     "frozen": false
    }
   },
   "outputs": [],
   "source": [
    "import os, sys, os.path, shutil\n",
    "\n",
    "if not 'rows' in globals():\n",
    "    print('上のセルを実行してください。', file=sys.stderr)\n",
    "else:\n",
    "    updated = False\n",
    "    for row in [r for r in rows if r[0]]:\n",
    "        src = os.path.join(TEXTBOOK_DIR, row[1])\n",
    "        dst = os.path.join(HOME_DIR, course_name, row[1])\n",
    "        dstdir = os.path.dirname(dst)\n",
    "        if not os.path.isdir(dstdir):\n",
    "            os.makedirs(dstdir, mode=0o755, exist_ok=True)\n",
    "        shutil.copy2(src, dst)\n",
    "        print('{} -> {}'.format(src,dst))\n",
    "        if dst.endswith('.ipynb'):\n",
    "            try:\n",
    "                cmd = 'jupyter-trust {}'.format(dst)\n",
    "                proc = subprocess.run(cmd, shell=True)\n",
    "                if proc.returncode != 0:\n",
    "                    print('trust に失敗: {}'.format(dst), file=sys.stderr)\n",
    "                updated = True\n",
    "            except OSError as e:\n",
    "                print('ERROR: jupyter-trust failed: {}'.format(e), file=sys.stderr)\n",
    "    if updated:\n",
    "        print('教材を更新しました。')\n",
    "    else:\n",
    "        print('更新はありません。', file=sys.stderr)"
   ]
  }
 ],
 "metadata": {
  "kernelspec": {
   "display_name": "Python 3",
   "language": "python",
   "name": "python3"
  },
  "language_info": {
   "file_extension": ".py",
   "mimetype": "text/x-python",
   "name": "python",
   "nbconvert_exporter": "python",
   "pygments_lexer": "ipython3",
   "version": "3.10.11"
  },
  "lc_notebook_meme": {
   "current": "9d9c7778-fe6d-11ef-9b05-02420a640257"
  },
  "toc": {
   "base_numbering": 1,
   "nav_menu": {},
   "number_sections": true,
   "sideBar": true,
   "skip_h1_title": false,
   "title_cell": "Table of Contents",
   "title_sidebar": "Contents",
   "toc_cell": false,
   "toc_position": {},
   "toc_section_display": true,
   "toc_window_display": false
  }
 },
 "nbformat": 4,
 "nbformat_minor": 2
}
