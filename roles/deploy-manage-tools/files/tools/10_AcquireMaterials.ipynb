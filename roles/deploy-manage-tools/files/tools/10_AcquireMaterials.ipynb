{
 "cells": [
  {
   "cell_type": "markdown",
   "metadata": {
    "lc_cell_meme": {
     "current": "3addfb90-5773-11e9-9e9f-02420a0001bc",
     "next": "3addfbea-5773-11e9-9e9f-02420a0001bc",
     "previous": null
    }
   },
   "source": [
    "# 教材の取得\n",
    "---"
   ]
  },
  {
   "cell_type": "markdown",
   "metadata": {
    "lc_cell_meme": {
     "current": "3addfbea-5773-11e9-9e9f-02420a0001bc",
     "next": "3addfc1c-5773-11e9-9e9f-02420a0001bc",
     "previous": "3addfb90-5773-11e9-9e9f-02420a0001bc"
    }
   },
   "source": [
    "`textbook/` フォルダ内の演習Notebookなどの教材を取得します。\n",
    "\n",
    "この講座の教材を利用する場合は、このnoebookを実行して教材を取得します。<br>\n",
    "取得した教材は、Homeディレクトリに配置されます。演習はHomeに配置された演習Notebookで行なって下さい。\n",
    "\n",
    "次のセルを実行して、教材を取得して下さい。"
   ]
  },
  {
   "cell_type": "code",
   "execution_count": null,
   "metadata": {
    "lc_cell_meme": {
     "current": "3addfc1c-5773-11e9-9e9f-02420a0001bc",
     "next": null,
     "previous": "3addfbea-5773-11e9-9e9f-02420a0001bc"
    }
   },
   "outputs": [],
   "source": [
    "%%bash\n",
    "\n",
    "cd\n",
    "umask 0022\n",
    "\n",
    "rsync -vhi -rLkKEtW ~/textbook/ ~/\n",
    "if [ $? -ne 0 ]; then\n",
    "  echo 'Failed to acquire materials.'\n",
    "  exit 1\n",
    "fi\n",
    "\n",
    "find ~/ \\\n",
    "     '(' -path ~/tools \\\n",
    "      -o -path ~/textbook \\\n",
    "      -o -path ~/info \\\n",
    "      -o -path ~/private-info \\\n",
    "      -o -name '.*' ')' -prune \\\n",
    "     -o -type f -name '*.ipynb' \\\n",
    "     -execdir jupyter-trust '{}' ';'"
   ]
  }
 ],
 "metadata": {
  "kernelspec": {
   "display_name": "Python 3",
   "language": "python",
   "name": "python3"
  },
  "language_info": {
   "codemirror_mode": {
    "name": "ipython",
    "version": 3
   },
   "file_extension": ".py",
   "mimetype": "text/x-python",
   "name": "python",
   "nbconvert_exporter": "python",
   "pygments_lexer": "ipython3",
   "version": "3.6.8"
  },
  "toc": {
   "base_numbering": 1,
   "nav_menu": {},
   "number_sections": true,
   "sideBar": true,
   "skip_h1_title": false,
   "title_cell": "Table of Contents",
   "title_sidebar": "Contents",
   "toc_cell": false,
   "toc_position": {},
   "toc_section_display": true,
   "toc_window_display": false
  }
 },
 "nbformat": 4,
 "nbformat_minor": 2
}
