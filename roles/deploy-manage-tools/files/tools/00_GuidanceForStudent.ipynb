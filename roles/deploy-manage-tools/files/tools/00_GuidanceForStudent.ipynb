{
 "cells": [
  {
   "cell_type": "markdown",
   "metadata": {},
   "source": [
    "---\n",
    "# 受講者向けガイダンス\n",
    "---\n",
    "## はじめに\n",
    "---\n",
    "このガイダンスでは、Jupyterを利用した教材の利用方法について説明します。<br/>\n",
    "Jupyterの概要については、[こちら](./01_JupyterOverview.ipynb)を参照して下さい。\n"
   ]
  },
  {
   "cell_type": "markdown",
   "metadata": {},
   "source": [
    "## ホームの構成について\n",
    "---\n",
    "Jupyterにログインすると、Jupyterのダッシュボード画面のFilesタグが表示されます。FilesタグにはHomeディレクトリの内容が表示されています。<br/>\n",
    "Homeディレクトリ配下は以下のフォルダがあります。\n",
    "\n",
    "* textbook\n",
    "  + 演習に利用する教材（notebook、scriptその他）\n",
    "* info\n",
    "  + 受講者全員に向けた資料などのファイル\n",
    "* private_info\n",
    "  + 受講者個人毎に異なる情報を格納"
   ]
  },
  {
   "cell_type": "markdown",
   "metadata": {},
   "source": [
    "## 1. この講座の教材を初めて利用する場合"
   ]
  },
  {
   "cell_type": "markdown",
   "metadata": {},
   "source": [
    "### 1.1 演習実施の流れ\n",
    "---\n",
    "教材はHomeディレクトリにあるフォルダ「textbook」に格納されています。これを入手して演習を実施します。<br/>\n",
    "課題が与えられた場合は、指示に従って回答ファイルを作成します。<br/>\n",
    "演習実施は概ね下記の流れになります。\n",
    "\n",
    "1. 教材の入手\n",
    "2. 演習の実施\n",
    "3. 課題の回答作成"
   ]
  },
  {
   "cell_type": "markdown",
   "metadata": {},
   "source": [
    "![documentflowstudent-1](https://cloud.githubusercontent.com/assets/1156894/26245034/3f31ff74-3ccd-11e7-9738-62f7d9a70178.png)"
   ]
  },
  {
   "cell_type": "markdown",
   "metadata": {},
   "source": [
    "### 1.2 教材を入手する\n",
    "---\n",
    "教材の入手は、notebook [10_AcquireMaterials.ipynb](./10_AcquireMaterials.ipynb) で行って下さい。<br/>\n",
    "入手した教材は、Homeディレクトリ直下に展開されます。"
   ]
  },
  {
   "cell_type": "markdown",
   "metadata": {},
   "source": [
    "### 1.3 演習の実施\n",
    "---\n",
    "指示に従って演習を実施して下さい。<br/>\n",
    "notebookの操作に関しては、[こちら](./02_JupyterOperationTips.ipynb)を参考にして下さい。"
   ]
  },
  {
   "cell_type": "markdown",
   "metadata": {},
   "source": [
    "## 2. 教材が更新された場合\n",
    "特に講座が複数の日に跨る場合、教材が変更されるケースがあります。<br/>\n",
    "教材に変更があった場合は、こちらの手順で教材を更新して演習を実施します。"
   ]
  },
  {
   "cell_type": "markdown",
   "metadata": {},
   "source": [
    "### 2.1 教材が更新された場合の演習実施の流れ\n",
    "---\n",
    "教材の変更はHomeディレクトリにあるフォルダ「textbook」に格納されています。これを入手して演習を実施します。<br/>\n",
    "演習実施は概ね下記の流れになります。「3. 演習の実施」以降は「1. この講座の教材を初めて利用する場合」と同じです。\n",
    "\n",
    "1. 教材の更新を確認\n",
    "2. 教材を更新\n",
    "3. 演習の実施\n",
    "4. 課題の回答作成"
   ]
  },
  {
   "cell_type": "markdown",
   "metadata": {},
   "source": [
    "![documentflowstudent-2](https://cloud.githubusercontent.com/assets/1156894/26245041/45eb65c6-3ccd-11e7-9fbf-ce92a455e548.png)"
   ]
  },
  {
   "cell_type": "markdown",
   "metadata": {},
   "source": [
    "### 2.2 教材の更新を確認する\n",
    "---\n",
    "教材が更新内容は、notebook [11_CheckUpdate.ipynb](./11_CheckUpdate.ipynb) で確認できます。このnotebookを利用して下さい。<br/>"
   ]
  },
  {
   "cell_type": "markdown",
   "metadata": {},
   "source": [
    "### 2.3 教材を更新する\n",
    "---\n",
    "textbookから更新された教材を取得して、Homeディレクトリ配下の教材を更新します。<br/>\n",
    "#### 更新された教材を個別に更新する場合\n",
    "更新された教材の中から特定の教材のみを更新する場合は、notebook [12_UpdateMaterials.ipynb](./12_UpdateMaterials.ipynb) を利用して下さい。<br/>\n",
    "#### 更新された教材を一括更新する場合\n",
    "更新された教材を一括更新する場合は、notebook [10_AcquireMaterials.ipynb](./10_AcquireMaterials.ipynb) を利用して下さい。<br/>"
   ]
  }
 ],
 "metadata": {
  "kernelspec": {
   "display_name": "Python 3",
   "language": "python",
   "name": "python3"
  },
  "language_info": {
   "codemirror_mode": {
    "name": "ipython",
    "version": 3
   },
   "file_extension": ".py",
   "mimetype": "text/x-python",
   "name": "python",
   "nbconvert_exporter": "python",
   "pygments_lexer": "ipython3",
   "version": "3.7.1"
  },
  "toc": {
   "colors": {
    "hover_highlight": "#DAA520",
    "navigate_num": "#000000",
    "navigate_text": "#333333",
    "running_highlight": "#FF0000",
    "selected_highlight": "#FFD700",
    "sidebar_border": "#EEEEEE",
    "wrapper_background": "#FFFFFF"
   },
   "moveMenuLeft": true,
   "nav_menu": {
    "height": "225px",
    "width": "252px"
   },
   "navigate_menu": true,
   "number_sections": true,
   "sideBar": true,
   "threshold": 4,
   "toc_cell": false,
   "toc_section_display": "block",
   "toc_window_display": false,
   "widenNotebook": false
  }
 },
 "nbformat": 4,
 "nbformat_minor": 1
}
