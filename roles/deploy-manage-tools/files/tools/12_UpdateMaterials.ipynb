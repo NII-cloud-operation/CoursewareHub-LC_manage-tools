{
 "cells": [
  {
   "cell_type": "markdown",
   "metadata": {
    "lc_cell_meme": {
     "current": "aaa354ca-fe70-11ef-9b05-02420a640257",
     "next": "aaa35510-fe70-11ef-9b05-02420a640257",
     "previous": null
    }
   },
   "source": [
    "# 教材の更新\n",
    "---"
   ]
  },
  {
   "cell_type": "markdown",
   "metadata": {
    "lc_cell_meme": {
     "current": "aaa35510-fe70-11ef-9b05-02420a640257",
     "next": "aaa35542-fe70-11ef-9b05-02420a640257",
     "previous": "aaa354ca-fe70-11ef-9b05-02420a640257"
    }
   },
   "source": [
    "Homeディレクトリに配置されている教材を、 `textbook` フォルダの教材で更新します。\n",
    "\n",
    "はじめに、次のセルを実行して、更新されたファイルを確認して下さい。\n",
    "\n",
    "ファイル毎の更新内容を確認するには、[11_CheckUpdate.ipynb](11_CheckUpdate.ipynb)を利用して下さい。\n",
    "\n",
    "このセルで利用しているスクリプトはこちらを参照して下さい。\n",
    "  + [notebook-diff](./notebook-diff)"
   ]
  },
  {
   "cell_type": "code",
   "execution_count": null,
   "metadata": {
    "deletable": false,
    "editable": false,
    "lc_cell_meme": {
     "current": "aaa35542-fe70-11ef-9b05-02420a640257",
     "next": "aaa35600-fe70-11ef-9b05-02420a640257",
     "previous": "aaa35510-fe70-11ef-9b05-02420a640257"
    },
    "run_through_control": {
     "frozen": false
    }
   },
   "outputs": [],
   "source": [
    "%%bash\n",
    "\n",
    "./notebook-diff ~/${CWH_COURSE_NAME}/textbook/ ~/${CWH_COURSE_NAME}\n",
    "if [ $? -ne 0 ]; then\n",
    "  echo 'There are updates available.' 1>&2\n",
    "else\n",
    "  echo 'No updates are available' 1>&2\n",
    "fi"
   ]
  },
  {
   "cell_type": "markdown",
   "metadata": {
    "lc_cell_meme": {
     "current": "aaa35600-fe70-11ef-9b05-02420a640257",
     "next": "aaa35628-fe70-11ef-9b05-02420a640257",
     "previous": "aaa35542-fe70-11ef-9b05-02420a640257"
    }
   },
   "source": [
    "更新する教材が特定できたら、次のセルで `cp` コマンドを実行して下さい。\n",
    "\n",
    "`textbook` フォルダの教材をHomeディレクトリにコピーします。\n",
    "\n",
    "```\n",
    "cp -r ~/textbook/notebook-1.ipynb ~/.\n",
    "```"
   ]
  },
  {
   "cell_type": "code",
   "execution_count": null,
   "metadata": {
    "lc_cell_meme": {
     "current": "aaa35628-fe70-11ef-9b05-02420a640257",
     "next": null,
     "previous": "aaa35600-fe70-11ef-9b05-02420a640257"
    }
   },
   "outputs": [],
   "source": []
  }
 ],
 "metadata": {
  "kernelspec": {
   "display_name": "Python 3",
   "language": "python",
   "name": "python3"
  },
  "language_info": {
   "file_extension": ".py",
   "mimetype": "text/x-python",
   "name": "python",
   "nbconvert_exporter": "python",
   "pygments_lexer": "ipython3",
   "version": "3.10.11"
  },
  "lc_notebook_meme": {
   "current": "aaa353b2-fe70-11ef-9b05-02420a640257"
  },
  "toc": {
   "base_numbering": 1,
   "nav_menu": {},
   "number_sections": true,
   "sideBar": true,
   "skip_h1_title": false,
   "title_cell": "Table of Contents",
   "title_sidebar": "Contents",
   "toc_cell": false,
   "toc_position": {},
   "toc_section_display": true,
   "toc_window_display": false
  }
 },
 "nbformat": 4,
 "nbformat_minor": 2
}
