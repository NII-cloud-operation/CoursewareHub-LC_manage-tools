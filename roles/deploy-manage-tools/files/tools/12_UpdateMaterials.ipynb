{
 "cells": [
  {
   "cell_type": "markdown",
   "metadata": {},
   "source": [
    "# 教材の更新\n",
    "---"
   ]
  },
  {
   "cell_type": "markdown",
   "metadata": {},
   "source": [
    "Homeディレクトリに配置されている教材を、 `textbook` フォルダの教材で更新します。\n",
    "\n",
    "はじめに、次のセルを実行して、更新されたファイルを確認して下さい。\n",
    "\n",
    "ファイル毎の更新内容を確認するには、[11_CheckUpdate.ipynb](11_CheckUpdate.ipynb)を利用して下さい。\n",
    "\n",
    "このセルで利用しているスクリプトはこちらを参照して下さい。\n",
    "  + [notebook-diff](./notebook-diff)"
   ]
  },
  {
   "cell_type": "code",
   "execution_count": null,
   "metadata": {},
   "outputs": [],
   "source": [
    "%%bash\n",
    "\n",
    "./notebook-diff ~/textbook/ ~/\n",
    "if [ $? -ne 0 ]; then\n",
    "  echo 'There are updates available.' 1>&2\n",
    "else\n",
    "  echo 'No updates are available' 1>&2\n",
    "fi"
   ]
  },
  {
   "cell_type": "markdown",
   "metadata": {},
   "source": [
    "更新する教材が特定できたら、次のセルで `cp` コマンドを実行して下さい。\n",
    "\n",
    "`textbook` フォルダの教材をHomeディレクトリにコピーします。\n",
    "\n",
    "```\n",
    "cp -r ~/textbook/notebook-1.ipynb ~/.\n",
    "```"
   ]
  },
  {
   "cell_type": "code",
   "execution_count": null,
   "metadata": {},
   "outputs": [],
   "source": []
  }
 ],
 "metadata": {
  "kernelspec": {
   "display_name": "Python 3",
   "language": "python",
   "name": "python3"
  },
  "language_info": {
   "codemirror_mode": {
    "name": "ipython",
    "version": 3
   },
   "file_extension": ".py",
   "mimetype": "text/x-python",
   "name": "python",
   "nbconvert_exporter": "python",
   "pygments_lexer": "ipython3",
   "version": "3.7.1"
  }
 },
 "nbformat": 4,
 "nbformat_minor": 2
}
